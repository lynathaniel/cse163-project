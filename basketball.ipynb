{
 "cells": [
  {
   "cell_type": "markdown",
   "id": "7e83e0d1-66f9-438f-839a-f774a3b95172",
   "metadata": {},
   "source": [
    "# Team Project (Title tbd)"
   ]
  },
  {
   "cell_type": "markdown",
   "id": "b27284b4-0066-4016-9948-5632ba4568a9",
   "metadata": {},
   "source": [
    "## Ideas:\n",
    "- Does regular season win record impact playoff performance?\n",
    "    - Is a winning record enough to do well in the postseason?\n",
    "- Can a player actually \"carry\" a team?\n",
    "    - \n",
    "- "
   ]
  },
  {
   "cell_type": "code",
   "execution_count": 24,
   "id": "83e7f4e2-bd65-4fbb-9da1-3fc772fdb093",
   "metadata": {
    "ExecuteTime": {
     "end_time": "2024-03-09T01:55:28.733954Z",
     "start_time": "2024-03-09T01:55:28.721957Z"
    }
   },
   "outputs": [],
   "source": [
    "import pandas as pd\n",
    "import plotly as px\n",
    "import numpy as np\n",
    "from sklearn.linear_model import LinearRegression\n",
    "import matplotlib.pyplot as plt\n",
    "import plotly.express as pxo"
   ]
  },
  {
   "cell_type": "code",
   "execution_count": 25,
   "id": "3eaec633-5640-4642-a880-6da7647965c0",
   "metadata": {
    "ExecuteTime": {
     "end_time": "2024-03-09T01:55:28.768813Z",
     "start_time": "2024-03-09T01:55:28.745396Z"
    }
   },
   "outputs": [
    {
     "data": {
      "text/plain": "                    Player   Rk Pos  Age   Tm   PER   3PAr   PTS\n0             Nikola Jokić    1   C   27  DEN  31.5  0.146  24.5\n1              Joel Embiid    2   C   28  PHI  31.4  0.151  33.1\n2    Giannis Antetokounmpo    3  PF   28  MIL  29.0  0.134  31.1\n3              Luka Dončić    4  PG   23  DAL  28.7  0.373  32.4\n4            Anthony Davis    5   C   29  LAL  27.8  0.077  25.9\n..                     ...  ...  ..  ...  ...   ...    ...   ...\n217          Dillon Brooks  184  SF   27  MEM   9.4  0.443  14.3\n221          Royce O'Neale  186  SF   29  BRK   9.2  0.707   8.8\n222           Gabe Vincent  187  PG   26  MIA   9.0  0.617   9.4\n226         Reggie Bullock  189  SF   31  DAL   7.7  0.845   7.2\n227            P.J. Tucker  190  PF   37  PHI   5.7  0.622   3.5\n\n[171 rows x 8 columns]",
      "text/html": "<div>\n<style scoped>\n    .dataframe tbody tr th:only-of-type {\n        vertical-align: middle;\n    }\n\n    .dataframe tbody tr th {\n        vertical-align: top;\n    }\n\n    .dataframe thead th {\n        text-align: right;\n    }\n</style>\n<table border=\"1\" class=\"dataframe\">\n  <thead>\n    <tr style=\"text-align: right;\">\n      <th></th>\n      <th>Player</th>\n      <th>Rk</th>\n      <th>Pos</th>\n      <th>Age</th>\n      <th>Tm</th>\n      <th>PER</th>\n      <th>3PAr</th>\n      <th>PTS</th>\n    </tr>\n  </thead>\n  <tbody>\n    <tr>\n      <th>0</th>\n      <td>Nikola Jokić</td>\n      <td>1</td>\n      <td>C</td>\n      <td>27</td>\n      <td>DEN</td>\n      <td>31.5</td>\n      <td>0.146</td>\n      <td>24.5</td>\n    </tr>\n    <tr>\n      <th>1</th>\n      <td>Joel Embiid</td>\n      <td>2</td>\n      <td>C</td>\n      <td>28</td>\n      <td>PHI</td>\n      <td>31.4</td>\n      <td>0.151</td>\n      <td>33.1</td>\n    </tr>\n    <tr>\n      <th>2</th>\n      <td>Giannis Antetokounmpo</td>\n      <td>3</td>\n      <td>PF</td>\n      <td>28</td>\n      <td>MIL</td>\n      <td>29.0</td>\n      <td>0.134</td>\n      <td>31.1</td>\n    </tr>\n    <tr>\n      <th>3</th>\n      <td>Luka Dončić</td>\n      <td>4</td>\n      <td>PG</td>\n      <td>23</td>\n      <td>DAL</td>\n      <td>28.7</td>\n      <td>0.373</td>\n      <td>32.4</td>\n    </tr>\n    <tr>\n      <th>4</th>\n      <td>Anthony Davis</td>\n      <td>5</td>\n      <td>C</td>\n      <td>29</td>\n      <td>LAL</td>\n      <td>27.8</td>\n      <td>0.077</td>\n      <td>25.9</td>\n    </tr>\n    <tr>\n      <th>...</th>\n      <td>...</td>\n      <td>...</td>\n      <td>...</td>\n      <td>...</td>\n      <td>...</td>\n      <td>...</td>\n      <td>...</td>\n      <td>...</td>\n    </tr>\n    <tr>\n      <th>217</th>\n      <td>Dillon Brooks</td>\n      <td>184</td>\n      <td>SF</td>\n      <td>27</td>\n      <td>MEM</td>\n      <td>9.4</td>\n      <td>0.443</td>\n      <td>14.3</td>\n    </tr>\n    <tr>\n      <th>221</th>\n      <td>Royce O'Neale</td>\n      <td>186</td>\n      <td>SF</td>\n      <td>29</td>\n      <td>BRK</td>\n      <td>9.2</td>\n      <td>0.707</td>\n      <td>8.8</td>\n    </tr>\n    <tr>\n      <th>222</th>\n      <td>Gabe Vincent</td>\n      <td>187</td>\n      <td>PG</td>\n      <td>26</td>\n      <td>MIA</td>\n      <td>9.0</td>\n      <td>0.617</td>\n      <td>9.4</td>\n    </tr>\n    <tr>\n      <th>226</th>\n      <td>Reggie Bullock</td>\n      <td>189</td>\n      <td>SF</td>\n      <td>31</td>\n      <td>DAL</td>\n      <td>7.7</td>\n      <td>0.845</td>\n      <td>7.2</td>\n    </tr>\n    <tr>\n      <th>227</th>\n      <td>P.J. Tucker</td>\n      <td>190</td>\n      <td>PF</td>\n      <td>37</td>\n      <td>PHI</td>\n      <td>5.7</td>\n      <td>0.622</td>\n      <td>3.5</td>\n    </tr>\n  </tbody>\n</table>\n<p>171 rows × 8 columns</p>\n</div>"
     },
     "execution_count": 25,
     "metadata": {},
     "output_type": "execute_result"
    }
   ],
   "source": [
    "per = pd.read_csv(\"data/per.csv\", index_col=\"Player\")\n",
    "ppg = pd.read_csv(\"data/ppg.csv\")\n",
    "ppg.drop(columns=[\"Player-additional\", \"Rk\"], inplace=True)\n",
    "per = per.rename(columns={\"PER▼\":\"PER\"})\n",
    "per.drop(columns=\"Player-additional\", inplace=True)\n",
    "per = per.merge(ppg, left_on=\"Player\", right_on=\"Player\", how=\"inner\")\n",
    "per = per[per[\"Tm\"] != \"TOT\"]\n",
    "per"
   ]
  },
  {
   "cell_type": "code",
   "execution_count": 26,
   "id": "28e5b1b8-8406-4351-aecb-f9d6a94131ec",
   "metadata": {
    "ExecuteTime": {
     "end_time": "2024-03-09T01:55:28.797487Z",
     "start_time": "2024-03-09T01:55:28.763995Z"
    }
   },
   "outputs": [
    {
     "data": {
      "text/plain": "                          Rk   G    FG   FGA    FG%    3P   3PA    3P%    2P  \\\nTeam                                                                           \nSacramento Kings         1.0  82  43.6  88.2  0.494  13.8  37.3  0.369  29.8   \nGolden State Warriors    2.0  82  43.1  90.2  0.479  16.6  43.2  0.385  26.5   \nAtlanta Hawks            3.0  82  44.6  92.4  0.483  10.8  30.5  0.352  33.9   \nBoston Celtics           4.0  82  42.2  88.8  0.475  16.0  42.6  0.377  26.2   \nOklahoma City Thunder    5.0  82  43.1  92.6  0.465  12.1  34.1  0.356  31.0   \nLos Angeles Lakers       6.0  82  42.9  89.0  0.482  10.8  31.2  0.346  32.1   \nUtah Jazz                7.0  82  42.5  89.8  0.473  13.3  37.8  0.353  29.2   \nMemphis Grizzlies        8.0  82  43.7  92.1  0.475  12.0  34.2  0.351  31.7   \nMilwaukee Bucks          9.0  82  42.7  90.4  0.473  14.8  40.3  0.368  27.9   \nIndiana Pacers          10.0  82  42.0  89.6  0.469  13.6  37.0  0.367  28.4   \nNew York Knicks         11.0  82  42.0  89.4  0.470  12.6  35.7  0.354  29.4   \nDenver Nuggets          12.0  82  43.6  86.4  0.504  11.8  31.2  0.379  31.8   \nMinnesota Timberwolves  13.0  82  42.9  87.4  0.490  12.2  33.3  0.365  30.7   \nPhiladelphia 76ers      14.0  82  40.8  83.8  0.487  12.6  32.6  0.387  28.2   \nNew Orleans Pelicans    15.0  82  42.0  87.6  0.480  11.0  30.1  0.364  31.1   \nDallas Mavericks        16.0  82  40.0  84.3  0.475  15.2  41.0  0.371  24.8   \nPhoenix Suns            17.0  82  42.1  90.1  0.467  12.2  32.6  0.374  29.9   \nLos Angeles Clippers    18.0  82  41.1  86.1  0.477  12.7  33.4  0.381  28.4   \nPortland Trail Blazers  19.0  82  40.5  85.4  0.474  12.9  35.3  0.365  27.6   \nBrooklyn Nets           20.0  82  41.5  85.1  0.487  12.8  33.8  0.378  28.7   \nWashington Wizards      21.0  82  42.1  86.9  0.485  11.3  31.7  0.356  30.9   \nChicago Bulls           22.0  82  42.5  86.8  0.490  10.4  28.9  0.361  32.1   \nSan Antonio Spurs       23.0  82  43.1  92.6  0.465  11.1  32.2  0.345  32.0   \nToronto Raptors         24.0  82  41.9  91.3  0.459  10.7  32.0  0.335  31.1   \nCleveland Cavaliers     25.0  82  41.6  85.2  0.488  11.6  31.6  0.367  30.0   \nOrlando Magic           26.0  82  40.5  86.3  0.470  10.8  31.1  0.346  29.8   \nCharlotte Hornets       27.0  82  41.3  90.4  0.457  10.7  32.5  0.330  30.5   \nHouston Rockets         28.0  82  40.6  88.9  0.457  10.4  31.9  0.327  30.2   \nDetroit Pistons         29.0  82  39.6  87.1  0.454  11.4  32.4  0.351  28.2   \nMiami Heat              30.0  82  39.2  85.3  0.460  12.0  34.8  0.344  27.3   \nLeague Average           NaN  82  42.0  88.3  0.475  12.3  34.2  0.361  29.6   \n\n                         2PA    2P%    FT   FTA    FT%   AST   TOV    PTS  \nTeam                                                                       \nSacramento Kings        50.9  0.586  19.8  25.1  0.790  27.3  13.5  120.7  \nGolden State Warriors   47.0  0.564  16.0  20.2  0.794  29.8  16.3  118.9  \nAtlanta Hawks           61.8  0.548  18.5  22.6  0.818  25.0  12.9  118.4  \nBoston Celtics          46.2  0.567  17.5  21.6  0.812  26.7  13.4  117.9  \nOklahoma City Thunder   58.5  0.530  19.2  23.7  0.809  24.4  13.0  117.5  \nLos Angeles Lakers      57.8  0.555  20.6  26.6  0.775  25.3  14.1  117.2  \nUtah Jazz               52.0  0.560  18.7  23.8  0.786  26.0  15.4  117.1  \nMemphis Grizzlies       57.9  0.548  17.5  23.8  0.733  26.0  13.6  116.9  \nMilwaukee Bucks         50.1  0.557  16.6  22.4  0.743  25.8  14.6  116.9  \nIndiana Pacers          52.6  0.540  18.7  23.7  0.790  27.0  14.9  116.3  \nNew York Knicks         53.6  0.547  19.4  25.5  0.761  22.9  13.0  116.0  \nDenver Nuggets          55.2  0.575  16.8  22.4  0.751  28.9  14.5  115.8  \nMinnesota Timberwolves  54.1  0.568  17.9  23.7  0.755  26.2  15.3  115.8  \nPhiladelphia 76ers      51.2  0.551  21.0  25.1  0.835  25.2  13.7  115.2  \nNew Orleans Pelicans    57.5  0.541  19.3  24.4  0.793  25.9  14.6  114.4  \nDallas Mavericks        43.3  0.574  19.0  25.1  0.755  22.9  12.2  114.2  \nPhoenix Suns            57.5  0.520  17.2  21.7  0.793  27.3  13.5  113.6  \nLos Angeles Clippers    52.7  0.539  18.7  23.9  0.781  23.9  14.2  113.6  \nPortland Trail Blazers  50.1  0.550  19.6  24.6  0.796  24.2  14.5  113.4  \nBrooklyn Nets           51.3  0.559  17.7  22.1  0.800  25.5  13.7  113.4  \nWashington Wizards      55.2  0.559  17.6  22.4  0.785  25.4  14.1  113.2  \nChicago Bulls           57.9  0.555  17.6  21.8  0.809  24.5  13.4  113.1  \nSan Antonio Spurs       60.4  0.529  15.8  21.2  0.743  27.2  15.3  113.0  \nToronto Raptors         59.3  0.525  18.4  23.4  0.784  23.9  11.7  112.9  \nCleveland Cavaliers     53.6  0.559  17.5  22.5  0.780  24.9  13.3  112.3  \nOrlando Magic           55.2  0.539  19.6  25.0  0.784  23.2  15.1  111.4  \nCharlotte Hornets       57.9  0.528  17.6  23.6  0.749  25.1  14.2  111.0  \nHouston Rockets         56.9  0.530  19.1  25.3  0.754  22.4  16.2  110.7  \nDetroit Pistons         54.6  0.516  19.8  25.7  0.771  23.0  15.1  110.3  \nMiami Heat              50.5  0.540  19.1  23.0  0.831  23.8  13.5  109.5  \nLeague Average          54.1  0.548  18.4  23.5  0.782  25.3  14.1  114.7  ",
      "text/html": "<div>\n<style scoped>\n    .dataframe tbody tr th:only-of-type {\n        vertical-align: middle;\n    }\n\n    .dataframe tbody tr th {\n        vertical-align: top;\n    }\n\n    .dataframe thead th {\n        text-align: right;\n    }\n</style>\n<table border=\"1\" class=\"dataframe\">\n  <thead>\n    <tr style=\"text-align: right;\">\n      <th></th>\n      <th>Rk</th>\n      <th>G</th>\n      <th>FG</th>\n      <th>FGA</th>\n      <th>FG%</th>\n      <th>3P</th>\n      <th>3PA</th>\n      <th>3P%</th>\n      <th>2P</th>\n      <th>2PA</th>\n      <th>2P%</th>\n      <th>FT</th>\n      <th>FTA</th>\n      <th>FT%</th>\n      <th>AST</th>\n      <th>TOV</th>\n      <th>PTS</th>\n    </tr>\n    <tr>\n      <th>Team</th>\n      <th></th>\n      <th></th>\n      <th></th>\n      <th></th>\n      <th></th>\n      <th></th>\n      <th></th>\n      <th></th>\n      <th></th>\n      <th></th>\n      <th></th>\n      <th></th>\n      <th></th>\n      <th></th>\n      <th></th>\n      <th></th>\n      <th></th>\n    </tr>\n  </thead>\n  <tbody>\n    <tr>\n      <th>Sacramento Kings</th>\n      <td>1.0</td>\n      <td>82</td>\n      <td>43.6</td>\n      <td>88.2</td>\n      <td>0.494</td>\n      <td>13.8</td>\n      <td>37.3</td>\n      <td>0.369</td>\n      <td>29.8</td>\n      <td>50.9</td>\n      <td>0.586</td>\n      <td>19.8</td>\n      <td>25.1</td>\n      <td>0.790</td>\n      <td>27.3</td>\n      <td>13.5</td>\n      <td>120.7</td>\n    </tr>\n    <tr>\n      <th>Golden State Warriors</th>\n      <td>2.0</td>\n      <td>82</td>\n      <td>43.1</td>\n      <td>90.2</td>\n      <td>0.479</td>\n      <td>16.6</td>\n      <td>43.2</td>\n      <td>0.385</td>\n      <td>26.5</td>\n      <td>47.0</td>\n      <td>0.564</td>\n      <td>16.0</td>\n      <td>20.2</td>\n      <td>0.794</td>\n      <td>29.8</td>\n      <td>16.3</td>\n      <td>118.9</td>\n    </tr>\n    <tr>\n      <th>Atlanta Hawks</th>\n      <td>3.0</td>\n      <td>82</td>\n      <td>44.6</td>\n      <td>92.4</td>\n      <td>0.483</td>\n      <td>10.8</td>\n      <td>30.5</td>\n      <td>0.352</td>\n      <td>33.9</td>\n      <td>61.8</td>\n      <td>0.548</td>\n      <td>18.5</td>\n      <td>22.6</td>\n      <td>0.818</td>\n      <td>25.0</td>\n      <td>12.9</td>\n      <td>118.4</td>\n    </tr>\n    <tr>\n      <th>Boston Celtics</th>\n      <td>4.0</td>\n      <td>82</td>\n      <td>42.2</td>\n      <td>88.8</td>\n      <td>0.475</td>\n      <td>16.0</td>\n      <td>42.6</td>\n      <td>0.377</td>\n      <td>26.2</td>\n      <td>46.2</td>\n      <td>0.567</td>\n      <td>17.5</td>\n      <td>21.6</td>\n      <td>0.812</td>\n      <td>26.7</td>\n      <td>13.4</td>\n      <td>117.9</td>\n    </tr>\n    <tr>\n      <th>Oklahoma City Thunder</th>\n      <td>5.0</td>\n      <td>82</td>\n      <td>43.1</td>\n      <td>92.6</td>\n      <td>0.465</td>\n      <td>12.1</td>\n      <td>34.1</td>\n      <td>0.356</td>\n      <td>31.0</td>\n      <td>58.5</td>\n      <td>0.530</td>\n      <td>19.2</td>\n      <td>23.7</td>\n      <td>0.809</td>\n      <td>24.4</td>\n      <td>13.0</td>\n      <td>117.5</td>\n    </tr>\n    <tr>\n      <th>Los Angeles Lakers</th>\n      <td>6.0</td>\n      <td>82</td>\n      <td>42.9</td>\n      <td>89.0</td>\n      <td>0.482</td>\n      <td>10.8</td>\n      <td>31.2</td>\n      <td>0.346</td>\n      <td>32.1</td>\n      <td>57.8</td>\n      <td>0.555</td>\n      <td>20.6</td>\n      <td>26.6</td>\n      <td>0.775</td>\n      <td>25.3</td>\n      <td>14.1</td>\n      <td>117.2</td>\n    </tr>\n    <tr>\n      <th>Utah Jazz</th>\n      <td>7.0</td>\n      <td>82</td>\n      <td>42.5</td>\n      <td>89.8</td>\n      <td>0.473</td>\n      <td>13.3</td>\n      <td>37.8</td>\n      <td>0.353</td>\n      <td>29.2</td>\n      <td>52.0</td>\n      <td>0.560</td>\n      <td>18.7</td>\n      <td>23.8</td>\n      <td>0.786</td>\n      <td>26.0</td>\n      <td>15.4</td>\n      <td>117.1</td>\n    </tr>\n    <tr>\n      <th>Memphis Grizzlies</th>\n      <td>8.0</td>\n      <td>82</td>\n      <td>43.7</td>\n      <td>92.1</td>\n      <td>0.475</td>\n      <td>12.0</td>\n      <td>34.2</td>\n      <td>0.351</td>\n      <td>31.7</td>\n      <td>57.9</td>\n      <td>0.548</td>\n      <td>17.5</td>\n      <td>23.8</td>\n      <td>0.733</td>\n      <td>26.0</td>\n      <td>13.6</td>\n      <td>116.9</td>\n    </tr>\n    <tr>\n      <th>Milwaukee Bucks</th>\n      <td>9.0</td>\n      <td>82</td>\n      <td>42.7</td>\n      <td>90.4</td>\n      <td>0.473</td>\n      <td>14.8</td>\n      <td>40.3</td>\n      <td>0.368</td>\n      <td>27.9</td>\n      <td>50.1</td>\n      <td>0.557</td>\n      <td>16.6</td>\n      <td>22.4</td>\n      <td>0.743</td>\n      <td>25.8</td>\n      <td>14.6</td>\n      <td>116.9</td>\n    </tr>\n    <tr>\n      <th>Indiana Pacers</th>\n      <td>10.0</td>\n      <td>82</td>\n      <td>42.0</td>\n      <td>89.6</td>\n      <td>0.469</td>\n      <td>13.6</td>\n      <td>37.0</td>\n      <td>0.367</td>\n      <td>28.4</td>\n      <td>52.6</td>\n      <td>0.540</td>\n      <td>18.7</td>\n      <td>23.7</td>\n      <td>0.790</td>\n      <td>27.0</td>\n      <td>14.9</td>\n      <td>116.3</td>\n    </tr>\n    <tr>\n      <th>New York Knicks</th>\n      <td>11.0</td>\n      <td>82</td>\n      <td>42.0</td>\n      <td>89.4</td>\n      <td>0.470</td>\n      <td>12.6</td>\n      <td>35.7</td>\n      <td>0.354</td>\n      <td>29.4</td>\n      <td>53.6</td>\n      <td>0.547</td>\n      <td>19.4</td>\n      <td>25.5</td>\n      <td>0.761</td>\n      <td>22.9</td>\n      <td>13.0</td>\n      <td>116.0</td>\n    </tr>\n    <tr>\n      <th>Denver Nuggets</th>\n      <td>12.0</td>\n      <td>82</td>\n      <td>43.6</td>\n      <td>86.4</td>\n      <td>0.504</td>\n      <td>11.8</td>\n      <td>31.2</td>\n      <td>0.379</td>\n      <td>31.8</td>\n      <td>55.2</td>\n      <td>0.575</td>\n      <td>16.8</td>\n      <td>22.4</td>\n      <td>0.751</td>\n      <td>28.9</td>\n      <td>14.5</td>\n      <td>115.8</td>\n    </tr>\n    <tr>\n      <th>Minnesota Timberwolves</th>\n      <td>13.0</td>\n      <td>82</td>\n      <td>42.9</td>\n      <td>87.4</td>\n      <td>0.490</td>\n      <td>12.2</td>\n      <td>33.3</td>\n      <td>0.365</td>\n      <td>30.7</td>\n      <td>54.1</td>\n      <td>0.568</td>\n      <td>17.9</td>\n      <td>23.7</td>\n      <td>0.755</td>\n      <td>26.2</td>\n      <td>15.3</td>\n      <td>115.8</td>\n    </tr>\n    <tr>\n      <th>Philadelphia 76ers</th>\n      <td>14.0</td>\n      <td>82</td>\n      <td>40.8</td>\n      <td>83.8</td>\n      <td>0.487</td>\n      <td>12.6</td>\n      <td>32.6</td>\n      <td>0.387</td>\n      <td>28.2</td>\n      <td>51.2</td>\n      <td>0.551</td>\n      <td>21.0</td>\n      <td>25.1</td>\n      <td>0.835</td>\n      <td>25.2</td>\n      <td>13.7</td>\n      <td>115.2</td>\n    </tr>\n    <tr>\n      <th>New Orleans Pelicans</th>\n      <td>15.0</td>\n      <td>82</td>\n      <td>42.0</td>\n      <td>87.6</td>\n      <td>0.480</td>\n      <td>11.0</td>\n      <td>30.1</td>\n      <td>0.364</td>\n      <td>31.1</td>\n      <td>57.5</td>\n      <td>0.541</td>\n      <td>19.3</td>\n      <td>24.4</td>\n      <td>0.793</td>\n      <td>25.9</td>\n      <td>14.6</td>\n      <td>114.4</td>\n    </tr>\n    <tr>\n      <th>Dallas Mavericks</th>\n      <td>16.0</td>\n      <td>82</td>\n      <td>40.0</td>\n      <td>84.3</td>\n      <td>0.475</td>\n      <td>15.2</td>\n      <td>41.0</td>\n      <td>0.371</td>\n      <td>24.8</td>\n      <td>43.3</td>\n      <td>0.574</td>\n      <td>19.0</td>\n      <td>25.1</td>\n      <td>0.755</td>\n      <td>22.9</td>\n      <td>12.2</td>\n      <td>114.2</td>\n    </tr>\n    <tr>\n      <th>Phoenix Suns</th>\n      <td>17.0</td>\n      <td>82</td>\n      <td>42.1</td>\n      <td>90.1</td>\n      <td>0.467</td>\n      <td>12.2</td>\n      <td>32.6</td>\n      <td>0.374</td>\n      <td>29.9</td>\n      <td>57.5</td>\n      <td>0.520</td>\n      <td>17.2</td>\n      <td>21.7</td>\n      <td>0.793</td>\n      <td>27.3</td>\n      <td>13.5</td>\n      <td>113.6</td>\n    </tr>\n    <tr>\n      <th>Los Angeles Clippers</th>\n      <td>18.0</td>\n      <td>82</td>\n      <td>41.1</td>\n      <td>86.1</td>\n      <td>0.477</td>\n      <td>12.7</td>\n      <td>33.4</td>\n      <td>0.381</td>\n      <td>28.4</td>\n      <td>52.7</td>\n      <td>0.539</td>\n      <td>18.7</td>\n      <td>23.9</td>\n      <td>0.781</td>\n      <td>23.9</td>\n      <td>14.2</td>\n      <td>113.6</td>\n    </tr>\n    <tr>\n      <th>Portland Trail Blazers</th>\n      <td>19.0</td>\n      <td>82</td>\n      <td>40.5</td>\n      <td>85.4</td>\n      <td>0.474</td>\n      <td>12.9</td>\n      <td>35.3</td>\n      <td>0.365</td>\n      <td>27.6</td>\n      <td>50.1</td>\n      <td>0.550</td>\n      <td>19.6</td>\n      <td>24.6</td>\n      <td>0.796</td>\n      <td>24.2</td>\n      <td>14.5</td>\n      <td>113.4</td>\n    </tr>\n    <tr>\n      <th>Brooklyn Nets</th>\n      <td>20.0</td>\n      <td>82</td>\n      <td>41.5</td>\n      <td>85.1</td>\n      <td>0.487</td>\n      <td>12.8</td>\n      <td>33.8</td>\n      <td>0.378</td>\n      <td>28.7</td>\n      <td>51.3</td>\n      <td>0.559</td>\n      <td>17.7</td>\n      <td>22.1</td>\n      <td>0.800</td>\n      <td>25.5</td>\n      <td>13.7</td>\n      <td>113.4</td>\n    </tr>\n    <tr>\n      <th>Washington Wizards</th>\n      <td>21.0</td>\n      <td>82</td>\n      <td>42.1</td>\n      <td>86.9</td>\n      <td>0.485</td>\n      <td>11.3</td>\n      <td>31.7</td>\n      <td>0.356</td>\n      <td>30.9</td>\n      <td>55.2</td>\n      <td>0.559</td>\n      <td>17.6</td>\n      <td>22.4</td>\n      <td>0.785</td>\n      <td>25.4</td>\n      <td>14.1</td>\n      <td>113.2</td>\n    </tr>\n    <tr>\n      <th>Chicago Bulls</th>\n      <td>22.0</td>\n      <td>82</td>\n      <td>42.5</td>\n      <td>86.8</td>\n      <td>0.490</td>\n      <td>10.4</td>\n      <td>28.9</td>\n      <td>0.361</td>\n      <td>32.1</td>\n      <td>57.9</td>\n      <td>0.555</td>\n      <td>17.6</td>\n      <td>21.8</td>\n      <td>0.809</td>\n      <td>24.5</td>\n      <td>13.4</td>\n      <td>113.1</td>\n    </tr>\n    <tr>\n      <th>San Antonio Spurs</th>\n      <td>23.0</td>\n      <td>82</td>\n      <td>43.1</td>\n      <td>92.6</td>\n      <td>0.465</td>\n      <td>11.1</td>\n      <td>32.2</td>\n      <td>0.345</td>\n      <td>32.0</td>\n      <td>60.4</td>\n      <td>0.529</td>\n      <td>15.8</td>\n      <td>21.2</td>\n      <td>0.743</td>\n      <td>27.2</td>\n      <td>15.3</td>\n      <td>113.0</td>\n    </tr>\n    <tr>\n      <th>Toronto Raptors</th>\n      <td>24.0</td>\n      <td>82</td>\n      <td>41.9</td>\n      <td>91.3</td>\n      <td>0.459</td>\n      <td>10.7</td>\n      <td>32.0</td>\n      <td>0.335</td>\n      <td>31.1</td>\n      <td>59.3</td>\n      <td>0.525</td>\n      <td>18.4</td>\n      <td>23.4</td>\n      <td>0.784</td>\n      <td>23.9</td>\n      <td>11.7</td>\n      <td>112.9</td>\n    </tr>\n    <tr>\n      <th>Cleveland Cavaliers</th>\n      <td>25.0</td>\n      <td>82</td>\n      <td>41.6</td>\n      <td>85.2</td>\n      <td>0.488</td>\n      <td>11.6</td>\n      <td>31.6</td>\n      <td>0.367</td>\n      <td>30.0</td>\n      <td>53.6</td>\n      <td>0.559</td>\n      <td>17.5</td>\n      <td>22.5</td>\n      <td>0.780</td>\n      <td>24.9</td>\n      <td>13.3</td>\n      <td>112.3</td>\n    </tr>\n    <tr>\n      <th>Orlando Magic</th>\n      <td>26.0</td>\n      <td>82</td>\n      <td>40.5</td>\n      <td>86.3</td>\n      <td>0.470</td>\n      <td>10.8</td>\n      <td>31.1</td>\n      <td>0.346</td>\n      <td>29.8</td>\n      <td>55.2</td>\n      <td>0.539</td>\n      <td>19.6</td>\n      <td>25.0</td>\n      <td>0.784</td>\n      <td>23.2</td>\n      <td>15.1</td>\n      <td>111.4</td>\n    </tr>\n    <tr>\n      <th>Charlotte Hornets</th>\n      <td>27.0</td>\n      <td>82</td>\n      <td>41.3</td>\n      <td>90.4</td>\n      <td>0.457</td>\n      <td>10.7</td>\n      <td>32.5</td>\n      <td>0.330</td>\n      <td>30.5</td>\n      <td>57.9</td>\n      <td>0.528</td>\n      <td>17.6</td>\n      <td>23.6</td>\n      <td>0.749</td>\n      <td>25.1</td>\n      <td>14.2</td>\n      <td>111.0</td>\n    </tr>\n    <tr>\n      <th>Houston Rockets</th>\n      <td>28.0</td>\n      <td>82</td>\n      <td>40.6</td>\n      <td>88.9</td>\n      <td>0.457</td>\n      <td>10.4</td>\n      <td>31.9</td>\n      <td>0.327</td>\n      <td>30.2</td>\n      <td>56.9</td>\n      <td>0.530</td>\n      <td>19.1</td>\n      <td>25.3</td>\n      <td>0.754</td>\n      <td>22.4</td>\n      <td>16.2</td>\n      <td>110.7</td>\n    </tr>\n    <tr>\n      <th>Detroit Pistons</th>\n      <td>29.0</td>\n      <td>82</td>\n      <td>39.6</td>\n      <td>87.1</td>\n      <td>0.454</td>\n      <td>11.4</td>\n      <td>32.4</td>\n      <td>0.351</td>\n      <td>28.2</td>\n      <td>54.6</td>\n      <td>0.516</td>\n      <td>19.8</td>\n      <td>25.7</td>\n      <td>0.771</td>\n      <td>23.0</td>\n      <td>15.1</td>\n      <td>110.3</td>\n    </tr>\n    <tr>\n      <th>Miami Heat</th>\n      <td>30.0</td>\n      <td>82</td>\n      <td>39.2</td>\n      <td>85.3</td>\n      <td>0.460</td>\n      <td>12.0</td>\n      <td>34.8</td>\n      <td>0.344</td>\n      <td>27.3</td>\n      <td>50.5</td>\n      <td>0.540</td>\n      <td>19.1</td>\n      <td>23.0</td>\n      <td>0.831</td>\n      <td>23.8</td>\n      <td>13.5</td>\n      <td>109.5</td>\n    </tr>\n    <tr>\n      <th>League Average</th>\n      <td>NaN</td>\n      <td>82</td>\n      <td>42.0</td>\n      <td>88.3</td>\n      <td>0.475</td>\n      <td>12.3</td>\n      <td>34.2</td>\n      <td>0.361</td>\n      <td>29.6</td>\n      <td>54.1</td>\n      <td>0.548</td>\n      <td>18.4</td>\n      <td>23.5</td>\n      <td>0.782</td>\n      <td>25.3</td>\n      <td>14.1</td>\n      <td>114.7</td>\n    </tr>\n  </tbody>\n</table>\n</div>"
     },
     "execution_count": 26,
     "metadata": {},
     "output_type": "execute_result"
    }
   ],
   "source": [
    "three_pt_atmpts = pd.read_csv(\"data/3pa.csv\", index_col=\"Team\")\n",
    "three_pt_atmpts.rename(index=lambda s: s[:-1] if s.endswith(\"*\") else s, inplace=True)\n",
    "three_pt_atmpts"
   ]
  },
  {
   "cell_type": "code",
   "execution_count": 27,
   "id": "d5819568-c8cb-4536-b358-01ad8c54fd22",
   "metadata": {
    "ExecuteTime": {
     "end_time": "2024-03-09T01:55:28.829995Z",
     "start_time": "2024-03-09T01:55:28.788857Z"
    }
   },
   "outputs": [
    {
     "data": {
      "text/plain": "                      Team Overall abbrev\n0            Atlanta Hawks   41-41    ATL\n1           Boston Celtics   57-25    BOS\n2            Brooklyn Nets   45-37    BKN\n3        Charlotte Hornets   27-55    CHA\n4            Chicago Bulls   40-42    CHI\n5      Cleveland Cavaliers   51-31    CLE\n6         Dallas Mavericks   38-44    DAL\n7           Denver Nuggets   53-29    DEN\n8          Detroit Pistons   17-65    DET\n9    Golden State Warriors   44-38     GS\n10         Houston Rockets   22-60    HOU\n11          Indiana Pacers   35-47    IND\n12    Los Angeles Clippers   44-38    LAC\n13      Los Angeles Lakers   43-39    LAL\n14       Memphis Grizzlies   51-31    MEM\n15              Miami Heat   44-38    MIA\n16         Milwaukee Bucks   58-24    MIL\n17  Minnesota Timberwolves   42-40    MIN\n18    New Orleans Pelicans   42-40     NO\n19         New York Knicks   47-35     NY\n20   Oklahoma City Thunder   40-42    OKC\n21           Orlando Magic   34-48    ORL\n22      Philadelphia 76ers   54-28    PHI\n23            Phoenix Suns   45-37    PHX\n24  Portland Trail Blazers   33-49    POR\n25        Sacramento Kings   48-34    SAC\n26       San Antonio Spurs   22-60     SA\n27         Toronto Raptors   41-41    TOR\n28               Utah Jazz   37-45    UTA\n29      Washington Wizards   35-47    WSH",
      "text/html": "<div>\n<style scoped>\n    .dataframe tbody tr th:only-of-type {\n        vertical-align: middle;\n    }\n\n    .dataframe tbody tr th {\n        vertical-align: top;\n    }\n\n    .dataframe thead th {\n        text-align: right;\n    }\n</style>\n<table border=\"1\" class=\"dataframe\">\n  <thead>\n    <tr style=\"text-align: right;\">\n      <th></th>\n      <th>Team</th>\n      <th>Overall</th>\n      <th>abbrev</th>\n    </tr>\n  </thead>\n  <tbody>\n    <tr>\n      <th>0</th>\n      <td>Atlanta Hawks</td>\n      <td>41-41</td>\n      <td>ATL</td>\n    </tr>\n    <tr>\n      <th>1</th>\n      <td>Boston Celtics</td>\n      <td>57-25</td>\n      <td>BOS</td>\n    </tr>\n    <tr>\n      <th>2</th>\n      <td>Brooklyn Nets</td>\n      <td>45-37</td>\n      <td>BKN</td>\n    </tr>\n    <tr>\n      <th>3</th>\n      <td>Charlotte Hornets</td>\n      <td>27-55</td>\n      <td>CHA</td>\n    </tr>\n    <tr>\n      <th>4</th>\n      <td>Chicago Bulls</td>\n      <td>40-42</td>\n      <td>CHI</td>\n    </tr>\n    <tr>\n      <th>5</th>\n      <td>Cleveland Cavaliers</td>\n      <td>51-31</td>\n      <td>CLE</td>\n    </tr>\n    <tr>\n      <th>6</th>\n      <td>Dallas Mavericks</td>\n      <td>38-44</td>\n      <td>DAL</td>\n    </tr>\n    <tr>\n      <th>7</th>\n      <td>Denver Nuggets</td>\n      <td>53-29</td>\n      <td>DEN</td>\n    </tr>\n    <tr>\n      <th>8</th>\n      <td>Detroit Pistons</td>\n      <td>17-65</td>\n      <td>DET</td>\n    </tr>\n    <tr>\n      <th>9</th>\n      <td>Golden State Warriors</td>\n      <td>44-38</td>\n      <td>GS</td>\n    </tr>\n    <tr>\n      <th>10</th>\n      <td>Houston Rockets</td>\n      <td>22-60</td>\n      <td>HOU</td>\n    </tr>\n    <tr>\n      <th>11</th>\n      <td>Indiana Pacers</td>\n      <td>35-47</td>\n      <td>IND</td>\n    </tr>\n    <tr>\n      <th>12</th>\n      <td>Los Angeles Clippers</td>\n      <td>44-38</td>\n      <td>LAC</td>\n    </tr>\n    <tr>\n      <th>13</th>\n      <td>Los Angeles Lakers</td>\n      <td>43-39</td>\n      <td>LAL</td>\n    </tr>\n    <tr>\n      <th>14</th>\n      <td>Memphis Grizzlies</td>\n      <td>51-31</td>\n      <td>MEM</td>\n    </tr>\n    <tr>\n      <th>15</th>\n      <td>Miami Heat</td>\n      <td>44-38</td>\n      <td>MIA</td>\n    </tr>\n    <tr>\n      <th>16</th>\n      <td>Milwaukee Bucks</td>\n      <td>58-24</td>\n      <td>MIL</td>\n    </tr>\n    <tr>\n      <th>17</th>\n      <td>Minnesota Timberwolves</td>\n      <td>42-40</td>\n      <td>MIN</td>\n    </tr>\n    <tr>\n      <th>18</th>\n      <td>New Orleans Pelicans</td>\n      <td>42-40</td>\n      <td>NO</td>\n    </tr>\n    <tr>\n      <th>19</th>\n      <td>New York Knicks</td>\n      <td>47-35</td>\n      <td>NY</td>\n    </tr>\n    <tr>\n      <th>20</th>\n      <td>Oklahoma City Thunder</td>\n      <td>40-42</td>\n      <td>OKC</td>\n    </tr>\n    <tr>\n      <th>21</th>\n      <td>Orlando Magic</td>\n      <td>34-48</td>\n      <td>ORL</td>\n    </tr>\n    <tr>\n      <th>22</th>\n      <td>Philadelphia 76ers</td>\n      <td>54-28</td>\n      <td>PHI</td>\n    </tr>\n    <tr>\n      <th>23</th>\n      <td>Phoenix Suns</td>\n      <td>45-37</td>\n      <td>PHX</td>\n    </tr>\n    <tr>\n      <th>24</th>\n      <td>Portland Trail Blazers</td>\n      <td>33-49</td>\n      <td>POR</td>\n    </tr>\n    <tr>\n      <th>25</th>\n      <td>Sacramento Kings</td>\n      <td>48-34</td>\n      <td>SAC</td>\n    </tr>\n    <tr>\n      <th>26</th>\n      <td>San Antonio Spurs</td>\n      <td>22-60</td>\n      <td>SA</td>\n    </tr>\n    <tr>\n      <th>27</th>\n      <td>Toronto Raptors</td>\n      <td>41-41</td>\n      <td>TOR</td>\n    </tr>\n    <tr>\n      <th>28</th>\n      <td>Utah Jazz</td>\n      <td>37-45</td>\n      <td>UTA</td>\n    </tr>\n    <tr>\n      <th>29</th>\n      <td>Washington Wizards</td>\n      <td>35-47</td>\n      <td>WSH</td>\n    </tr>\n  </tbody>\n</table>\n</div>"
     },
     "execution_count": 27,
     "metadata": {},
     "output_type": "execute_result"
    }
   ],
   "source": [
    "abbreviations = pd.read_csv(\"data/abbreviations.csv\")\n",
    "teams = pd.read_csv(\"data/teams.csv\")\n",
    "\n",
    "# Rename index and columns to preferred names\n",
    "abbreviations.rename(columns={\"prefix_1\": \"abbrev\"}, inplace=True)\n",
    "\n",
    "# Regularize abbreviations\n",
    "abbreviations[\"abbrev\"] = abbreviations[\"abbrev\"].apply(lambda s: s.upper())\n",
    "\n",
    "# Drop unneeded column\n",
    "abbreviations.drop(columns=\"prefix_2\", inplace=True)\n",
    "abbreviations.loc[abbreviations[\"abbrev\"] == \"NO\", \"name\"] = \"New Orleans Pelicans\"\n",
    "abbreviations.loc[abbreviations[\"abbrev\"] == \"CHA\", \"name\"] = \"Charlotte Hornets\"\n",
    "\n",
    "teams = teams.merge(abbreviations, left_on=\"Team\", right_on=\"name\", how=\"outer\")\n",
    "teams.drop(columns=[\"name\", \"Rk\"])"
   ]
  },
  {
   "cell_type": "markdown",
   "id": "c6de2a8f4247ab4c",
   "metadata": {},
   "source": [
    "## Question 1: How does player efficiency rating (PER) correlate with a team's win-loss record?\n",
    "\n"
   ]
  },
  {
   "cell_type": "code",

   "execution_count": 28,
   "id": "570e5f6933e44fce",
   "metadata": {
    "ExecuteTime": {
     "end_time": "2024-03-09T01:55:28.915270Z",
     "start_time": "2024-03-09T01:55:28.807749Z"
    }
   },
   "outputs": [
    {
     "data": {
      "application/vnd.plotly.v1+json": {
       "data": [
        {
         "hovertemplate": "Tm=ATL<br>PER=%{x}<br>wins=%{y}<extra></extra>",
         "legendgroup": "ATL",
         "marker": {
          "color": "#636efa",
          "symbol": "circle"
         },
         "mode": "markers",
         "name": "ATL",
         "orientation": "v",
         "showlegend": true,
         "x": [
          22.1
         ],
         "xaxis": "x",
         "y": [
          41
         ],
         "yaxis": "y",
         "type": "scatter"
        },
        {
         "hovertemplate": "Tm=BOS<br>PER=%{x}<br>wins=%{y}<extra></extra>",
         "legendgroup": "BOS",
         "marker": {
          "color": "#EF553B",
          "symbol": "circle"
         },
         "mode": "markers",
         "name": "BOS",
         "orientation": "v",
         "showlegend": true,
         "x": [
          23.7
         ],
         "xaxis": "x",
         "y": [
          57
         ],
         "yaxis": "y",
         "type": "scatter"
        },
        {
         "hovertemplate": "Tm=CHI<br>PER=%{x}<br>wins=%{y}<extra></extra>",
         "legendgroup": "CHI",
         "marker": {
          "color": "#00cc96",
          "symbol": "circle"
         },
         "mode": "markers",
         "name": "CHI",
         "orientation": "v",
         "showlegend": true,
         "x": [
          20.6
         ],
         "xaxis": "x",
         "y": [
          40
         ],
         "yaxis": "y",
         "type": "scatter"
        },
        {
         "hovertemplate": "Tm=CHA<br>PER=%{x}<br>wins=%{y}<extra></extra>",
         "legendgroup": "CHA",
         "marker": {
          "color": "#ab63fa",
          "symbol": "circle"
         },
         "mode": "markers",
         "name": "CHA",
         "orientation": "v",
         "showlegend": true,
         "x": [
          14.8
         ],
         "xaxis": "x",
         "y": [
          27
         ],
         "yaxis": "y",
         "type": "scatter"
        },
        {
         "hovertemplate": "Tm=CLE<br>PER=%{x}<br>wins=%{y}<extra></extra>",
         "legendgroup": "CLE",
         "marker": {
          "color": "#FFA15A",
          "symbol": "circle"
         },
         "mode": "markers",
         "name": "CLE",
         "orientation": "v",
         "showlegend": true,
         "x": [
          22.9
         ],
         "xaxis": "x",
         "y": [
          51
         ],
         "yaxis": "y",
         "type": "scatter"
        },
        {
         "hovertemplate": "Tm=DAL<br>PER=%{x}<br>wins=%{y}<extra></extra>",
         "legendgroup": "DAL",
         "marker": {
          "color": "#19d3f3",
          "symbol": "circle"
         },
         "mode": "markers",
         "name": "DAL",
         "orientation": "v",
         "showlegend": true,
         "x": [
          28.7
         ],
         "xaxis": "x",
         "y": [
          38
         ],
         "yaxis": "y",
         "type": "scatter"
        },
        {
         "hovertemplate": "Tm=DEN<br>PER=%{x}<br>wins=%{y}<extra></extra>",
         "legendgroup": "DEN",
         "marker": {
          "color": "#FF6692",
          "symbol": "circle"
         },
         "mode": "markers",
         "name": "DEN",
         "orientation": "v",
         "showlegend": true,
         "x": [
          31.5
         ],
         "xaxis": "x",
         "y": [
          53
         ],
         "yaxis": "y",
         "type": "scatter"
        },
        {
         "hovertemplate": "Tm=DET<br>PER=%{x}<br>wins=%{y}<extra></extra>",
         "legendgroup": "DET",
         "marker": {
          "color": "#B6E880",
          "symbol": "circle"
         },
         "mode": "markers",
         "name": "DET",
         "orientation": "v",
         "showlegend": true,
         "x": [
          17.4
         ],
         "xaxis": "x",
         "y": [
          17
         ],
         "yaxis": "y",
         "type": "scatter"
        },
        {
         "hovertemplate": "Tm=HOU<br>PER=%{x}<br>wins=%{y}<extra></extra>",
         "legendgroup": "HOU",
         "marker": {
          "color": "#FF97FF",
          "symbol": "circle"
         },
         "mode": "markers",
         "name": "HOU",
         "orientation": "v",
         "showlegend": true,
         "x": [
          19.7
         ],
         "xaxis": "x",
         "y": [
          22
         ],
         "yaxis": "y",
         "type": "scatter"
        },
        {
         "hovertemplate": "Tm=IND<br>PER=%{x}<br>wins=%{y}<extra></extra>",
         "legendgroup": "IND",
         "marker": {
          "color": "#FECB52",
          "symbol": "circle"
         },
         "mode": "markers",
         "name": "IND",
         "orientation": "v",
         "showlegend": true,
         "x": [
          23.6
         ],
         "xaxis": "x",
         "y": [
          35
         ],
         "yaxis": "y",
         "type": "scatter"
        },
        {
         "hovertemplate": "Tm=LAC<br>PER=%{x}<br>wins=%{y}<extra></extra>",
         "legendgroup": "LAC",
         "marker": {
          "color": "#636efa",
          "symbol": "circle"
         },
         "mode": "markers",
         "name": "LAC",
         "orientation": "v",
         "showlegend": true,
         "x": [
          23.9
         ],
         "xaxis": "x",
         "y": [
          44
         ],
         "yaxis": "y",
         "type": "scatter"
        },
        {
         "hovertemplate": "Tm=LAL<br>PER=%{x}<br>wins=%{y}<extra></extra>",
         "legendgroup": "LAL",
         "marker": {
          "color": "#EF553B",
          "symbol": "circle"
         },
         "mode": "markers",
         "name": "LAL",
         "orientation": "v",
         "showlegend": true,
         "x": [
          27.8
         ],
         "xaxis": "x",
         "y": [
          43
         ],
         "yaxis": "y",
         "type": "scatter"
        },
        {
         "hovertemplate": "Tm=MEM<br>PER=%{x}<br>wins=%{y}<extra></extra>",
         "legendgroup": "MEM",
         "marker": {
          "color": "#00cc96",
          "symbol": "circle"
         },
         "mode": "markers",
         "name": "MEM",
         "orientation": "v",
         "showlegend": true,
         "x": [
          23.3
         ],
         "xaxis": "x",
         "y": [
          51
         ],
         "yaxis": "y",
         "type": "scatter"
        },
        {
         "hovertemplate": "Tm=MIA<br>PER=%{x}<br>wins=%{y}<extra></extra>",
         "legendgroup": "MIA",
         "marker": {
          "color": "#ab63fa",
          "symbol": "circle"
         },
         "mode": "markers",
         "name": "MIA",
         "orientation": "v",
         "showlegend": true,
         "x": [
          27.6
         ],
         "xaxis": "x",
         "y": [
          44
         ],
         "yaxis": "y",
         "type": "scatter"
        },
        {
         "hovertemplate": "Tm=MIL<br>PER=%{x}<br>wins=%{y}<extra></extra>",
         "legendgroup": "MIL",
         "marker": {
          "color": "#FFA15A",
          "symbol": "circle"
         },
         "mode": "markers",
         "name": "MIL",
         "orientation": "v",
         "showlegend": true,
         "x": [
          29.0
         ],
         "xaxis": "x",
         "y": [
          58
         ],
         "yaxis": "y",
         "type": "scatter"
        },
        {
         "hovertemplate": "Tm=MIN<br>PER=%{x}<br>wins=%{y}<extra></extra>",
         "legendgroup": "MIN",
         "marker": {
          "color": "#19d3f3",
          "symbol": "circle"
         },
         "mode": "markers",
         "name": "MIN",
         "orientation": "v",
         "showlegend": true,
         "x": [
          18.9
         ],
         "xaxis": "x",
         "y": [
          42
         ],
         "yaxis": "y",
         "type": "scatter"
        },
        {
         "hovertemplate": "Tm=OKC<br>PER=%{x}<br>wins=%{y}<extra></extra>",
         "legendgroup": "OKC",
         "marker": {
          "color": "#FF6692",
          "symbol": "circle"
         },
         "mode": "markers",
         "name": "OKC",
         "orientation": "v",
         "showlegend": true,
         "x": [
          27.2
         ],
         "xaxis": "x",
         "y": [
          40
         ],
         "yaxis": "y",
         "type": "scatter"
        },
        {
         "hovertemplate": "Tm=ORL<br>PER=%{x}<br>wins=%{y}<extra></extra>",
         "legendgroup": "ORL",
         "marker": {
          "color": "#B6E880",
          "symbol": "circle"
         },
         "mode": "markers",
         "name": "ORL",
         "orientation": "v",
         "showlegend": true,
         "x": [
          17.3
         ],
         "xaxis": "x",
         "y": [
          34
         ],
         "yaxis": "y",
         "type": "scatter"
        },
        {
         "hovertemplate": "Tm=PHI<br>PER=%{x}<br>wins=%{y}<extra></extra>",
         "legendgroup": "PHI",
         "marker": {
          "color": "#FF97FF",
          "symbol": "circle"
         },
         "mode": "markers",
         "name": "PHI",
         "orientation": "v",
         "showlegend": true,
         "x": [
          31.4
         ],
         "xaxis": "x",
         "y": [
          54
         ],
         "yaxis": "y",
         "type": "scatter"
        },
        {
         "hovertemplate": "Tm=POR<br>PER=%{x}<br>wins=%{y}<extra></extra>",
         "legendgroup": "POR",
         "marker": {
          "color": "#FECB52",
          "symbol": "circle"
         },
         "mode": "markers",
         "name": "POR",
         "orientation": "v",
         "showlegend": true,
         "x": [
          26.7
         ],
         "xaxis": "x",
         "y": [
          33
         ],
         "yaxis": "y",
         "type": "scatter"
        },
        {
         "hovertemplate": "Tm=SAC<br>PER=%{x}<br>wins=%{y}<extra></extra>",
         "legendgroup": "SAC",
         "marker": {
          "color": "#636efa",
          "symbol": "circle"
         },
         "mode": "markers",
         "name": "SAC",
         "orientation": "v",
         "showlegend": true,
         "x": [
          23.5
         ],
         "xaxis": "x",
         "y": [
          48
         ],
         "yaxis": "y",
         "type": "scatter"
        },
        {
         "hovertemplate": "Tm=TOR<br>PER=%{x}<br>wins=%{y}<extra></extra>",
         "legendgroup": "TOR",
         "marker": {
          "color": "#EF553B",
          "symbol": "circle"
         },
         "mode": "markers",
         "name": "TOR",
         "orientation": "v",
         "showlegend": true,
         "x": [
          20.3
         ],
         "xaxis": "x",
         "y": [
          41
         ],
         "yaxis": "y",
         "type": "scatter"
        },
        {
         "hovertemplate": "Tm=UTA<br>PER=%{x}<br>wins=%{y}<extra></extra>",
         "legendgroup": "UTA",
         "marker": {
          "color": "#00cc96",
          "symbol": "circle"
         },
         "mode": "markers",
         "name": "UTA",
         "orientation": "v",
         "showlegend": true,
         "x": [
          22.1
         ],
         "xaxis": "x",
         "y": [
          37
         ],
         "yaxis": "y",
         "type": "scatter"
        }
       ],
       "layout": {
        "template": {
         "data": {
          "histogram2dcontour": [
           {
            "type": "histogram2dcontour",
            "colorbar": {
             "outlinewidth": 0,
             "ticks": ""
            },
            "colorscale": [
             [
              0.0,
              "#0d0887"
             ],
             [
              0.1111111111111111,
              "#46039f"
             ],
             [
              0.2222222222222222,
              "#7201a8"
             ],
             [
              0.3333333333333333,
              "#9c179e"
             ],
             [
              0.4444444444444444,
              "#bd3786"
             ],
             [
              0.5555555555555556,
              "#d8576b"
             ],
             [
              0.6666666666666666,
              "#ed7953"
             ],
             [
              0.7777777777777778,
              "#fb9f3a"
             ],
             [
              0.8888888888888888,
              "#fdca26"
             ],
             [
              1.0,
              "#f0f921"
             ]
            ]
           }
          ],
          "choropleth": [
           {
            "type": "choropleth",
            "colorbar": {
             "outlinewidth": 0,
             "ticks": ""
            }
           }
          ],
          "histogram2d": [
           {
            "type": "histogram2d",
            "colorbar": {
             "outlinewidth": 0,
             "ticks": ""
            },
            "colorscale": [
             [
              0.0,
              "#0d0887"
             ],
             [
              0.1111111111111111,
              "#46039f"
             ],
             [
              0.2222222222222222,
              "#7201a8"
             ],
             [
              0.3333333333333333,
              "#9c179e"
             ],
             [
              0.4444444444444444,
              "#bd3786"
             ],
             [
              0.5555555555555556,
              "#d8576b"
             ],
             [
              0.6666666666666666,
              "#ed7953"
             ],
             [
              0.7777777777777778,
              "#fb9f3a"
             ],
             [
              0.8888888888888888,
              "#fdca26"
             ],
             [
              1.0,
              "#f0f921"
             ]
            ]
           }
          ],
          "heatmap": [
           {
            "type": "heatmap",
            "colorbar": {
             "outlinewidth": 0,
             "ticks": ""
            },
            "colorscale": [
             [
              0.0,
              "#0d0887"
             ],
             [
              0.1111111111111111,
              "#46039f"
             ],
             [
              0.2222222222222222,
              "#7201a8"
             ],
             [
              0.3333333333333333,
              "#9c179e"
             ],
             [
              0.4444444444444444,
              "#bd3786"
             ],
             [
              0.5555555555555556,
              "#d8576b"
             ],
             [
              0.6666666666666666,
              "#ed7953"
             ],
             [
              0.7777777777777778,
              "#fb9f3a"
             ],
             [
              0.8888888888888888,
              "#fdca26"
             ],
             [
              1.0,
              "#f0f921"
             ]
            ]
           }
          ],
          "heatmapgl": [
           {
            "type": "heatmapgl",
            "colorbar": {
             "outlinewidth": 0,
             "ticks": ""
            },
            "colorscale": [
             [
              0.0,
              "#0d0887"
             ],
             [
              0.1111111111111111,
              "#46039f"
             ],
             [
              0.2222222222222222,
              "#7201a8"
             ],
             [
              0.3333333333333333,
              "#9c179e"
             ],
             [
              0.4444444444444444,
              "#bd3786"
             ],
             [
              0.5555555555555556,
              "#d8576b"
             ],
             [
              0.6666666666666666,
              "#ed7953"
             ],
             [
              0.7777777777777778,
              "#fb9f3a"
             ],
             [
              0.8888888888888888,
              "#fdca26"
             ],
             [
              1.0,
              "#f0f921"
             ]
            ]
           }
          ],
          "contourcarpet": [
           {
            "type": "contourcarpet",
            "colorbar": {
             "outlinewidth": 0,
             "ticks": ""
            }
           }
          ],
          "contour": [
           {
            "type": "contour",
            "colorbar": {
             "outlinewidth": 0,
             "ticks": ""
            },
            "colorscale": [
             [
              0.0,
              "#0d0887"
             ],
             [
              0.1111111111111111,
              "#46039f"
             ],
             [
              0.2222222222222222,
              "#7201a8"
             ],
             [
              0.3333333333333333,
              "#9c179e"
             ],
             [
              0.4444444444444444,
              "#bd3786"
             ],
             [
              0.5555555555555556,
              "#d8576b"
             ],
             [
              0.6666666666666666,
              "#ed7953"
             ],
             [
              0.7777777777777778,
              "#fb9f3a"
             ],
             [
              0.8888888888888888,
              "#fdca26"
             ],
             [
              1.0,
              "#f0f921"
             ]
            ]
           }
          ],
          "surface": [
           {
            "type": "surface",
            "colorbar": {
             "outlinewidth": 0,
             "ticks": ""
            },
            "colorscale": [
             [
              0.0,
              "#0d0887"
             ],
             [
              0.1111111111111111,
              "#46039f"
             ],
             [
              0.2222222222222222,
              "#7201a8"
             ],
             [
              0.3333333333333333,
              "#9c179e"
             ],
             [
              0.4444444444444444,
              "#bd3786"
             ],
             [
              0.5555555555555556,
              "#d8576b"
             ],
             [
              0.6666666666666666,
              "#ed7953"
             ],
             [
              0.7777777777777778,
              "#fb9f3a"
             ],
             [
              0.8888888888888888,
              "#fdca26"
             ],
             [
              1.0,
              "#f0f921"
             ]
            ]
           }
          ],
          "mesh3d": [
           {
            "type": "mesh3d",
            "colorbar": {
             "outlinewidth": 0,
             "ticks": ""
            }
           }
          ],
          "scatter": [
           {
            "marker": {
             "line": {
              "color": "#283442"
             }
            },
            "type": "scatter"
           }
          ],
          "parcoords": [
           {
            "type": "parcoords",
            "line": {
             "colorbar": {
              "outlinewidth": 0,
              "ticks": ""
             }
            }
           }
          ],
          "scatterpolargl": [
           {
            "type": "scatterpolargl",
            "marker": {
             "colorbar": {
              "outlinewidth": 0,
              "ticks": ""
             }
            }
           }
          ],
          "bar": [
           {
            "error_x": {
             "color": "#f2f5fa"
            },
            "error_y": {
             "color": "#f2f5fa"
            },
            "marker": {
             "line": {
              "color": "rgb(17,17,17)",
              "width": 0.5
             },
             "pattern": {
              "fillmode": "overlay",
              "size": 10,
              "solidity": 0.2
             }
            },
            "type": "bar"
           }
          ],
          "scattergeo": [
           {
            "type": "scattergeo",
            "marker": {
             "colorbar": {
              "outlinewidth": 0,
              "ticks": ""
             }
            }
           }
          ],
          "scatterpolar": [
           {
            "type": "scatterpolar",
            "marker": {
             "colorbar": {
              "outlinewidth": 0,
              "ticks": ""
             }
            }
           }
          ],
          "histogram": [
           {
            "marker": {
             "pattern": {
              "fillmode": "overlay",
              "size": 10,
              "solidity": 0.2
             }
            },
            "type": "histogram"
           }
          ],
          "scattergl": [
           {
            "marker": {
             "line": {
              "color": "#283442"
             }
            },
            "type": "scattergl"
           }
          ],
          "scatter3d": [
           {
            "type": "scatter3d",
            "line": {
             "colorbar": {
              "outlinewidth": 0,
              "ticks": ""
             }
            },
            "marker": {
             "colorbar": {
              "outlinewidth": 0,
              "ticks": ""
             }
            }
           }
          ],
          "scattermapbox": [
           {
            "type": "scattermapbox",
            "marker": {
             "colorbar": {
              "outlinewidth": 0,
              "ticks": ""
             }
            }
           }
          ],
          "scatterternary": [
           {
            "type": "scatterternary",
            "marker": {
             "colorbar": {
              "outlinewidth": 0,
              "ticks": ""
             }
            }
           }
          ],
          "scattercarpet": [
           {
            "type": "scattercarpet",
            "marker": {
             "colorbar": {
              "outlinewidth": 0,
              "ticks": ""
             }
            }
           }
          ],
          "carpet": [
           {
            "aaxis": {
             "endlinecolor": "#A2B1C6",
             "gridcolor": "#506784",
             "linecolor": "#506784",
             "minorgridcolor": "#506784",
             "startlinecolor": "#A2B1C6"
            },
            "baxis": {
             "endlinecolor": "#A2B1C6",
             "gridcolor": "#506784",
             "linecolor": "#506784",
             "minorgridcolor": "#506784",
             "startlinecolor": "#A2B1C6"
            },
            "type": "carpet"
           }
          ],
          "table": [
           {
            "cells": {
             "fill": {
              "color": "#506784"
             },
             "line": {
              "color": "rgb(17,17,17)"
             }
            },
            "header": {
             "fill": {
              "color": "#2a3f5f"
             },
             "line": {
              "color": "rgb(17,17,17)"
             }
            },
            "type": "table"
           }
          ],
          "barpolar": [
           {
            "marker": {
             "line": {
              "color": "rgb(17,17,17)",
              "width": 0.5
             },
             "pattern": {
              "fillmode": "overlay",
              "size": 10,
              "solidity": 0.2
             }
            },
            "type": "barpolar"
           }
          ],
          "pie": [
           {
            "automargin": true,
            "type": "pie"
           }
          ]
         },
         "layout": {
          "autotypenumbers": "strict",
          "colorway": [
           "#636efa",
           "#EF553B",
           "#00cc96",
           "#ab63fa",
           "#FFA15A",
           "#19d3f3",
           "#FF6692",
           "#B6E880",
           "#FF97FF",
           "#FECB52"
          ],
          "font": {
           "color": "#f2f5fa"
          },
          "hovermode": "closest",
          "hoverlabel": {
           "align": "left"
          },
          "paper_bgcolor": "rgb(17,17,17)",
          "plot_bgcolor": "rgb(17,17,17)",
          "polar": {
           "bgcolor": "rgb(17,17,17)",
           "angularaxis": {
            "gridcolor": "#506784",
            "linecolor": "#506784",
            "ticks": ""
           },
           "radialaxis": {
            "gridcolor": "#506784",
            "linecolor": "#506784",
            "ticks": ""
           }
          },
          "ternary": {
           "bgcolor": "rgb(17,17,17)",
           "aaxis": {
            "gridcolor": "#506784",
            "linecolor": "#506784",
            "ticks": ""
           },
           "baxis": {
            "gridcolor": "#506784",
            "linecolor": "#506784",
            "ticks": ""
           },
           "caxis": {
            "gridcolor": "#506784",
            "linecolor": "#506784",
            "ticks": ""
           }
          },
          "coloraxis": {
           "colorbar": {
            "outlinewidth": 0,
            "ticks": ""
           }
          },
          "colorscale": {
           "sequential": [
            [
             0.0,
             "#0d0887"
            ],
            [
             0.1111111111111111,
             "#46039f"
            ],
            [
             0.2222222222222222,
             "#7201a8"
            ],
            [
             0.3333333333333333,
             "#9c179e"
            ],
            [
             0.4444444444444444,
             "#bd3786"
            ],
            [
             0.5555555555555556,
             "#d8576b"
            ],
            [
             0.6666666666666666,
             "#ed7953"
            ],
            [
             0.7777777777777778,
             "#fb9f3a"
            ],
            [
             0.8888888888888888,
             "#fdca26"
            ],
            [
             1.0,
             "#f0f921"
            ]
           ],
           "sequentialminus": [
            [
             0.0,
             "#0d0887"
            ],
            [
             0.1111111111111111,
             "#46039f"
            ],
            [
             0.2222222222222222,
             "#7201a8"
            ],
            [
             0.3333333333333333,
             "#9c179e"
            ],
            [
             0.4444444444444444,
             "#bd3786"
            ],
            [
             0.5555555555555556,
             "#d8576b"
            ],
            [
             0.6666666666666666,
             "#ed7953"
            ],
            [
             0.7777777777777778,
             "#fb9f3a"
            ],
            [
             0.8888888888888888,
             "#fdca26"
            ],
            [
             1.0,
             "#f0f921"
            ]
           ],
           "diverging": [
            [
             0,
             "#8e0152"
            ],
            [
             0.1,
             "#c51b7d"
            ],
            [
             0.2,
             "#de77ae"
            ],
            [
             0.3,
             "#f1b6da"
            ],
            [
             0.4,
             "#fde0ef"
            ],
            [
             0.5,
             "#f7f7f7"
            ],
            [
             0.6,
             "#e6f5d0"
            ],
            [
             0.7,
             "#b8e186"
            ],
            [
             0.8,
             "#7fbc41"
            ],
            [
             0.9,
             "#4d9221"
            ],
            [
             1,
             "#276419"
            ]
           ]
          },
          "xaxis": {
           "gridcolor": "#283442",
           "linecolor": "#506784",
           "ticks": "",
           "title": {
            "standoff": 15
           },
           "zerolinecolor": "#283442",
           "automargin": true,
           "zerolinewidth": 2
          },
          "yaxis": {
           "gridcolor": "#283442",
           "linecolor": "#506784",
           "ticks": "",
           "title": {
            "standoff": 15
           },
           "zerolinecolor": "#283442",
           "automargin": true,
           "zerolinewidth": 2
          },
          "scene": {
           "xaxis": {
            "backgroundcolor": "rgb(17,17,17)",
            "gridcolor": "#506784",
            "linecolor": "#506784",
            "showbackground": true,
            "ticks": "",
            "zerolinecolor": "#C8D4E3",
            "gridwidth": 2
           },
           "yaxis": {
            "backgroundcolor": "rgb(17,17,17)",
            "gridcolor": "#506784",
            "linecolor": "#506784",
            "showbackground": true,
            "ticks": "",
            "zerolinecolor": "#C8D4E3",
            "gridwidth": 2
           },
           "zaxis": {
            "backgroundcolor": "rgb(17,17,17)",
            "gridcolor": "#506784",
            "linecolor": "#506784",
            "showbackground": true,
            "ticks": "",
            "zerolinecolor": "#C8D4E3",
            "gridwidth": 2
           }
          },
          "shapedefaults": {
           "line": {
            "color": "#f2f5fa"
           }
          },
          "annotationdefaults": {
           "arrowcolor": "#f2f5fa",
           "arrowhead": 0,
           "arrowwidth": 1
          },
          "geo": {
           "bgcolor": "rgb(17,17,17)",
           "landcolor": "rgb(17,17,17)",
           "subunitcolor": "#506784",
           "showland": true,
           "showlakes": true,
           "lakecolor": "rgb(17,17,17)"
          },
          "title": {
           "x": 0.05
          },
          "updatemenudefaults": {
           "bgcolor": "#506784",
           "borderwidth": 0
          },
          "sliderdefaults": {
           "bgcolor": "#C8D4E3",
           "borderwidth": 1,
           "bordercolor": "rgb(17,17,17)",
           "tickwidth": 0
          },
          "mapbox": {
           "style": "dark"
          }
         }
        },
        "xaxis": {
         "anchor": "y",
         "domain": [
          0.0,
          1.0
         ],
         "title": {
          "text": "Highest PER on Team"
         }
        },
        "yaxis": {
         "anchor": "x",
         "domain": [
          0.0,
          1.0
         ],
         "title": {
          "text": "Teams Wins"
         }
        },
        "legend": {
         "title": {
          "text": "Tm"
         },
         "tracegroupgap": 0
        },
        "margin": {
         "t": 60
        },
        "title": {
         "text": "How Does Having a High PER Player Affect Wins in a Season?"
        }
       },
       "config": {
        "plotlyServerURL": "https://plot.ly"
       }
      },
      "text/html": "<div>                            <div id=\"40fc3685-8aac-498f-aca1-9dfbc2eb0c19\" class=\"plotly-graph-div\" style=\"height:525px; width:100%;\"></div>            <script type=\"text/javascript\">                require([\"plotly\"], function(Plotly) {                    window.PLOTLYENV=window.PLOTLYENV || {};                                    if (document.getElementById(\"40fc3685-8aac-498f-aca1-9dfbc2eb0c19\")) {                    Plotly.newPlot(                        \"40fc3685-8aac-498f-aca1-9dfbc2eb0c19\",                        [{\"hovertemplate\":\"Tm=ATL\\u003cbr\\u003ePER=%{x}\\u003cbr\\u003ewins=%{y}\\u003cextra\\u003e\\u003c\\u002fextra\\u003e\",\"legendgroup\":\"ATL\",\"marker\":{\"color\":\"#636efa\",\"symbol\":\"circle\"},\"mode\":\"markers\",\"name\":\"ATL\",\"orientation\":\"v\",\"showlegend\":true,\"x\":[22.1],\"xaxis\":\"x\",\"y\":[41],\"yaxis\":\"y\",\"type\":\"scatter\"},{\"hovertemplate\":\"Tm=BOS\\u003cbr\\u003ePER=%{x}\\u003cbr\\u003ewins=%{y}\\u003cextra\\u003e\\u003c\\u002fextra\\u003e\",\"legendgroup\":\"BOS\",\"marker\":{\"color\":\"#EF553B\",\"symbol\":\"circle\"},\"mode\":\"markers\",\"name\":\"BOS\",\"orientation\":\"v\",\"showlegend\":true,\"x\":[23.7],\"xaxis\":\"x\",\"y\":[57],\"yaxis\":\"y\",\"type\":\"scatter\"},{\"hovertemplate\":\"Tm=CHI\\u003cbr\\u003ePER=%{x}\\u003cbr\\u003ewins=%{y}\\u003cextra\\u003e\\u003c\\u002fextra\\u003e\",\"legendgroup\":\"CHI\",\"marker\":{\"color\":\"#00cc96\",\"symbol\":\"circle\"},\"mode\":\"markers\",\"name\":\"CHI\",\"orientation\":\"v\",\"showlegend\":true,\"x\":[20.6],\"xaxis\":\"x\",\"y\":[40],\"yaxis\":\"y\",\"type\":\"scatter\"},{\"hovertemplate\":\"Tm=CHA\\u003cbr\\u003ePER=%{x}\\u003cbr\\u003ewins=%{y}\\u003cextra\\u003e\\u003c\\u002fextra\\u003e\",\"legendgroup\":\"CHA\",\"marker\":{\"color\":\"#ab63fa\",\"symbol\":\"circle\"},\"mode\":\"markers\",\"name\":\"CHA\",\"orientation\":\"v\",\"showlegend\":true,\"x\":[14.8],\"xaxis\":\"x\",\"y\":[27],\"yaxis\":\"y\",\"type\":\"scatter\"},{\"hovertemplate\":\"Tm=CLE\\u003cbr\\u003ePER=%{x}\\u003cbr\\u003ewins=%{y}\\u003cextra\\u003e\\u003c\\u002fextra\\u003e\",\"legendgroup\":\"CLE\",\"marker\":{\"color\":\"#FFA15A\",\"symbol\":\"circle\"},\"mode\":\"markers\",\"name\":\"CLE\",\"orientation\":\"v\",\"showlegend\":true,\"x\":[22.9],\"xaxis\":\"x\",\"y\":[51],\"yaxis\":\"y\",\"type\":\"scatter\"},{\"hovertemplate\":\"Tm=DAL\\u003cbr\\u003ePER=%{x}\\u003cbr\\u003ewins=%{y}\\u003cextra\\u003e\\u003c\\u002fextra\\u003e\",\"legendgroup\":\"DAL\",\"marker\":{\"color\":\"#19d3f3\",\"symbol\":\"circle\"},\"mode\":\"markers\",\"name\":\"DAL\",\"orientation\":\"v\",\"showlegend\":true,\"x\":[28.7],\"xaxis\":\"x\",\"y\":[38],\"yaxis\":\"y\",\"type\":\"scatter\"},{\"hovertemplate\":\"Tm=DEN\\u003cbr\\u003ePER=%{x}\\u003cbr\\u003ewins=%{y}\\u003cextra\\u003e\\u003c\\u002fextra\\u003e\",\"legendgroup\":\"DEN\",\"marker\":{\"color\":\"#FF6692\",\"symbol\":\"circle\"},\"mode\":\"markers\",\"name\":\"DEN\",\"orientation\":\"v\",\"showlegend\":true,\"x\":[31.5],\"xaxis\":\"x\",\"y\":[53],\"yaxis\":\"y\",\"type\":\"scatter\"},{\"hovertemplate\":\"Tm=DET\\u003cbr\\u003ePER=%{x}\\u003cbr\\u003ewins=%{y}\\u003cextra\\u003e\\u003c\\u002fextra\\u003e\",\"legendgroup\":\"DET\",\"marker\":{\"color\":\"#B6E880\",\"symbol\":\"circle\"},\"mode\":\"markers\",\"name\":\"DET\",\"orientation\":\"v\",\"showlegend\":true,\"x\":[17.4],\"xaxis\":\"x\",\"y\":[17],\"yaxis\":\"y\",\"type\":\"scatter\"},{\"hovertemplate\":\"Tm=HOU\\u003cbr\\u003ePER=%{x}\\u003cbr\\u003ewins=%{y}\\u003cextra\\u003e\\u003c\\u002fextra\\u003e\",\"legendgroup\":\"HOU\",\"marker\":{\"color\":\"#FF97FF\",\"symbol\":\"circle\"},\"mode\":\"markers\",\"name\":\"HOU\",\"orientation\":\"v\",\"showlegend\":true,\"x\":[19.7],\"xaxis\":\"x\",\"y\":[22],\"yaxis\":\"y\",\"type\":\"scatter\"},{\"hovertemplate\":\"Tm=IND\\u003cbr\\u003ePER=%{x}\\u003cbr\\u003ewins=%{y}\\u003cextra\\u003e\\u003c\\u002fextra\\u003e\",\"legendgroup\":\"IND\",\"marker\":{\"color\":\"#FECB52\",\"symbol\":\"circle\"},\"mode\":\"markers\",\"name\":\"IND\",\"orientation\":\"v\",\"showlegend\":true,\"x\":[23.6],\"xaxis\":\"x\",\"y\":[35],\"yaxis\":\"y\",\"type\":\"scatter\"},{\"hovertemplate\":\"Tm=LAC\\u003cbr\\u003ePER=%{x}\\u003cbr\\u003ewins=%{y}\\u003cextra\\u003e\\u003c\\u002fextra\\u003e\",\"legendgroup\":\"LAC\",\"marker\":{\"color\":\"#636efa\",\"symbol\":\"circle\"},\"mode\":\"markers\",\"name\":\"LAC\",\"orientation\":\"v\",\"showlegend\":true,\"x\":[23.9],\"xaxis\":\"x\",\"y\":[44],\"yaxis\":\"y\",\"type\":\"scatter\"},{\"hovertemplate\":\"Tm=LAL\\u003cbr\\u003ePER=%{x}\\u003cbr\\u003ewins=%{y}\\u003cextra\\u003e\\u003c\\u002fextra\\u003e\",\"legendgroup\":\"LAL\",\"marker\":{\"color\":\"#EF553B\",\"symbol\":\"circle\"},\"mode\":\"markers\",\"name\":\"LAL\",\"orientation\":\"v\",\"showlegend\":true,\"x\":[27.8],\"xaxis\":\"x\",\"y\":[43],\"yaxis\":\"y\",\"type\":\"scatter\"},{\"hovertemplate\":\"Tm=MEM\\u003cbr\\u003ePER=%{x}\\u003cbr\\u003ewins=%{y}\\u003cextra\\u003e\\u003c\\u002fextra\\u003e\",\"legendgroup\":\"MEM\",\"marker\":{\"color\":\"#00cc96\",\"symbol\":\"circle\"},\"mode\":\"markers\",\"name\":\"MEM\",\"orientation\":\"v\",\"showlegend\":true,\"x\":[23.3],\"xaxis\":\"x\",\"y\":[51],\"yaxis\":\"y\",\"type\":\"scatter\"},{\"hovertemplate\":\"Tm=MIA\\u003cbr\\u003ePER=%{x}\\u003cbr\\u003ewins=%{y}\\u003cextra\\u003e\\u003c\\u002fextra\\u003e\",\"legendgroup\":\"MIA\",\"marker\":{\"color\":\"#ab63fa\",\"symbol\":\"circle\"},\"mode\":\"markers\",\"name\":\"MIA\",\"orientation\":\"v\",\"showlegend\":true,\"x\":[27.6],\"xaxis\":\"x\",\"y\":[44],\"yaxis\":\"y\",\"type\":\"scatter\"},{\"hovertemplate\":\"Tm=MIL\\u003cbr\\u003ePER=%{x}\\u003cbr\\u003ewins=%{y}\\u003cextra\\u003e\\u003c\\u002fextra\\u003e\",\"legendgroup\":\"MIL\",\"marker\":{\"color\":\"#FFA15A\",\"symbol\":\"circle\"},\"mode\":\"markers\",\"name\":\"MIL\",\"orientation\":\"v\",\"showlegend\":true,\"x\":[29.0],\"xaxis\":\"x\",\"y\":[58],\"yaxis\":\"y\",\"type\":\"scatter\"},{\"hovertemplate\":\"Tm=MIN\\u003cbr\\u003ePER=%{x}\\u003cbr\\u003ewins=%{y}\\u003cextra\\u003e\\u003c\\u002fextra\\u003e\",\"legendgroup\":\"MIN\",\"marker\":{\"color\":\"#19d3f3\",\"symbol\":\"circle\"},\"mode\":\"markers\",\"name\":\"MIN\",\"orientation\":\"v\",\"showlegend\":true,\"x\":[18.9],\"xaxis\":\"x\",\"y\":[42],\"yaxis\":\"y\",\"type\":\"scatter\"},{\"hovertemplate\":\"Tm=OKC\\u003cbr\\u003ePER=%{x}\\u003cbr\\u003ewins=%{y}\\u003cextra\\u003e\\u003c\\u002fextra\\u003e\",\"legendgroup\":\"OKC\",\"marker\":{\"color\":\"#FF6692\",\"symbol\":\"circle\"},\"mode\":\"markers\",\"name\":\"OKC\",\"orientation\":\"v\",\"showlegend\":true,\"x\":[27.2],\"xaxis\":\"x\",\"y\":[40],\"yaxis\":\"y\",\"type\":\"scatter\"},{\"hovertemplate\":\"Tm=ORL\\u003cbr\\u003ePER=%{x}\\u003cbr\\u003ewins=%{y}\\u003cextra\\u003e\\u003c\\u002fextra\\u003e\",\"legendgroup\":\"ORL\",\"marker\":{\"color\":\"#B6E880\",\"symbol\":\"circle\"},\"mode\":\"markers\",\"name\":\"ORL\",\"orientation\":\"v\",\"showlegend\":true,\"x\":[17.3],\"xaxis\":\"x\",\"y\":[34],\"yaxis\":\"y\",\"type\":\"scatter\"},{\"hovertemplate\":\"Tm=PHI\\u003cbr\\u003ePER=%{x}\\u003cbr\\u003ewins=%{y}\\u003cextra\\u003e\\u003c\\u002fextra\\u003e\",\"legendgroup\":\"PHI\",\"marker\":{\"color\":\"#FF97FF\",\"symbol\":\"circle\"},\"mode\":\"markers\",\"name\":\"PHI\",\"orientation\":\"v\",\"showlegend\":true,\"x\":[31.4],\"xaxis\":\"x\",\"y\":[54],\"yaxis\":\"y\",\"type\":\"scatter\"},{\"hovertemplate\":\"Tm=POR\\u003cbr\\u003ePER=%{x}\\u003cbr\\u003ewins=%{y}\\u003cextra\\u003e\\u003c\\u002fextra\\u003e\",\"legendgroup\":\"POR\",\"marker\":{\"color\":\"#FECB52\",\"symbol\":\"circle\"},\"mode\":\"markers\",\"name\":\"POR\",\"orientation\":\"v\",\"showlegend\":true,\"x\":[26.7],\"xaxis\":\"x\",\"y\":[33],\"yaxis\":\"y\",\"type\":\"scatter\"},{\"hovertemplate\":\"Tm=SAC\\u003cbr\\u003ePER=%{x}\\u003cbr\\u003ewins=%{y}\\u003cextra\\u003e\\u003c\\u002fextra\\u003e\",\"legendgroup\":\"SAC\",\"marker\":{\"color\":\"#636efa\",\"symbol\":\"circle\"},\"mode\":\"markers\",\"name\":\"SAC\",\"orientation\":\"v\",\"showlegend\":true,\"x\":[23.5],\"xaxis\":\"x\",\"y\":[48],\"yaxis\":\"y\",\"type\":\"scatter\"},{\"hovertemplate\":\"Tm=TOR\\u003cbr\\u003ePER=%{x}\\u003cbr\\u003ewins=%{y}\\u003cextra\\u003e\\u003c\\u002fextra\\u003e\",\"legendgroup\":\"TOR\",\"marker\":{\"color\":\"#EF553B\",\"symbol\":\"circle\"},\"mode\":\"markers\",\"name\":\"TOR\",\"orientation\":\"v\",\"showlegend\":true,\"x\":[20.3],\"xaxis\":\"x\",\"y\":[41],\"yaxis\":\"y\",\"type\":\"scatter\"},{\"hovertemplate\":\"Tm=UTA\\u003cbr\\u003ePER=%{x}\\u003cbr\\u003ewins=%{y}\\u003cextra\\u003e\\u003c\\u002fextra\\u003e\",\"legendgroup\":\"UTA\",\"marker\":{\"color\":\"#00cc96\",\"symbol\":\"circle\"},\"mode\":\"markers\",\"name\":\"UTA\",\"orientation\":\"v\",\"showlegend\":true,\"x\":[22.1],\"xaxis\":\"x\",\"y\":[37],\"yaxis\":\"y\",\"type\":\"scatter\"}],                        {\"template\":{\"data\":{\"histogram2dcontour\":[{\"type\":\"histogram2dcontour\",\"colorbar\":{\"outlinewidth\":0,\"ticks\":\"\"},\"colorscale\":[[0.0,\"#0d0887\"],[0.1111111111111111,\"#46039f\"],[0.2222222222222222,\"#7201a8\"],[0.3333333333333333,\"#9c179e\"],[0.4444444444444444,\"#bd3786\"],[0.5555555555555556,\"#d8576b\"],[0.6666666666666666,\"#ed7953\"],[0.7777777777777778,\"#fb9f3a\"],[0.8888888888888888,\"#fdca26\"],[1.0,\"#f0f921\"]]}],\"choropleth\":[{\"type\":\"choropleth\",\"colorbar\":{\"outlinewidth\":0,\"ticks\":\"\"}}],\"histogram2d\":[{\"type\":\"histogram2d\",\"colorbar\":{\"outlinewidth\":0,\"ticks\":\"\"},\"colorscale\":[[0.0,\"#0d0887\"],[0.1111111111111111,\"#46039f\"],[0.2222222222222222,\"#7201a8\"],[0.3333333333333333,\"#9c179e\"],[0.4444444444444444,\"#bd3786\"],[0.5555555555555556,\"#d8576b\"],[0.6666666666666666,\"#ed7953\"],[0.7777777777777778,\"#fb9f3a\"],[0.8888888888888888,\"#fdca26\"],[1.0,\"#f0f921\"]]}],\"heatmap\":[{\"type\":\"heatmap\",\"colorbar\":{\"outlinewidth\":0,\"ticks\":\"\"},\"colorscale\":[[0.0,\"#0d0887\"],[0.1111111111111111,\"#46039f\"],[0.2222222222222222,\"#7201a8\"],[0.3333333333333333,\"#9c179e\"],[0.4444444444444444,\"#bd3786\"],[0.5555555555555556,\"#d8576b\"],[0.6666666666666666,\"#ed7953\"],[0.7777777777777778,\"#fb9f3a\"],[0.8888888888888888,\"#fdca26\"],[1.0,\"#f0f921\"]]}],\"heatmapgl\":[{\"type\":\"heatmapgl\",\"colorbar\":{\"outlinewidth\":0,\"ticks\":\"\"},\"colorscale\":[[0.0,\"#0d0887\"],[0.1111111111111111,\"#46039f\"],[0.2222222222222222,\"#7201a8\"],[0.3333333333333333,\"#9c179e\"],[0.4444444444444444,\"#bd3786\"],[0.5555555555555556,\"#d8576b\"],[0.6666666666666666,\"#ed7953\"],[0.7777777777777778,\"#fb9f3a\"],[0.8888888888888888,\"#fdca26\"],[1.0,\"#f0f921\"]]}],\"contourcarpet\":[{\"type\":\"contourcarpet\",\"colorbar\":{\"outlinewidth\":0,\"ticks\":\"\"}}],\"contour\":[{\"type\":\"contour\",\"colorbar\":{\"outlinewidth\":0,\"ticks\":\"\"},\"colorscale\":[[0.0,\"#0d0887\"],[0.1111111111111111,\"#46039f\"],[0.2222222222222222,\"#7201a8\"],[0.3333333333333333,\"#9c179e\"],[0.4444444444444444,\"#bd3786\"],[0.5555555555555556,\"#d8576b\"],[0.6666666666666666,\"#ed7953\"],[0.7777777777777778,\"#fb9f3a\"],[0.8888888888888888,\"#fdca26\"],[1.0,\"#f0f921\"]]}],\"surface\":[{\"type\":\"surface\",\"colorbar\":{\"outlinewidth\":0,\"ticks\":\"\"},\"colorscale\":[[0.0,\"#0d0887\"],[0.1111111111111111,\"#46039f\"],[0.2222222222222222,\"#7201a8\"],[0.3333333333333333,\"#9c179e\"],[0.4444444444444444,\"#bd3786\"],[0.5555555555555556,\"#d8576b\"],[0.6666666666666666,\"#ed7953\"],[0.7777777777777778,\"#fb9f3a\"],[0.8888888888888888,\"#fdca26\"],[1.0,\"#f0f921\"]]}],\"mesh3d\":[{\"type\":\"mesh3d\",\"colorbar\":{\"outlinewidth\":0,\"ticks\":\"\"}}],\"scatter\":[{\"marker\":{\"line\":{\"color\":\"#283442\"}},\"type\":\"scatter\"}],\"parcoords\":[{\"type\":\"parcoords\",\"line\":{\"colorbar\":{\"outlinewidth\":0,\"ticks\":\"\"}}}],\"scatterpolargl\":[{\"type\":\"scatterpolargl\",\"marker\":{\"colorbar\":{\"outlinewidth\":0,\"ticks\":\"\"}}}],\"bar\":[{\"error_x\":{\"color\":\"#f2f5fa\"},\"error_y\":{\"color\":\"#f2f5fa\"},\"marker\":{\"line\":{\"color\":\"rgb(17,17,17)\",\"width\":0.5},\"pattern\":{\"fillmode\":\"overlay\",\"size\":10,\"solidity\":0.2}},\"type\":\"bar\"}],\"scattergeo\":[{\"type\":\"scattergeo\",\"marker\":{\"colorbar\":{\"outlinewidth\":0,\"ticks\":\"\"}}}],\"scatterpolar\":[{\"type\":\"scatterpolar\",\"marker\":{\"colorbar\":{\"outlinewidth\":0,\"ticks\":\"\"}}}],\"histogram\":[{\"marker\":{\"pattern\":{\"fillmode\":\"overlay\",\"size\":10,\"solidity\":0.2}},\"type\":\"histogram\"}],\"scattergl\":[{\"marker\":{\"line\":{\"color\":\"#283442\"}},\"type\":\"scattergl\"}],\"scatter3d\":[{\"type\":\"scatter3d\",\"line\":{\"colorbar\":{\"outlinewidth\":0,\"ticks\":\"\"}},\"marker\":{\"colorbar\":{\"outlinewidth\":0,\"ticks\":\"\"}}}],\"scattermapbox\":[{\"type\":\"scattermapbox\",\"marker\":{\"colorbar\":{\"outlinewidth\":0,\"ticks\":\"\"}}}],\"scatterternary\":[{\"type\":\"scatterternary\",\"marker\":{\"colorbar\":{\"outlinewidth\":0,\"ticks\":\"\"}}}],\"scattercarpet\":[{\"type\":\"scattercarpet\",\"marker\":{\"colorbar\":{\"outlinewidth\":0,\"ticks\":\"\"}}}],\"carpet\":[{\"aaxis\":{\"endlinecolor\":\"#A2B1C6\",\"gridcolor\":\"#506784\",\"linecolor\":\"#506784\",\"minorgridcolor\":\"#506784\",\"startlinecolor\":\"#A2B1C6\"},\"baxis\":{\"endlinecolor\":\"#A2B1C6\",\"gridcolor\":\"#506784\",\"linecolor\":\"#506784\",\"minorgridcolor\":\"#506784\",\"startlinecolor\":\"#A2B1C6\"},\"type\":\"carpet\"}],\"table\":[{\"cells\":{\"fill\":{\"color\":\"#506784\"},\"line\":{\"color\":\"rgb(17,17,17)\"}},\"header\":{\"fill\":{\"color\":\"#2a3f5f\"},\"line\":{\"color\":\"rgb(17,17,17)\"}},\"type\":\"table\"}],\"barpolar\":[{\"marker\":{\"line\":{\"color\":\"rgb(17,17,17)\",\"width\":0.5},\"pattern\":{\"fillmode\":\"overlay\",\"size\":10,\"solidity\":0.2}},\"type\":\"barpolar\"}],\"pie\":[{\"automargin\":true,\"type\":\"pie\"}]},\"layout\":{\"autotypenumbers\":\"strict\",\"colorway\":[\"#636efa\",\"#EF553B\",\"#00cc96\",\"#ab63fa\",\"#FFA15A\",\"#19d3f3\",\"#FF6692\",\"#B6E880\",\"#FF97FF\",\"#FECB52\"],\"font\":{\"color\":\"#f2f5fa\"},\"hovermode\":\"closest\",\"hoverlabel\":{\"align\":\"left\"},\"paper_bgcolor\":\"rgb(17,17,17)\",\"plot_bgcolor\":\"rgb(17,17,17)\",\"polar\":{\"bgcolor\":\"rgb(17,17,17)\",\"angularaxis\":{\"gridcolor\":\"#506784\",\"linecolor\":\"#506784\",\"ticks\":\"\"},\"radialaxis\":{\"gridcolor\":\"#506784\",\"linecolor\":\"#506784\",\"ticks\":\"\"}},\"ternary\":{\"bgcolor\":\"rgb(17,17,17)\",\"aaxis\":{\"gridcolor\":\"#506784\",\"linecolor\":\"#506784\",\"ticks\":\"\"},\"baxis\":{\"gridcolor\":\"#506784\",\"linecolor\":\"#506784\",\"ticks\":\"\"},\"caxis\":{\"gridcolor\":\"#506784\",\"linecolor\":\"#506784\",\"ticks\":\"\"}},\"coloraxis\":{\"colorbar\":{\"outlinewidth\":0,\"ticks\":\"\"}},\"colorscale\":{\"sequential\":[[0.0,\"#0d0887\"],[0.1111111111111111,\"#46039f\"],[0.2222222222222222,\"#7201a8\"],[0.3333333333333333,\"#9c179e\"],[0.4444444444444444,\"#bd3786\"],[0.5555555555555556,\"#d8576b\"],[0.6666666666666666,\"#ed7953\"],[0.7777777777777778,\"#fb9f3a\"],[0.8888888888888888,\"#fdca26\"],[1.0,\"#f0f921\"]],\"sequentialminus\":[[0.0,\"#0d0887\"],[0.1111111111111111,\"#46039f\"],[0.2222222222222222,\"#7201a8\"],[0.3333333333333333,\"#9c179e\"],[0.4444444444444444,\"#bd3786\"],[0.5555555555555556,\"#d8576b\"],[0.6666666666666666,\"#ed7953\"],[0.7777777777777778,\"#fb9f3a\"],[0.8888888888888888,\"#fdca26\"],[1.0,\"#f0f921\"]],\"diverging\":[[0,\"#8e0152\"],[0.1,\"#c51b7d\"],[0.2,\"#de77ae\"],[0.3,\"#f1b6da\"],[0.4,\"#fde0ef\"],[0.5,\"#f7f7f7\"],[0.6,\"#e6f5d0\"],[0.7,\"#b8e186\"],[0.8,\"#7fbc41\"],[0.9,\"#4d9221\"],[1,\"#276419\"]]},\"xaxis\":{\"gridcolor\":\"#283442\",\"linecolor\":\"#506784\",\"ticks\":\"\",\"title\":{\"standoff\":15},\"zerolinecolor\":\"#283442\",\"automargin\":true,\"zerolinewidth\":2},\"yaxis\":{\"gridcolor\":\"#283442\",\"linecolor\":\"#506784\",\"ticks\":\"\",\"title\":{\"standoff\":15},\"zerolinecolor\":\"#283442\",\"automargin\":true,\"zerolinewidth\":2},\"scene\":{\"xaxis\":{\"backgroundcolor\":\"rgb(17,17,17)\",\"gridcolor\":\"#506784\",\"linecolor\":\"#506784\",\"showbackground\":true,\"ticks\":\"\",\"zerolinecolor\":\"#C8D4E3\",\"gridwidth\":2},\"yaxis\":{\"backgroundcolor\":\"rgb(17,17,17)\",\"gridcolor\":\"#506784\",\"linecolor\":\"#506784\",\"showbackground\":true,\"ticks\":\"\",\"zerolinecolor\":\"#C8D4E3\",\"gridwidth\":2},\"zaxis\":{\"backgroundcolor\":\"rgb(17,17,17)\",\"gridcolor\":\"#506784\",\"linecolor\":\"#506784\",\"showbackground\":true,\"ticks\":\"\",\"zerolinecolor\":\"#C8D4E3\",\"gridwidth\":2}},\"shapedefaults\":{\"line\":{\"color\":\"#f2f5fa\"}},\"annotationdefaults\":{\"arrowcolor\":\"#f2f5fa\",\"arrowhead\":0,\"arrowwidth\":1},\"geo\":{\"bgcolor\":\"rgb(17,17,17)\",\"landcolor\":\"rgb(17,17,17)\",\"subunitcolor\":\"#506784\",\"showland\":true,\"showlakes\":true,\"lakecolor\":\"rgb(17,17,17)\"},\"title\":{\"x\":0.05},\"updatemenudefaults\":{\"bgcolor\":\"#506784\",\"borderwidth\":0},\"sliderdefaults\":{\"bgcolor\":\"#C8D4E3\",\"borderwidth\":1,\"bordercolor\":\"rgb(17,17,17)\",\"tickwidth\":0},\"mapbox\":{\"style\":\"dark\"}}},\"xaxis\":{\"anchor\":\"y\",\"domain\":[0.0,1.0],\"title\":{\"text\":\"Highest PER on Team\"}},\"yaxis\":{\"anchor\":\"x\",\"domain\":[0.0,1.0],\"title\":{\"text\":\"Teams Wins\"}},\"legend\":{\"title\":{\"text\":\"Tm\"},\"tracegroupgap\":0},\"margin\":{\"t\":60},\"title\":{\"text\":\"How Does Having a High PER Player Affect Wins in a Season?\"}},                        {\"responsive\": true}                    ).then(function(){\n                            \nvar gd = document.getElementById('40fc3685-8aac-498f-aca1-9dfbc2eb0c19');\nvar x = new MutationObserver(function (mutations, observer) {{\n        var display = window.getComputedStyle(gd).display;\n        if (!display || display === 'none') {{\n            console.log([gd, 'removed!']);\n            Plotly.purge(gd);\n            observer.disconnect();\n        }}\n}});\n\n// Listen for the removal of the full notebook cells\nvar notebookContainer = gd.closest('#notebook-container');\nif (notebookContainer) {{\n    x.observe(notebookContainer, {childList: true});\n}}\n\n// Listen for the clearing of the current output cell\nvar outputEl = gd.closest('.output');\nif (outputEl) {{\n    x.observe(outputEl, {childList: true});\n}}\n\n                        })                };                });            </script>        </div>"
     },
     "metadata": {},
     "output_type": "display_data"
    }
   ],
   "source": [
    "model = LinearRegression()\n",
    "# display(per)\n",
    "\n",
    "teams[[\"wins\", \"losses\"]] = teams[\"Overall\"].str.split(\"-\", expand=True).astype(int)\n",
    "# teams[\"W/L Ratio\"] = round((teams[\"wins\"] / (teams[\"losses\"] + teams[\"wins\"])), 2)\n",
    "# WL = teams[\"W/L Ratio\"]\n",
    "#display(teams)\n",
    "\n",
    "top_players = per.groupby(\"Tm\")[\"PER\"].max().reset_index()\n",
    "top_players.loc[top_players[\"Tm\"] == \"CHO\", \"Tm\"] = \"CHA\"\n",
    "top_players = pd.merge(top_players, teams[[\"abbrev\", \"wins\"]], left_on=\"Tm\", right_on=\"abbrev\")\n",
    "top_players.drop(columns=\"abbrev\", inplace=True)\n",
    "\n",
    "required_columns = [\"Tm\", \"PER\", \"wins\"]\n",
    "assert all(column in top_players.columns for column in required_columns), \"Missing columns\"\n",
    "\n",
    "pxo.scatter(top_players, x = \"PER\", y = \"wins\", color=\"Tm\").update_layout(xaxis_title = \"Highest PER on Team\", yaxis_title = \"Teams Wins\", title=\"How Does Having a High PER Player Affect Wins in a Season?\")"
   ]
  },
  {
   "cell_type": "markdown",
   "id": "b5b83e733ffcfbb",
   "metadata": {},
   "source": [
    "## Question 2: What impact does age have on PPG?"
   ]
  },
  {
   "cell_type": "code",
   "execution_count": 38,
   "id": "3cc41477",
   "metadata": {
    "ExecuteTime": {
     "end_time": "2024-03-09T01:59:17.273954Z",
     "start_time": "2024-03-09T01:59:17.244333Z"
    }
   },
   "outputs": [
    {
     "data": {
      "text/plain": "                    Player   Rk Pos  Age   Tm   PER   3PAr   PTS\n0             Nikola Jokić    1   C   27  DEN  31.5  0.146  24.5\n1              Joel Embiid    2   C   28  PHI  31.4  0.151  33.1\n2    Giannis Antetokounmpo    3  PF   28  MIL  29.0  0.134  31.1\n3              Luka Dončić    4  PG   23  DAL  28.7  0.373  32.4\n4            Anthony Davis    5   C   29  LAL  27.8  0.077  25.9\n..                     ...  ...  ..  ...  ...   ...    ...   ...\n217          Dillon Brooks  184  SF   27  MEM   9.4  0.443  14.3\n221          Royce O'Neale  186  SF   29  BRK   9.2  0.707   8.8\n222           Gabe Vincent  187  PG   26  MIA   9.0  0.617   9.4\n226         Reggie Bullock  189  SF   31  DAL   7.7  0.845   7.2\n227            P.J. Tucker  190  PF   37  PHI   5.7  0.622   3.5\n\n[171 rows x 8 columns]",
      "text/html": "<div>\n<style scoped>\n    .dataframe tbody tr th:only-of-type {\n        vertical-align: middle;\n    }\n\n    .dataframe tbody tr th {\n        vertical-align: top;\n    }\n\n    .dataframe thead th {\n        text-align: right;\n    }\n</style>\n<table border=\"1\" class=\"dataframe\">\n  <thead>\n    <tr style=\"text-align: right;\">\n      <th></th>\n      <th>Player</th>\n      <th>Rk</th>\n      <th>Pos</th>\n      <th>Age</th>\n      <th>Tm</th>\n      <th>PER</th>\n      <th>3PAr</th>\n      <th>PTS</th>\n    </tr>\n  </thead>\n  <tbody>\n    <tr>\n      <th>0</th>\n      <td>Nikola Jokić</td>\n      <td>1</td>\n      <td>C</td>\n      <td>27</td>\n      <td>DEN</td>\n      <td>31.5</td>\n      <td>0.146</td>\n      <td>24.5</td>\n    </tr>\n    <tr>\n      <th>1</th>\n      <td>Joel Embiid</td>\n      <td>2</td>\n      <td>C</td>\n      <td>28</td>\n      <td>PHI</td>\n      <td>31.4</td>\n      <td>0.151</td>\n      <td>33.1</td>\n    </tr>\n    <tr>\n      <th>2</th>\n      <td>Giannis Antetokounmpo</td>\n      <td>3</td>\n      <td>PF</td>\n      <td>28</td>\n      <td>MIL</td>\n      <td>29.0</td>\n      <td>0.134</td>\n      <td>31.1</td>\n    </tr>\n    <tr>\n      <th>3</th>\n      <td>Luka Dončić</td>\n      <td>4</td>\n      <td>PG</td>\n      <td>23</td>\n      <td>DAL</td>\n      <td>28.7</td>\n      <td>0.373</td>\n      <td>32.4</td>\n    </tr>\n    <tr>\n      <th>4</th>\n      <td>Anthony Davis</td>\n      <td>5</td>\n      <td>C</td>\n      <td>29</td>\n      <td>LAL</td>\n      <td>27.8</td>\n      <td>0.077</td>\n      <td>25.9</td>\n    </tr>\n    <tr>\n      <th>...</th>\n      <td>...</td>\n      <td>...</td>\n      <td>...</td>\n      <td>...</td>\n      <td>...</td>\n      <td>...</td>\n      <td>...</td>\n      <td>...</td>\n    </tr>\n    <tr>\n      <th>217</th>\n      <td>Dillon Brooks</td>\n      <td>184</td>\n      <td>SF</td>\n      <td>27</td>\n      <td>MEM</td>\n      <td>9.4</td>\n      <td>0.443</td>\n      <td>14.3</td>\n    </tr>\n    <tr>\n      <th>221</th>\n      <td>Royce O'Neale</td>\n      <td>186</td>\n      <td>SF</td>\n      <td>29</td>\n      <td>BRK</td>\n      <td>9.2</td>\n      <td>0.707</td>\n      <td>8.8</td>\n    </tr>\n    <tr>\n      <th>222</th>\n      <td>Gabe Vincent</td>\n      <td>187</td>\n      <td>PG</td>\n      <td>26</td>\n      <td>MIA</td>\n      <td>9.0</td>\n      <td>0.617</td>\n      <td>9.4</td>\n    </tr>\n    <tr>\n      <th>226</th>\n      <td>Reggie Bullock</td>\n      <td>189</td>\n      <td>SF</td>\n      <td>31</td>\n      <td>DAL</td>\n      <td>7.7</td>\n      <td>0.845</td>\n      <td>7.2</td>\n    </tr>\n    <tr>\n      <th>227</th>\n      <td>P.J. Tucker</td>\n      <td>190</td>\n      <td>PF</td>\n      <td>37</td>\n      <td>PHI</td>\n      <td>5.7</td>\n      <td>0.622</td>\n      <td>3.5</td>\n    </tr>\n  </tbody>\n</table>\n<p>171 rows × 8 columns</p>\n</div>"
     },
     "metadata": {},
     "output_type": "display_data"
    },
    {
     "data": {
      "application/vnd.plotly.v1+json": {
       "data": [
        {
         "alignmentgroup": "True",
         "hovertemplate": "variable=PTS<br>Age=%{x}<br>value=%{y}<extra></extra>",
         "legendgroup": "PTS",
         "marker": {
          "color": "#636efa",
          "pattern": {
           "shape": ""
          }
         },
         "name": "PTS",
         "offsetgroup": "PTS",
         "orientation": "v",
         "showlegend": true,
         "textposition": "auto",
         "x": [
          19,
          20,
          21,
          22,
          23,
          24,
          25,
          26,
          27,
          28,
          29,
          30,
          31,
          32,
          33,
          34,
          36,
          37,
          38
         ],
         "xaxis": "x",
         "y": [
          10.5,
          17.75,
          14.2,
          13.05625,
          16.16842105263158,
          15.63684210526316,
          17.045454545454547,
          16.04,
          15.87857142857143,
          19.0,
          14.4875,
          13.700000000000001,
          14.4,
          18.175,
          20.240000000000002,
          17.133333333333333,
          10.5,
          8.7,
          28.9
         ],
         "yaxis": "y",
         "type": "bar"
        }
       ],
       "layout": {
        "template": {
         "data": {
          "histogram2dcontour": [
           {
            "type": "histogram2dcontour",
            "colorbar": {
             "outlinewidth": 0,
             "ticks": ""
            },
            "colorscale": [
             [
              0.0,
              "#0d0887"
             ],
             [
              0.1111111111111111,
              "#46039f"
             ],
             [
              0.2222222222222222,
              "#7201a8"
             ],
             [
              0.3333333333333333,
              "#9c179e"
             ],
             [
              0.4444444444444444,
              "#bd3786"
             ],
             [
              0.5555555555555556,
              "#d8576b"
             ],
             [
              0.6666666666666666,
              "#ed7953"
             ],
             [
              0.7777777777777778,
              "#fb9f3a"
             ],
             [
              0.8888888888888888,
              "#fdca26"
             ],
             [
              1.0,
              "#f0f921"
             ]
            ]
           }
          ],
          "choropleth": [
           {
            "type": "choropleth",
            "colorbar": {
             "outlinewidth": 0,
             "ticks": ""
            }
           }
          ],
          "histogram2d": [
           {
            "type": "histogram2d",
            "colorbar": {
             "outlinewidth": 0,
             "ticks": ""
            },
            "colorscale": [
             [
              0.0,
              "#0d0887"
             ],
             [
              0.1111111111111111,
              "#46039f"
             ],
             [
              0.2222222222222222,
              "#7201a8"
             ],
             [
              0.3333333333333333,
              "#9c179e"
             ],
             [
              0.4444444444444444,
              "#bd3786"
             ],
             [
              0.5555555555555556,
              "#d8576b"
             ],
             [
              0.6666666666666666,
              "#ed7953"
             ],
             [
              0.7777777777777778,
              "#fb9f3a"
             ],
             [
              0.8888888888888888,
              "#fdca26"
             ],
             [
              1.0,
              "#f0f921"
             ]
            ]
           }
          ],
          "heatmap": [
           {
            "type": "heatmap",
            "colorbar": {
             "outlinewidth": 0,
             "ticks": ""
            },
            "colorscale": [
             [
              0.0,
              "#0d0887"
             ],
             [
              0.1111111111111111,
              "#46039f"
             ],
             [
              0.2222222222222222,
              "#7201a8"
             ],
             [
              0.3333333333333333,
              "#9c179e"
             ],
             [
              0.4444444444444444,
              "#bd3786"
             ],
             [
              0.5555555555555556,
              "#d8576b"
             ],
             [
              0.6666666666666666,
              "#ed7953"
             ],
             [
              0.7777777777777778,
              "#fb9f3a"
             ],
             [
              0.8888888888888888,
              "#fdca26"
             ],
             [
              1.0,
              "#f0f921"
             ]
            ]
           }
          ],
          "heatmapgl": [
           {
            "type": "heatmapgl",
            "colorbar": {
             "outlinewidth": 0,
             "ticks": ""
            },
            "colorscale": [
             [
              0.0,
              "#0d0887"
             ],
             [
              0.1111111111111111,
              "#46039f"
             ],
             [
              0.2222222222222222,
              "#7201a8"
             ],
             [
              0.3333333333333333,
              "#9c179e"
             ],
             [
              0.4444444444444444,
              "#bd3786"
             ],
             [
              0.5555555555555556,
              "#d8576b"
             ],
             [
              0.6666666666666666,
              "#ed7953"
             ],
             [
              0.7777777777777778,
              "#fb9f3a"
             ],
             [
              0.8888888888888888,
              "#fdca26"
             ],
             [
              1.0,
              "#f0f921"
             ]
            ]
           }
          ],
          "contourcarpet": [
           {
            "type": "contourcarpet",
            "colorbar": {
             "outlinewidth": 0,
             "ticks": ""
            }
           }
          ],
          "contour": [
           {
            "type": "contour",
            "colorbar": {
             "outlinewidth": 0,
             "ticks": ""
            },
            "colorscale": [
             [
              0.0,
              "#0d0887"
             ],
             [
              0.1111111111111111,
              "#46039f"
             ],
             [
              0.2222222222222222,
              "#7201a8"
             ],
             [
              0.3333333333333333,
              "#9c179e"
             ],
             [
              0.4444444444444444,
              "#bd3786"
             ],
             [
              0.5555555555555556,
              "#d8576b"
             ],
             [
              0.6666666666666666,
              "#ed7953"
             ],
             [
              0.7777777777777778,
              "#fb9f3a"
             ],
             [
              0.8888888888888888,
              "#fdca26"
             ],
             [
              1.0,
              "#f0f921"
             ]
            ]
           }
          ],
          "surface": [
           {
            "type": "surface",
            "colorbar": {
             "outlinewidth": 0,
             "ticks": ""
            },
            "colorscale": [
             [
              0.0,
              "#0d0887"
             ],
             [
              0.1111111111111111,
              "#46039f"
             ],
             [
              0.2222222222222222,
              "#7201a8"
             ],
             [
              0.3333333333333333,
              "#9c179e"
             ],
             [
              0.4444444444444444,
              "#bd3786"
             ],
             [
              0.5555555555555556,
              "#d8576b"
             ],
             [
              0.6666666666666666,
              "#ed7953"
             ],
             [
              0.7777777777777778,
              "#fb9f3a"
             ],
             [
              0.8888888888888888,
              "#fdca26"
             ],
             [
              1.0,
              "#f0f921"
             ]
            ]
           }
          ],
          "mesh3d": [
           {
            "type": "mesh3d",
            "colorbar": {
             "outlinewidth": 0,
             "ticks": ""
            }
           }
          ],
          "scatter": [
           {
            "marker": {
             "line": {
              "color": "#283442"
             }
            },
            "type": "scatter"
           }
          ],
          "parcoords": [
           {
            "type": "parcoords",
            "line": {
             "colorbar": {
              "outlinewidth": 0,
              "ticks": ""
             }
            }
           }
          ],
          "scatterpolargl": [
           {
            "type": "scatterpolargl",
            "marker": {
             "colorbar": {
              "outlinewidth": 0,
              "ticks": ""
             }
            }
           }
          ],
          "bar": [
           {
            "error_x": {
             "color": "#f2f5fa"
            },
            "error_y": {
             "color": "#f2f5fa"
            },
            "marker": {
             "line": {
              "color": "rgb(17,17,17)",
              "width": 0.5
             },
             "pattern": {
              "fillmode": "overlay",
              "size": 10,
              "solidity": 0.2
             }
            },
            "type": "bar"
           }
          ],
          "scattergeo": [
           {
            "type": "scattergeo",
            "marker": {
             "colorbar": {
              "outlinewidth": 0,
              "ticks": ""
             }
            }
           }
          ],
          "scatterpolar": [
           {
            "type": "scatterpolar",
            "marker": {
             "colorbar": {
              "outlinewidth": 0,
              "ticks": ""
             }
            }
           }
          ],
          "histogram": [
           {
            "marker": {
             "pattern": {
              "fillmode": "overlay",
              "size": 10,
              "solidity": 0.2
             }
            },
            "type": "histogram"
           }
          ],
          "scattergl": [
           {
            "marker": {
             "line": {
              "color": "#283442"
             }
            },
            "type": "scattergl"
           }
          ],
          "scatter3d": [
           {
            "type": "scatter3d",
            "line": {
             "colorbar": {
              "outlinewidth": 0,
              "ticks": ""
             }
            },
            "marker": {
             "colorbar": {
              "outlinewidth": 0,
              "ticks": ""
             }
            }
           }
          ],
          "scattermapbox": [
           {
            "type": "scattermapbox",
            "marker": {
             "colorbar": {
              "outlinewidth": 0,
              "ticks": ""
             }
            }
           }
          ],
          "scatterternary": [
           {
            "type": "scatterternary",
            "marker": {
             "colorbar": {
              "outlinewidth": 0,
              "ticks": ""
             }
            }
           }
          ],
          "scattercarpet": [
           {
            "type": "scattercarpet",
            "marker": {
             "colorbar": {
              "outlinewidth": 0,
              "ticks": ""
             }
            }
           }
          ],
          "carpet": [
           {
            "aaxis": {
             "endlinecolor": "#A2B1C6",
             "gridcolor": "#506784",
             "linecolor": "#506784",
             "minorgridcolor": "#506784",
             "startlinecolor": "#A2B1C6"
            },
            "baxis": {
             "endlinecolor": "#A2B1C6",
             "gridcolor": "#506784",
             "linecolor": "#506784",
             "minorgridcolor": "#506784",
             "startlinecolor": "#A2B1C6"
            },
            "type": "carpet"
           }
          ],
          "table": [
           {
            "cells": {
             "fill": {
              "color": "#506784"
             },
             "line": {
              "color": "rgb(17,17,17)"
             }
            },
            "header": {
             "fill": {
              "color": "#2a3f5f"
             },
             "line": {
              "color": "rgb(17,17,17)"
             }
            },
            "type": "table"
           }
          ],
          "barpolar": [
           {
            "marker": {
             "line": {
              "color": "rgb(17,17,17)",
              "width": 0.5
             },
             "pattern": {
              "fillmode": "overlay",
              "size": 10,
              "solidity": 0.2
             }
            },
            "type": "barpolar"
           }
          ],
          "pie": [
           {
            "automargin": true,
            "type": "pie"
           }
          ]
         },
         "layout": {
          "autotypenumbers": "strict",
          "colorway": [
           "#636efa",
           "#EF553B",
           "#00cc96",
           "#ab63fa",
           "#FFA15A",
           "#19d3f3",
           "#FF6692",
           "#B6E880",
           "#FF97FF",
           "#FECB52"
          ],
          "font": {
           "color": "#f2f5fa"
          },
          "hovermode": "closest",
          "hoverlabel": {
           "align": "left"
          },
          "paper_bgcolor": "rgb(17,17,17)",
          "plot_bgcolor": "rgb(17,17,17)",
          "polar": {
           "bgcolor": "rgb(17,17,17)",
           "angularaxis": {
            "gridcolor": "#506784",
            "linecolor": "#506784",
            "ticks": ""
           },
           "radialaxis": {
            "gridcolor": "#506784",
            "linecolor": "#506784",
            "ticks": ""
           }
          },
          "ternary": {
           "bgcolor": "rgb(17,17,17)",
           "aaxis": {
            "gridcolor": "#506784",
            "linecolor": "#506784",
            "ticks": ""
           },
           "baxis": {
            "gridcolor": "#506784",
            "linecolor": "#506784",
            "ticks": ""
           },
           "caxis": {
            "gridcolor": "#506784",
            "linecolor": "#506784",
            "ticks": ""
           }
          },
          "coloraxis": {
           "colorbar": {
            "outlinewidth": 0,
            "ticks": ""
           }
          },
          "colorscale": {
           "sequential": [
            [
             0.0,
             "#0d0887"
            ],
            [
             0.1111111111111111,
             "#46039f"
            ],
            [
             0.2222222222222222,
             "#7201a8"
            ],
            [
             0.3333333333333333,
             "#9c179e"
            ],
            [
             0.4444444444444444,
             "#bd3786"
            ],
            [
             0.5555555555555556,
             "#d8576b"
            ],
            [
             0.6666666666666666,
             "#ed7953"
            ],
            [
             0.7777777777777778,
             "#fb9f3a"
            ],
            [
             0.8888888888888888,
             "#fdca26"
            ],
            [
             1.0,
             "#f0f921"
            ]
           ],
           "sequentialminus": [
            [
             0.0,
             "#0d0887"
            ],
            [
             0.1111111111111111,
             "#46039f"
            ],
            [
             0.2222222222222222,
             "#7201a8"
            ],
            [
             0.3333333333333333,
             "#9c179e"
            ],
            [
             0.4444444444444444,
             "#bd3786"
            ],
            [
             0.5555555555555556,
             "#d8576b"
            ],
            [
             0.6666666666666666,
             "#ed7953"
            ],
            [
             0.7777777777777778,
             "#fb9f3a"
            ],
            [
             0.8888888888888888,
             "#fdca26"
            ],
            [
             1.0,
             "#f0f921"
            ]
           ],
           "diverging": [
            [
             0,
             "#8e0152"
            ],
            [
             0.1,
             "#c51b7d"
            ],
            [
             0.2,
             "#de77ae"
            ],
            [
             0.3,
             "#f1b6da"
            ],
            [
             0.4,
             "#fde0ef"
            ],
            [
             0.5,
             "#f7f7f7"
            ],
            [
             0.6,
             "#e6f5d0"
            ],
            [
             0.7,
             "#b8e186"
            ],
            [
             0.8,
             "#7fbc41"
            ],
            [
             0.9,
             "#4d9221"
            ],
            [
             1,
             "#276419"
            ]
           ]
          },
          "xaxis": {
           "gridcolor": "#283442",
           "linecolor": "#506784",
           "ticks": "",
           "title": {
            "standoff": 15
           },
           "zerolinecolor": "#283442",
           "automargin": true,
           "zerolinewidth": 2
          },
          "yaxis": {
           "gridcolor": "#283442",
           "linecolor": "#506784",
           "ticks": "",
           "title": {
            "standoff": 15
           },
           "zerolinecolor": "#283442",
           "automargin": true,
           "zerolinewidth": 2
          },
          "scene": {
           "xaxis": {
            "backgroundcolor": "rgb(17,17,17)",
            "gridcolor": "#506784",
            "linecolor": "#506784",
            "showbackground": true,
            "ticks": "",
            "zerolinecolor": "#C8D4E3",
            "gridwidth": 2
           },
           "yaxis": {
            "backgroundcolor": "rgb(17,17,17)",
            "gridcolor": "#506784",
            "linecolor": "#506784",
            "showbackground": true,
            "ticks": "",
            "zerolinecolor": "#C8D4E3",
            "gridwidth": 2
           },
           "zaxis": {
            "backgroundcolor": "rgb(17,17,17)",
            "gridcolor": "#506784",
            "linecolor": "#506784",
            "showbackground": true,
            "ticks": "",
            "zerolinecolor": "#C8D4E3",
            "gridwidth": 2
           }
          },
          "shapedefaults": {
           "line": {
            "color": "#f2f5fa"
           }
          },
          "annotationdefaults": {
           "arrowcolor": "#f2f5fa",
           "arrowhead": 0,
           "arrowwidth": 1
          },
          "geo": {
           "bgcolor": "rgb(17,17,17)",
           "landcolor": "rgb(17,17,17)",
           "subunitcolor": "#506784",
           "showland": true,
           "showlakes": true,
           "lakecolor": "rgb(17,17,17)"
          },
          "title": {
           "x": 0.05
          },
          "updatemenudefaults": {
           "bgcolor": "#506784",
           "borderwidth": 0
          },
          "sliderdefaults": {
           "bgcolor": "#C8D4E3",
           "borderwidth": 1,
           "bordercolor": "rgb(17,17,17)",
           "tickwidth": 0
          },
          "mapbox": {
           "style": "dark"
          }
         }
        },
        "xaxis": {
         "anchor": "y",
         "domain": [
          0.0,
          1.0
         ],
         "title": {
          "text": "Age"
         }
        },
        "yaxis": {
         "anchor": "x",
         "domain": [
          0.0,
          1.0
         ],
         "title": {
          "text": "Points Per Game"
         }
        },
        "legend": {
         "title": {
          "text": "variable"
         },
         "tracegroupgap": 0
        },
        "margin": {
         "t": 60
        },
        "barmode": "relative",
        "title": {
         "text": "How Does Age Affect The Average Points Per Game of an NBA Player?"
        }
       },
       "config": {
        "plotlyServerURL": "https://plot.ly"
       }
      },
      "text/html": "<div>                            <div id=\"8037d0f1-1d9d-40f0-85fe-f188488263cd\" class=\"plotly-graph-div\" style=\"height:525px; width:100%;\"></div>            <script type=\"text/javascript\">                require([\"plotly\"], function(Plotly) {                    window.PLOTLYENV=window.PLOTLYENV || {};                                    if (document.getElementById(\"8037d0f1-1d9d-40f0-85fe-f188488263cd\")) {                    Plotly.newPlot(                        \"8037d0f1-1d9d-40f0-85fe-f188488263cd\",                        [{\"alignmentgroup\":\"True\",\"hovertemplate\":\"variable=PTS\\u003cbr\\u003eAge=%{x}\\u003cbr\\u003evalue=%{y}\\u003cextra\\u003e\\u003c\\u002fextra\\u003e\",\"legendgroup\":\"PTS\",\"marker\":{\"color\":\"#636efa\",\"pattern\":{\"shape\":\"\"}},\"name\":\"PTS\",\"offsetgroup\":\"PTS\",\"orientation\":\"v\",\"showlegend\":true,\"textposition\":\"auto\",\"x\":[19,20,21,22,23,24,25,26,27,28,29,30,31,32,33,34,36,37,38],\"xaxis\":\"x\",\"y\":[10.5,17.75,14.2,13.05625,16.16842105263158,15.63684210526316,17.045454545454547,16.04,15.87857142857143,19.0,14.4875,13.700000000000001,14.4,18.175,20.240000000000002,17.133333333333333,10.5,8.7,28.9],\"yaxis\":\"y\",\"type\":\"bar\"}],                        {\"template\":{\"data\":{\"histogram2dcontour\":[{\"type\":\"histogram2dcontour\",\"colorbar\":{\"outlinewidth\":0,\"ticks\":\"\"},\"colorscale\":[[0.0,\"#0d0887\"],[0.1111111111111111,\"#46039f\"],[0.2222222222222222,\"#7201a8\"],[0.3333333333333333,\"#9c179e\"],[0.4444444444444444,\"#bd3786\"],[0.5555555555555556,\"#d8576b\"],[0.6666666666666666,\"#ed7953\"],[0.7777777777777778,\"#fb9f3a\"],[0.8888888888888888,\"#fdca26\"],[1.0,\"#f0f921\"]]}],\"choropleth\":[{\"type\":\"choropleth\",\"colorbar\":{\"outlinewidth\":0,\"ticks\":\"\"}}],\"histogram2d\":[{\"type\":\"histogram2d\",\"colorbar\":{\"outlinewidth\":0,\"ticks\":\"\"},\"colorscale\":[[0.0,\"#0d0887\"],[0.1111111111111111,\"#46039f\"],[0.2222222222222222,\"#7201a8\"],[0.3333333333333333,\"#9c179e\"],[0.4444444444444444,\"#bd3786\"],[0.5555555555555556,\"#d8576b\"],[0.6666666666666666,\"#ed7953\"],[0.7777777777777778,\"#fb9f3a\"],[0.8888888888888888,\"#fdca26\"],[1.0,\"#f0f921\"]]}],\"heatmap\":[{\"type\":\"heatmap\",\"colorbar\":{\"outlinewidth\":0,\"ticks\":\"\"},\"colorscale\":[[0.0,\"#0d0887\"],[0.1111111111111111,\"#46039f\"],[0.2222222222222222,\"#7201a8\"],[0.3333333333333333,\"#9c179e\"],[0.4444444444444444,\"#bd3786\"],[0.5555555555555556,\"#d8576b\"],[0.6666666666666666,\"#ed7953\"],[0.7777777777777778,\"#fb9f3a\"],[0.8888888888888888,\"#fdca26\"],[1.0,\"#f0f921\"]]}],\"heatmapgl\":[{\"type\":\"heatmapgl\",\"colorbar\":{\"outlinewidth\":0,\"ticks\":\"\"},\"colorscale\":[[0.0,\"#0d0887\"],[0.1111111111111111,\"#46039f\"],[0.2222222222222222,\"#7201a8\"],[0.3333333333333333,\"#9c179e\"],[0.4444444444444444,\"#bd3786\"],[0.5555555555555556,\"#d8576b\"],[0.6666666666666666,\"#ed7953\"],[0.7777777777777778,\"#fb9f3a\"],[0.8888888888888888,\"#fdca26\"],[1.0,\"#f0f921\"]]}],\"contourcarpet\":[{\"type\":\"contourcarpet\",\"colorbar\":{\"outlinewidth\":0,\"ticks\":\"\"}}],\"contour\":[{\"type\":\"contour\",\"colorbar\":{\"outlinewidth\":0,\"ticks\":\"\"},\"colorscale\":[[0.0,\"#0d0887\"],[0.1111111111111111,\"#46039f\"],[0.2222222222222222,\"#7201a8\"],[0.3333333333333333,\"#9c179e\"],[0.4444444444444444,\"#bd3786\"],[0.5555555555555556,\"#d8576b\"],[0.6666666666666666,\"#ed7953\"],[0.7777777777777778,\"#fb9f3a\"],[0.8888888888888888,\"#fdca26\"],[1.0,\"#f0f921\"]]}],\"surface\":[{\"type\":\"surface\",\"colorbar\":{\"outlinewidth\":0,\"ticks\":\"\"},\"colorscale\":[[0.0,\"#0d0887\"],[0.1111111111111111,\"#46039f\"],[0.2222222222222222,\"#7201a8\"],[0.3333333333333333,\"#9c179e\"],[0.4444444444444444,\"#bd3786\"],[0.5555555555555556,\"#d8576b\"],[0.6666666666666666,\"#ed7953\"],[0.7777777777777778,\"#fb9f3a\"],[0.8888888888888888,\"#fdca26\"],[1.0,\"#f0f921\"]]}],\"mesh3d\":[{\"type\":\"mesh3d\",\"colorbar\":{\"outlinewidth\":0,\"ticks\":\"\"}}],\"scatter\":[{\"marker\":{\"line\":{\"color\":\"#283442\"}},\"type\":\"scatter\"}],\"parcoords\":[{\"type\":\"parcoords\",\"line\":{\"colorbar\":{\"outlinewidth\":0,\"ticks\":\"\"}}}],\"scatterpolargl\":[{\"type\":\"scatterpolargl\",\"marker\":{\"colorbar\":{\"outlinewidth\":0,\"ticks\":\"\"}}}],\"bar\":[{\"error_x\":{\"color\":\"#f2f5fa\"},\"error_y\":{\"color\":\"#f2f5fa\"},\"marker\":{\"line\":{\"color\":\"rgb(17,17,17)\",\"width\":0.5},\"pattern\":{\"fillmode\":\"overlay\",\"size\":10,\"solidity\":0.2}},\"type\":\"bar\"}],\"scattergeo\":[{\"type\":\"scattergeo\",\"marker\":{\"colorbar\":{\"outlinewidth\":0,\"ticks\":\"\"}}}],\"scatterpolar\":[{\"type\":\"scatterpolar\",\"marker\":{\"colorbar\":{\"outlinewidth\":0,\"ticks\":\"\"}}}],\"histogram\":[{\"marker\":{\"pattern\":{\"fillmode\":\"overlay\",\"size\":10,\"solidity\":0.2}},\"type\":\"histogram\"}],\"scattergl\":[{\"marker\":{\"line\":{\"color\":\"#283442\"}},\"type\":\"scattergl\"}],\"scatter3d\":[{\"type\":\"scatter3d\",\"line\":{\"colorbar\":{\"outlinewidth\":0,\"ticks\":\"\"}},\"marker\":{\"colorbar\":{\"outlinewidth\":0,\"ticks\":\"\"}}}],\"scattermapbox\":[{\"type\":\"scattermapbox\",\"marker\":{\"colorbar\":{\"outlinewidth\":0,\"ticks\":\"\"}}}],\"scatterternary\":[{\"type\":\"scatterternary\",\"marker\":{\"colorbar\":{\"outlinewidth\":0,\"ticks\":\"\"}}}],\"scattercarpet\":[{\"type\":\"scattercarpet\",\"marker\":{\"colorbar\":{\"outlinewidth\":0,\"ticks\":\"\"}}}],\"carpet\":[{\"aaxis\":{\"endlinecolor\":\"#A2B1C6\",\"gridcolor\":\"#506784\",\"linecolor\":\"#506784\",\"minorgridcolor\":\"#506784\",\"startlinecolor\":\"#A2B1C6\"},\"baxis\":{\"endlinecolor\":\"#A2B1C6\",\"gridcolor\":\"#506784\",\"linecolor\":\"#506784\",\"minorgridcolor\":\"#506784\",\"startlinecolor\":\"#A2B1C6\"},\"type\":\"carpet\"}],\"table\":[{\"cells\":{\"fill\":{\"color\":\"#506784\"},\"line\":{\"color\":\"rgb(17,17,17)\"}},\"header\":{\"fill\":{\"color\":\"#2a3f5f\"},\"line\":{\"color\":\"rgb(17,17,17)\"}},\"type\":\"table\"}],\"barpolar\":[{\"marker\":{\"line\":{\"color\":\"rgb(17,17,17)\",\"width\":0.5},\"pattern\":{\"fillmode\":\"overlay\",\"size\":10,\"solidity\":0.2}},\"type\":\"barpolar\"}],\"pie\":[{\"automargin\":true,\"type\":\"pie\"}]},\"layout\":{\"autotypenumbers\":\"strict\",\"colorway\":[\"#636efa\",\"#EF553B\",\"#00cc96\",\"#ab63fa\",\"#FFA15A\",\"#19d3f3\",\"#FF6692\",\"#B6E880\",\"#FF97FF\",\"#FECB52\"],\"font\":{\"color\":\"#f2f5fa\"},\"hovermode\":\"closest\",\"hoverlabel\":{\"align\":\"left\"},\"paper_bgcolor\":\"rgb(17,17,17)\",\"plot_bgcolor\":\"rgb(17,17,17)\",\"polar\":{\"bgcolor\":\"rgb(17,17,17)\",\"angularaxis\":{\"gridcolor\":\"#506784\",\"linecolor\":\"#506784\",\"ticks\":\"\"},\"radialaxis\":{\"gridcolor\":\"#506784\",\"linecolor\":\"#506784\",\"ticks\":\"\"}},\"ternary\":{\"bgcolor\":\"rgb(17,17,17)\",\"aaxis\":{\"gridcolor\":\"#506784\",\"linecolor\":\"#506784\",\"ticks\":\"\"},\"baxis\":{\"gridcolor\":\"#506784\",\"linecolor\":\"#506784\",\"ticks\":\"\"},\"caxis\":{\"gridcolor\":\"#506784\",\"linecolor\":\"#506784\",\"ticks\":\"\"}},\"coloraxis\":{\"colorbar\":{\"outlinewidth\":0,\"ticks\":\"\"}},\"colorscale\":{\"sequential\":[[0.0,\"#0d0887\"],[0.1111111111111111,\"#46039f\"],[0.2222222222222222,\"#7201a8\"],[0.3333333333333333,\"#9c179e\"],[0.4444444444444444,\"#bd3786\"],[0.5555555555555556,\"#d8576b\"],[0.6666666666666666,\"#ed7953\"],[0.7777777777777778,\"#fb9f3a\"],[0.8888888888888888,\"#fdca26\"],[1.0,\"#f0f921\"]],\"sequentialminus\":[[0.0,\"#0d0887\"],[0.1111111111111111,\"#46039f\"],[0.2222222222222222,\"#7201a8\"],[0.3333333333333333,\"#9c179e\"],[0.4444444444444444,\"#bd3786\"],[0.5555555555555556,\"#d8576b\"],[0.6666666666666666,\"#ed7953\"],[0.7777777777777778,\"#fb9f3a\"],[0.8888888888888888,\"#fdca26\"],[1.0,\"#f0f921\"]],\"diverging\":[[0,\"#8e0152\"],[0.1,\"#c51b7d\"],[0.2,\"#de77ae\"],[0.3,\"#f1b6da\"],[0.4,\"#fde0ef\"],[0.5,\"#f7f7f7\"],[0.6,\"#e6f5d0\"],[0.7,\"#b8e186\"],[0.8,\"#7fbc41\"],[0.9,\"#4d9221\"],[1,\"#276419\"]]},\"xaxis\":{\"gridcolor\":\"#283442\",\"linecolor\":\"#506784\",\"ticks\":\"\",\"title\":{\"standoff\":15},\"zerolinecolor\":\"#283442\",\"automargin\":true,\"zerolinewidth\":2},\"yaxis\":{\"gridcolor\":\"#283442\",\"linecolor\":\"#506784\",\"ticks\":\"\",\"title\":{\"standoff\":15},\"zerolinecolor\":\"#283442\",\"automargin\":true,\"zerolinewidth\":2},\"scene\":{\"xaxis\":{\"backgroundcolor\":\"rgb(17,17,17)\",\"gridcolor\":\"#506784\",\"linecolor\":\"#506784\",\"showbackground\":true,\"ticks\":\"\",\"zerolinecolor\":\"#C8D4E3\",\"gridwidth\":2},\"yaxis\":{\"backgroundcolor\":\"rgb(17,17,17)\",\"gridcolor\":\"#506784\",\"linecolor\":\"#506784\",\"showbackground\":true,\"ticks\":\"\",\"zerolinecolor\":\"#C8D4E3\",\"gridwidth\":2},\"zaxis\":{\"backgroundcolor\":\"rgb(17,17,17)\",\"gridcolor\":\"#506784\",\"linecolor\":\"#506784\",\"showbackground\":true,\"ticks\":\"\",\"zerolinecolor\":\"#C8D4E3\",\"gridwidth\":2}},\"shapedefaults\":{\"line\":{\"color\":\"#f2f5fa\"}},\"annotationdefaults\":{\"arrowcolor\":\"#f2f5fa\",\"arrowhead\":0,\"arrowwidth\":1},\"geo\":{\"bgcolor\":\"rgb(17,17,17)\",\"landcolor\":\"rgb(17,17,17)\",\"subunitcolor\":\"#506784\",\"showland\":true,\"showlakes\":true,\"lakecolor\":\"rgb(17,17,17)\"},\"title\":{\"x\":0.05},\"updatemenudefaults\":{\"bgcolor\":\"#506784\",\"borderwidth\":0},\"sliderdefaults\":{\"bgcolor\":\"#C8D4E3\",\"borderwidth\":1,\"bordercolor\":\"rgb(17,17,17)\",\"tickwidth\":0},\"mapbox\":{\"style\":\"dark\"}}},\"xaxis\":{\"anchor\":\"y\",\"domain\":[0.0,1.0],\"title\":{\"text\":\"Age\"}},\"yaxis\":{\"anchor\":\"x\",\"domain\":[0.0,1.0],\"title\":{\"text\":\"Points Per Game\"}},\"legend\":{\"title\":{\"text\":\"variable\"},\"tracegroupgap\":0},\"margin\":{\"t\":60},\"barmode\":\"relative\",\"title\":{\"text\":\"How Does Age Affect The Average Points Per Game of an NBA Player?\"}},                        {\"responsive\": true}                    ).then(function(){\n                            \nvar gd = document.getElementById('8037d0f1-1d9d-40f0-85fe-f188488263cd');\nvar x = new MutationObserver(function (mutations, observer) {{\n        var display = window.getComputedStyle(gd).display;\n        if (!display || display === 'none') {{\n            console.log([gd, 'removed!']);\n            Plotly.purge(gd);\n            observer.disconnect();\n        }}\n}});\n\n// Listen for the removal of the full notebook cells\nvar notebookContainer = gd.closest('#notebook-container');\nif (notebookContainer) {{\n    x.observe(notebookContainer, {childList: true});\n}}\n\n// Listen for the clearing of the current output cell\nvar outputEl = gd.closest('.output');\nif (outputEl) {{\n    x.observe(outputEl, {childList: true});\n}}\n\n                        })                };                });            </script>        </div>"
     },
     "metadata": {},
     "output_type": "display_data"
    }
   ],
   "source": [
    "display(per)\n",
    "required_columns = [\"Player\", \" Rk\", \"Pos\", \"Age\", \"Tm\", \"PER\", \"3PAr\", \"PTS\"]\n",
    "assert all(column in per.columns for column in required_columns), \"Missing columns\"\n",
    "\n",
    "age_avgs = per.groupby(\"Age\")[\"PTS\"].mean()\n",
    "age_avgs\n",
    "pxo.bar(age_avgs).update_layout( yaxis_title = \"Points Per Game\", title=\"How Does Age Affect The Average Points Per Game of an NBA Player?\")"
   ]
  },
  {
   "cell_type": "markdown",
   "id": "488f3add",
   "metadata": {},
   "source": [
    "### Follow up questions:\n",
    "- Could this be more indicative of the impact that ppg has on the longevity of a career?"
   ]
  },
  {
   "cell_type": "markdown",
   "id": "9dd85ca5c3f5a88b",
   "metadata": {
    "collapsed": false
   },
   "source": [
    "## Question 3: Does the three-point shot frequency correlate with higher team scoring averages and how does this impact Win/Loss record?\n"
   ]
  },
  {
   "cell_type": "code",
   "execution_count": 41,
   "id": "8f634519fd728732",
   "metadata": {
    "collapsed": false,
    "ExecuteTime": {
     "end_time": "2024-03-09T02:01:37.126148Z",
     "start_time": "2024-03-09T02:01:37.055143Z"
    }
   },
   "outputs": [
    {
     "data": {
      "application/vnd.plotly.v1+json": {
       "data": [
        {
         "hovertemplate": "Team=Sacramento Kings<br>wins=%{x}<br>PTS=%{y}<br>3PA=%{marker.size}<extra></extra>",
         "legendgroup": "Sacramento Kings",
         "marker": {
          "color": "#636efa",
          "size": [
           37.3
          ],
          "sizemode": "area",
          "sizeref": 0.10800000000000001,
          "symbol": "circle"
         },
         "mode": "markers",
         "name": "Sacramento Kings",
         "orientation": "v",
         "showlegend": true,
         "x": [
          48
         ],
         "xaxis": "x",
         "y": [
          120.7
         ],
         "yaxis": "y",
         "type": "scatter"
        },
        {
         "hovertemplate": "Team=Golden State Warriors<br>wins=%{x}<br>PTS=%{y}<br>3PA=%{marker.size}<extra></extra>",
         "legendgroup": "Golden State Warriors",
         "marker": {
          "color": "#EF553B",
          "size": [
           43.2
          ],
          "sizemode": "area",
          "sizeref": 0.10800000000000001,
          "symbol": "circle"
         },
         "mode": "markers",
         "name": "Golden State Warriors",
         "orientation": "v",
         "showlegend": true,
         "x": [
          44
         ],
         "xaxis": "x",
         "y": [
          118.9
         ],
         "yaxis": "y",
         "type": "scatter"
        },
        {
         "hovertemplate": "Team=Atlanta Hawks<br>wins=%{x}<br>PTS=%{y}<br>3PA=%{marker.size}<extra></extra>",
         "legendgroup": "Atlanta Hawks",
         "marker": {
          "color": "#00cc96",
          "size": [
           30.5
          ],
          "sizemode": "area",
          "sizeref": 0.10800000000000001,
          "symbol": "circle"
         },
         "mode": "markers",
         "name": "Atlanta Hawks",
         "orientation": "v",
         "showlegend": true,
         "x": [
          41
         ],
         "xaxis": "x",
         "y": [
          118.4
         ],
         "yaxis": "y",
         "type": "scatter"
        },
        {
         "hovertemplate": "Team=Boston Celtics<br>wins=%{x}<br>PTS=%{y}<br>3PA=%{marker.size}<extra></extra>",
         "legendgroup": "Boston Celtics",
         "marker": {
          "color": "#ab63fa",
          "size": [
           42.6
          ],
          "sizemode": "area",
          "sizeref": 0.10800000000000001,
          "symbol": "circle"
         },
         "mode": "markers",
         "name": "Boston Celtics",
         "orientation": "v",
         "showlegend": true,
         "x": [
          57
         ],
         "xaxis": "x",
         "y": [
          117.9
         ],
         "yaxis": "y",
         "type": "scatter"
        },
        {
         "hovertemplate": "Team=Oklahoma City Thunder<br>wins=%{x}<br>PTS=%{y}<br>3PA=%{marker.size}<extra></extra>",
         "legendgroup": "Oklahoma City Thunder",
         "marker": {
          "color": "#FFA15A",
          "size": [
           34.1
          ],
          "sizemode": "area",
          "sizeref": 0.10800000000000001,
          "symbol": "circle"
         },
         "mode": "markers",
         "name": "Oklahoma City Thunder",
         "orientation": "v",
         "showlegend": true,
         "x": [
          40
         ],
         "xaxis": "x",
         "y": [
          117.5
         ],
         "yaxis": "y",
         "type": "scatter"
        },
        {
         "hovertemplate": "Team=Los Angeles Lakers<br>wins=%{x}<br>PTS=%{y}<br>3PA=%{marker.size}<extra></extra>",
         "legendgroup": "Los Angeles Lakers",
         "marker": {
          "color": "#19d3f3",
          "size": [
           31.2
          ],
          "sizemode": "area",
          "sizeref": 0.10800000000000001,
          "symbol": "circle"
         },
         "mode": "markers",
         "name": "Los Angeles Lakers",
         "orientation": "v",
         "showlegend": true,
         "x": [
          43
         ],
         "xaxis": "x",
         "y": [
          117.2
         ],
         "yaxis": "y",
         "type": "scatter"
        },
        {
         "hovertemplate": "Team=Utah Jazz<br>wins=%{x}<br>PTS=%{y}<br>3PA=%{marker.size}<extra></extra>",
         "legendgroup": "Utah Jazz",
         "marker": {
          "color": "#FF6692",
          "size": [
           37.8
          ],
          "sizemode": "area",
          "sizeref": 0.10800000000000001,
          "symbol": "circle"
         },
         "mode": "markers",
         "name": "Utah Jazz",
         "orientation": "v",
         "showlegend": true,
         "x": [
          37
         ],
         "xaxis": "x",
         "y": [
          117.1
         ],
         "yaxis": "y",
         "type": "scatter"
        },
        {
         "hovertemplate": "Team=Memphis Grizzlies<br>wins=%{x}<br>PTS=%{y}<br>3PA=%{marker.size}<extra></extra>",
         "legendgroup": "Memphis Grizzlies",
         "marker": {
          "color": "#B6E880",
          "size": [
           34.2
          ],
          "sizemode": "area",
          "sizeref": 0.10800000000000001,
          "symbol": "circle"
         },
         "mode": "markers",
         "name": "Memphis Grizzlies",
         "orientation": "v",
         "showlegend": true,
         "x": [
          51
         ],
         "xaxis": "x",
         "y": [
          116.9
         ],
         "yaxis": "y",
         "type": "scatter"
        },
        {
         "hovertemplate": "Team=Milwaukee Bucks<br>wins=%{x}<br>PTS=%{y}<br>3PA=%{marker.size}<extra></extra>",
         "legendgroup": "Milwaukee Bucks",
         "marker": {
          "color": "#FF97FF",
          "size": [
           40.3
          ],
          "sizemode": "area",
          "sizeref": 0.10800000000000001,
          "symbol": "circle"
         },
         "mode": "markers",
         "name": "Milwaukee Bucks",
         "orientation": "v",
         "showlegend": true,
         "x": [
          58
         ],
         "xaxis": "x",
         "y": [
          116.9
         ],
         "yaxis": "y",
         "type": "scatter"
        },
        {
         "hovertemplate": "Team=Indiana Pacers<br>wins=%{x}<br>PTS=%{y}<br>3PA=%{marker.size}<extra></extra>",
         "legendgroup": "Indiana Pacers",
         "marker": {
          "color": "#FECB52",
          "size": [
           37.0
          ],
          "sizemode": "area",
          "sizeref": 0.10800000000000001,
          "symbol": "circle"
         },
         "mode": "markers",
         "name": "Indiana Pacers",
         "orientation": "v",
         "showlegend": true,
         "x": [
          35
         ],
         "xaxis": "x",
         "y": [
          116.3
         ],
         "yaxis": "y",
         "type": "scatter"
        },
        {
         "hovertemplate": "Team=New York Knicks<br>wins=%{x}<br>PTS=%{y}<br>3PA=%{marker.size}<extra></extra>",
         "legendgroup": "New York Knicks",
         "marker": {
          "color": "#636efa",
          "size": [
           35.7
          ],
          "sizemode": "area",
          "sizeref": 0.10800000000000001,
          "symbol": "circle"
         },
         "mode": "markers",
         "name": "New York Knicks",
         "orientation": "v",
         "showlegend": true,
         "x": [
          47
         ],
         "xaxis": "x",
         "y": [
          116.0
         ],
         "yaxis": "y",
         "type": "scatter"
        },
        {
         "hovertemplate": "Team=Denver Nuggets<br>wins=%{x}<br>PTS=%{y}<br>3PA=%{marker.size}<extra></extra>",
         "legendgroup": "Denver Nuggets",
         "marker": {
          "color": "#EF553B",
          "size": [
           31.2
          ],
          "sizemode": "area",
          "sizeref": 0.10800000000000001,
          "symbol": "circle"
         },
         "mode": "markers",
         "name": "Denver Nuggets",
         "orientation": "v",
         "showlegend": true,
         "x": [
          53
         ],
         "xaxis": "x",
         "y": [
          115.8
         ],
         "yaxis": "y",
         "type": "scatter"
        },
        {
         "hovertemplate": "Team=Minnesota Timberwolves<br>wins=%{x}<br>PTS=%{y}<br>3PA=%{marker.size}<extra></extra>",
         "legendgroup": "Minnesota Timberwolves",
         "marker": {
          "color": "#00cc96",
          "size": [
           33.3
          ],
          "sizemode": "area",
          "sizeref": 0.10800000000000001,
          "symbol": "circle"
         },
         "mode": "markers",
         "name": "Minnesota Timberwolves",
         "orientation": "v",
         "showlegend": true,
         "x": [
          42
         ],
         "xaxis": "x",
         "y": [
          115.8
         ],
         "yaxis": "y",
         "type": "scatter"
        },
        {
         "hovertemplate": "Team=Philadelphia 76ers<br>wins=%{x}<br>PTS=%{y}<br>3PA=%{marker.size}<extra></extra>",
         "legendgroup": "Philadelphia 76ers",
         "marker": {
          "color": "#ab63fa",
          "size": [
           32.6
          ],
          "sizemode": "area",
          "sizeref": 0.10800000000000001,
          "symbol": "circle"
         },
         "mode": "markers",
         "name": "Philadelphia 76ers",
         "orientation": "v",
         "showlegend": true,
         "x": [
          54
         ],
         "xaxis": "x",
         "y": [
          115.2
         ],
         "yaxis": "y",
         "type": "scatter"
        },
        {
         "hovertemplate": "Team=New Orleans Pelicans<br>wins=%{x}<br>PTS=%{y}<br>3PA=%{marker.size}<extra></extra>",
         "legendgroup": "New Orleans Pelicans",
         "marker": {
          "color": "#FFA15A",
          "size": [
           30.1
          ],
          "sizemode": "area",
          "sizeref": 0.10800000000000001,
          "symbol": "circle"
         },
         "mode": "markers",
         "name": "New Orleans Pelicans",
         "orientation": "v",
         "showlegend": true,
         "x": [
          42
         ],
         "xaxis": "x",
         "y": [
          114.4
         ],
         "yaxis": "y",
         "type": "scatter"
        },
        {
         "hovertemplate": "Team=Dallas Mavericks<br>wins=%{x}<br>PTS=%{y}<br>3PA=%{marker.size}<extra></extra>",
         "legendgroup": "Dallas Mavericks",
         "marker": {
          "color": "#19d3f3",
          "size": [
           41.0
          ],
          "sizemode": "area",
          "sizeref": 0.10800000000000001,
          "symbol": "circle"
         },
         "mode": "markers",
         "name": "Dallas Mavericks",
         "orientation": "v",
         "showlegend": true,
         "x": [
          38
         ],
         "xaxis": "x",
         "y": [
          114.2
         ],
         "yaxis": "y",
         "type": "scatter"
        },
        {
         "hovertemplate": "Team=Phoenix Suns<br>wins=%{x}<br>PTS=%{y}<br>3PA=%{marker.size}<extra></extra>",
         "legendgroup": "Phoenix Suns",
         "marker": {
          "color": "#FF6692",
          "size": [
           32.6
          ],
          "sizemode": "area",
          "sizeref": 0.10800000000000001,
          "symbol": "circle"
         },
         "mode": "markers",
         "name": "Phoenix Suns",
         "orientation": "v",
         "showlegend": true,
         "x": [
          45
         ],
         "xaxis": "x",
         "y": [
          113.6
         ],
         "yaxis": "y",
         "type": "scatter"
        },
        {
         "hovertemplate": "Team=Los Angeles Clippers<br>wins=%{x}<br>PTS=%{y}<br>3PA=%{marker.size}<extra></extra>",
         "legendgroup": "Los Angeles Clippers",
         "marker": {
          "color": "#B6E880",
          "size": [
           33.4
          ],
          "sizemode": "area",
          "sizeref": 0.10800000000000001,
          "symbol": "circle"
         },
         "mode": "markers",
         "name": "Los Angeles Clippers",
         "orientation": "v",
         "showlegend": true,
         "x": [
          44
         ],
         "xaxis": "x",
         "y": [
          113.6
         ],
         "yaxis": "y",
         "type": "scatter"
        },
        {
         "hovertemplate": "Team=Portland Trail Blazers<br>wins=%{x}<br>PTS=%{y}<br>3PA=%{marker.size}<extra></extra>",
         "legendgroup": "Portland Trail Blazers",
         "marker": {
          "color": "#FF97FF",
          "size": [
           35.3
          ],
          "sizemode": "area",
          "sizeref": 0.10800000000000001,
          "symbol": "circle"
         },
         "mode": "markers",
         "name": "Portland Trail Blazers",
         "orientation": "v",
         "showlegend": true,
         "x": [
          33
         ],
         "xaxis": "x",
         "y": [
          113.4
         ],
         "yaxis": "y",
         "type": "scatter"
        },
        {
         "hovertemplate": "Team=Brooklyn Nets<br>wins=%{x}<br>PTS=%{y}<br>3PA=%{marker.size}<extra></extra>",
         "legendgroup": "Brooklyn Nets",
         "marker": {
          "color": "#FECB52",
          "size": [
           33.8
          ],
          "sizemode": "area",
          "sizeref": 0.10800000000000001,
          "symbol": "circle"
         },
         "mode": "markers",
         "name": "Brooklyn Nets",
         "orientation": "v",
         "showlegend": true,
         "x": [
          45
         ],
         "xaxis": "x",
         "y": [
          113.4
         ],
         "yaxis": "y",
         "type": "scatter"
        },
        {
         "hovertemplate": "Team=Washington Wizards<br>wins=%{x}<br>PTS=%{y}<br>3PA=%{marker.size}<extra></extra>",
         "legendgroup": "Washington Wizards",
         "marker": {
          "color": "#636efa",
          "size": [
           31.7
          ],
          "sizemode": "area",
          "sizeref": 0.10800000000000001,
          "symbol": "circle"
         },
         "mode": "markers",
         "name": "Washington Wizards",
         "orientation": "v",
         "showlegend": true,
         "x": [
          35
         ],
         "xaxis": "x",
         "y": [
          113.2
         ],
         "yaxis": "y",
         "type": "scatter"
        },
        {
         "hovertemplate": "Team=Chicago Bulls<br>wins=%{x}<br>PTS=%{y}<br>3PA=%{marker.size}<extra></extra>",
         "legendgroup": "Chicago Bulls",
         "marker": {
          "color": "#EF553B",
          "size": [
           28.9
          ],
          "sizemode": "area",
          "sizeref": 0.10800000000000001,
          "symbol": "circle"
         },
         "mode": "markers",
         "name": "Chicago Bulls",
         "orientation": "v",
         "showlegend": true,
         "x": [
          40
         ],
         "xaxis": "x",
         "y": [
          113.1
         ],
         "yaxis": "y",
         "type": "scatter"
        },
        {
         "hovertemplate": "Team=San Antonio Spurs<br>wins=%{x}<br>PTS=%{y}<br>3PA=%{marker.size}<extra></extra>",
         "legendgroup": "San Antonio Spurs",
         "marker": {
          "color": "#00cc96",
          "size": [
           32.2
          ],
          "sizemode": "area",
          "sizeref": 0.10800000000000001,
          "symbol": "circle"
         },
         "mode": "markers",
         "name": "San Antonio Spurs",
         "orientation": "v",
         "showlegend": true,
         "x": [
          22
         ],
         "xaxis": "x",
         "y": [
          113.0
         ],
         "yaxis": "y",
         "type": "scatter"
        },
        {
         "hovertemplate": "Team=Toronto Raptors<br>wins=%{x}<br>PTS=%{y}<br>3PA=%{marker.size}<extra></extra>",
         "legendgroup": "Toronto Raptors",
         "marker": {
          "color": "#ab63fa",
          "size": [
           32.0
          ],
          "sizemode": "area",
          "sizeref": 0.10800000000000001,
          "symbol": "circle"
         },
         "mode": "markers",
         "name": "Toronto Raptors",
         "orientation": "v",
         "showlegend": true,
         "x": [
          41
         ],
         "xaxis": "x",
         "y": [
          112.9
         ],
         "yaxis": "y",
         "type": "scatter"
        },
        {
         "hovertemplate": "Team=Cleveland Cavaliers<br>wins=%{x}<br>PTS=%{y}<br>3PA=%{marker.size}<extra></extra>",
         "legendgroup": "Cleveland Cavaliers",
         "marker": {
          "color": "#FFA15A",
          "size": [
           31.6
          ],
          "sizemode": "area",
          "sizeref": 0.10800000000000001,
          "symbol": "circle"
         },
         "mode": "markers",
         "name": "Cleveland Cavaliers",
         "orientation": "v",
         "showlegend": true,
         "x": [
          51
         ],
         "xaxis": "x",
         "y": [
          112.3
         ],
         "yaxis": "y",
         "type": "scatter"
        },
        {
         "hovertemplate": "Team=Orlando Magic<br>wins=%{x}<br>PTS=%{y}<br>3PA=%{marker.size}<extra></extra>",
         "legendgroup": "Orlando Magic",
         "marker": {
          "color": "#19d3f3",
          "size": [
           31.1
          ],
          "sizemode": "area",
          "sizeref": 0.10800000000000001,
          "symbol": "circle"
         },
         "mode": "markers",
         "name": "Orlando Magic",
         "orientation": "v",
         "showlegend": true,
         "x": [
          34
         ],
         "xaxis": "x",
         "y": [
          111.4
         ],
         "yaxis": "y",
         "type": "scatter"
        },
        {
         "hovertemplate": "Team=Charlotte Hornets<br>wins=%{x}<br>PTS=%{y}<br>3PA=%{marker.size}<extra></extra>",
         "legendgroup": "Charlotte Hornets",
         "marker": {
          "color": "#FF6692",
          "size": [
           32.5
          ],
          "sizemode": "area",
          "sizeref": 0.10800000000000001,
          "symbol": "circle"
         },
         "mode": "markers",
         "name": "Charlotte Hornets",
         "orientation": "v",
         "showlegend": true,
         "x": [
          27
         ],
         "xaxis": "x",
         "y": [
          111.0
         ],
         "yaxis": "y",
         "type": "scatter"
        },
        {
         "hovertemplate": "Team=Houston Rockets<br>wins=%{x}<br>PTS=%{y}<br>3PA=%{marker.size}<extra></extra>",
         "legendgroup": "Houston Rockets",
         "marker": {
          "color": "#B6E880",
          "size": [
           31.9
          ],
          "sizemode": "area",
          "sizeref": 0.10800000000000001,
          "symbol": "circle"
         },
         "mode": "markers",
         "name": "Houston Rockets",
         "orientation": "v",
         "showlegend": true,
         "x": [
          22
         ],
         "xaxis": "x",
         "y": [
          110.7
         ],
         "yaxis": "y",
         "type": "scatter"
        },
        {
         "hovertemplate": "Team=Detroit Pistons<br>wins=%{x}<br>PTS=%{y}<br>3PA=%{marker.size}<extra></extra>",
         "legendgroup": "Detroit Pistons",
         "marker": {
          "color": "#FF97FF",
          "size": [
           32.4
          ],
          "sizemode": "area",
          "sizeref": 0.10800000000000001,
          "symbol": "circle"
         },
         "mode": "markers",
         "name": "Detroit Pistons",
         "orientation": "v",
         "showlegend": true,
         "x": [
          17
         ],
         "xaxis": "x",
         "y": [
          110.3
         ],
         "yaxis": "y",
         "type": "scatter"
        },
        {
         "hovertemplate": "Team=Miami Heat<br>wins=%{x}<br>PTS=%{y}<br>3PA=%{marker.size}<extra></extra>",
         "legendgroup": "Miami Heat",
         "marker": {
          "color": "#FECB52",
          "size": [
           34.8
          ],
          "sizemode": "area",
          "sizeref": 0.10800000000000001,
          "symbol": "circle"
         },
         "mode": "markers",
         "name": "Miami Heat",
         "orientation": "v",
         "showlegend": true,
         "x": [
          44
         ],
         "xaxis": "x",
         "y": [
          109.5
         ],
         "yaxis": "y",
         "type": "scatter"
        }
       ],
       "layout": {
        "template": {
         "data": {
          "histogram2dcontour": [
           {
            "type": "histogram2dcontour",
            "colorbar": {
             "outlinewidth": 0,
             "ticks": ""
            },
            "colorscale": [
             [
              0.0,
              "#0d0887"
             ],
             [
              0.1111111111111111,
              "#46039f"
             ],
             [
              0.2222222222222222,
              "#7201a8"
             ],
             [
              0.3333333333333333,
              "#9c179e"
             ],
             [
              0.4444444444444444,
              "#bd3786"
             ],
             [
              0.5555555555555556,
              "#d8576b"
             ],
             [
              0.6666666666666666,
              "#ed7953"
             ],
             [
              0.7777777777777778,
              "#fb9f3a"
             ],
             [
              0.8888888888888888,
              "#fdca26"
             ],
             [
              1.0,
              "#f0f921"
             ]
            ]
           }
          ],
          "choropleth": [
           {
            "type": "choropleth",
            "colorbar": {
             "outlinewidth": 0,
             "ticks": ""
            }
           }
          ],
          "histogram2d": [
           {
            "type": "histogram2d",
            "colorbar": {
             "outlinewidth": 0,
             "ticks": ""
            },
            "colorscale": [
             [
              0.0,
              "#0d0887"
             ],
             [
              0.1111111111111111,
              "#46039f"
             ],
             [
              0.2222222222222222,
              "#7201a8"
             ],
             [
              0.3333333333333333,
              "#9c179e"
             ],
             [
              0.4444444444444444,
              "#bd3786"
             ],
             [
              0.5555555555555556,
              "#d8576b"
             ],
             [
              0.6666666666666666,
              "#ed7953"
             ],
             [
              0.7777777777777778,
              "#fb9f3a"
             ],
             [
              0.8888888888888888,
              "#fdca26"
             ],
             [
              1.0,
              "#f0f921"
             ]
            ]
           }
          ],
          "heatmap": [
           {
            "type": "heatmap",
            "colorbar": {
             "outlinewidth": 0,
             "ticks": ""
            },
            "colorscale": [
             [
              0.0,
              "#0d0887"
             ],
             [
              0.1111111111111111,
              "#46039f"
             ],
             [
              0.2222222222222222,
              "#7201a8"
             ],
             [
              0.3333333333333333,
              "#9c179e"
             ],
             [
              0.4444444444444444,
              "#bd3786"
             ],
             [
              0.5555555555555556,
              "#d8576b"
             ],
             [
              0.6666666666666666,
              "#ed7953"
             ],
             [
              0.7777777777777778,
              "#fb9f3a"
             ],
             [
              0.8888888888888888,
              "#fdca26"
             ],
             [
              1.0,
              "#f0f921"
             ]
            ]
           }
          ],
          "heatmapgl": [
           {
            "type": "heatmapgl",
            "colorbar": {
             "outlinewidth": 0,
             "ticks": ""
            },
            "colorscale": [
             [
              0.0,
              "#0d0887"
             ],
             [
              0.1111111111111111,
              "#46039f"
             ],
             [
              0.2222222222222222,
              "#7201a8"
             ],
             [
              0.3333333333333333,
              "#9c179e"
             ],
             [
              0.4444444444444444,
              "#bd3786"
             ],
             [
              0.5555555555555556,
              "#d8576b"
             ],
             [
              0.6666666666666666,
              "#ed7953"
             ],
             [
              0.7777777777777778,
              "#fb9f3a"
             ],
             [
              0.8888888888888888,
              "#fdca26"
             ],
             [
              1.0,
              "#f0f921"
             ]
            ]
           }
          ],
          "contourcarpet": [
           {
            "type": "contourcarpet",
            "colorbar": {
             "outlinewidth": 0,
             "ticks": ""
            }
           }
          ],
          "contour": [
           {
            "type": "contour",
            "colorbar": {
             "outlinewidth": 0,
             "ticks": ""
            },
            "colorscale": [
             [
              0.0,
              "#0d0887"
             ],
             [
              0.1111111111111111,
              "#46039f"
             ],
             [
              0.2222222222222222,
              "#7201a8"
             ],
             [
              0.3333333333333333,
              "#9c179e"
             ],
             [
              0.4444444444444444,
              "#bd3786"
             ],
             [
              0.5555555555555556,
              "#d8576b"
             ],
             [
              0.6666666666666666,
              "#ed7953"
             ],
             [
              0.7777777777777778,
              "#fb9f3a"
             ],
             [
              0.8888888888888888,
              "#fdca26"
             ],
             [
              1.0,
              "#f0f921"
             ]
            ]
           }
          ],
          "surface": [
           {
            "type": "surface",
            "colorbar": {
             "outlinewidth": 0,
             "ticks": ""
            },
            "colorscale": [
             [
              0.0,
              "#0d0887"
             ],
             [
              0.1111111111111111,
              "#46039f"
             ],
             [
              0.2222222222222222,
              "#7201a8"
             ],
             [
              0.3333333333333333,
              "#9c179e"
             ],
             [
              0.4444444444444444,
              "#bd3786"
             ],
             [
              0.5555555555555556,
              "#d8576b"
             ],
             [
              0.6666666666666666,
              "#ed7953"
             ],
             [
              0.7777777777777778,
              "#fb9f3a"
             ],
             [
              0.8888888888888888,
              "#fdca26"
             ],
             [
              1.0,
              "#f0f921"
             ]
            ]
           }
          ],
          "mesh3d": [
           {
            "type": "mesh3d",
            "colorbar": {
             "outlinewidth": 0,
             "ticks": ""
            }
           }
          ],
          "scatter": [
           {
            "marker": {
             "line": {
              "color": "#283442"
             }
            },
            "type": "scatter"
           }
          ],
          "parcoords": [
           {
            "type": "parcoords",
            "line": {
             "colorbar": {
              "outlinewidth": 0,
              "ticks": ""
             }
            }
           }
          ],
          "scatterpolargl": [
           {
            "type": "scatterpolargl",
            "marker": {
             "colorbar": {
              "outlinewidth": 0,
              "ticks": ""
             }
            }
           }
          ],
          "bar": [
           {
            "error_x": {
             "color": "#f2f5fa"
            },
            "error_y": {
             "color": "#f2f5fa"
            },
            "marker": {
             "line": {
              "color": "rgb(17,17,17)",
              "width": 0.5
             },
             "pattern": {
              "fillmode": "overlay",
              "size": 10,
              "solidity": 0.2
             }
            },
            "type": "bar"
           }
          ],
          "scattergeo": [
           {
            "type": "scattergeo",
            "marker": {
             "colorbar": {
              "outlinewidth": 0,
              "ticks": ""
             }
            }
           }
          ],
          "scatterpolar": [
           {
            "type": "scatterpolar",
            "marker": {
             "colorbar": {
              "outlinewidth": 0,
              "ticks": ""
             }
            }
           }
          ],
          "histogram": [
           {
            "marker": {
             "pattern": {
              "fillmode": "overlay",
              "size": 10,
              "solidity": 0.2
             }
            },
            "type": "histogram"
           }
          ],
          "scattergl": [
           {
            "marker": {
             "line": {
              "color": "#283442"
             }
            },
            "type": "scattergl"
           }
          ],
          "scatter3d": [
           {
            "type": "scatter3d",
            "line": {
             "colorbar": {
              "outlinewidth": 0,
              "ticks": ""
             }
            },
            "marker": {
             "colorbar": {
              "outlinewidth": 0,
              "ticks": ""
             }
            }
           }
          ],
          "scattermapbox": [
           {
            "type": "scattermapbox",
            "marker": {
             "colorbar": {
              "outlinewidth": 0,
              "ticks": ""
             }
            }
           }
          ],
          "scatterternary": [
           {
            "type": "scatterternary",
            "marker": {
             "colorbar": {
              "outlinewidth": 0,
              "ticks": ""
             }
            }
           }
          ],
          "scattercarpet": [
           {
            "type": "scattercarpet",
            "marker": {
             "colorbar": {
              "outlinewidth": 0,
              "ticks": ""
             }
            }
           }
          ],
          "carpet": [
           {
            "aaxis": {
             "endlinecolor": "#A2B1C6",
             "gridcolor": "#506784",
             "linecolor": "#506784",
             "minorgridcolor": "#506784",
             "startlinecolor": "#A2B1C6"
            },
            "baxis": {
             "endlinecolor": "#A2B1C6",
             "gridcolor": "#506784",
             "linecolor": "#506784",
             "minorgridcolor": "#506784",
             "startlinecolor": "#A2B1C6"
            },
            "type": "carpet"
           }
          ],
          "table": [
           {
            "cells": {
             "fill": {
              "color": "#506784"
             },
             "line": {
              "color": "rgb(17,17,17)"
             }
            },
            "header": {
             "fill": {
              "color": "#2a3f5f"
             },
             "line": {
              "color": "rgb(17,17,17)"
             }
            },
            "type": "table"
           }
          ],
          "barpolar": [
           {
            "marker": {
             "line": {
              "color": "rgb(17,17,17)",
              "width": 0.5
             },
             "pattern": {
              "fillmode": "overlay",
              "size": 10,
              "solidity": 0.2
             }
            },
            "type": "barpolar"
           }
          ],
          "pie": [
           {
            "automargin": true,
            "type": "pie"
           }
          ]
         },
         "layout": {
          "autotypenumbers": "strict",
          "colorway": [
           "#636efa",
           "#EF553B",
           "#00cc96",
           "#ab63fa",
           "#FFA15A",
           "#19d3f3",
           "#FF6692",
           "#B6E880",
           "#FF97FF",
           "#FECB52"
          ],
          "font": {
           "color": "#f2f5fa"
          },
          "hovermode": "closest",
          "hoverlabel": {
           "align": "left"
          },
          "paper_bgcolor": "rgb(17,17,17)",
          "plot_bgcolor": "rgb(17,17,17)",
          "polar": {
           "bgcolor": "rgb(17,17,17)",
           "angularaxis": {
            "gridcolor": "#506784",
            "linecolor": "#506784",
            "ticks": ""
           },
           "radialaxis": {
            "gridcolor": "#506784",
            "linecolor": "#506784",
            "ticks": ""
           }
          },
          "ternary": {
           "bgcolor": "rgb(17,17,17)",
           "aaxis": {
            "gridcolor": "#506784",
            "linecolor": "#506784",
            "ticks": ""
           },
           "baxis": {
            "gridcolor": "#506784",
            "linecolor": "#506784",
            "ticks": ""
           },
           "caxis": {
            "gridcolor": "#506784",
            "linecolor": "#506784",
            "ticks": ""
           }
          },
          "coloraxis": {
           "colorbar": {
            "outlinewidth": 0,
            "ticks": ""
           }
          },
          "colorscale": {
           "sequential": [
            [
             0.0,
             "#0d0887"
            ],
            [
             0.1111111111111111,
             "#46039f"
            ],
            [
             0.2222222222222222,
             "#7201a8"
            ],
            [
             0.3333333333333333,
             "#9c179e"
            ],
            [
             0.4444444444444444,
             "#bd3786"
            ],
            [
             0.5555555555555556,
             "#d8576b"
            ],
            [
             0.6666666666666666,
             "#ed7953"
            ],
            [
             0.7777777777777778,
             "#fb9f3a"
            ],
            [
             0.8888888888888888,
             "#fdca26"
            ],
            [
             1.0,
             "#f0f921"
            ]
           ],
           "sequentialminus": [
            [
             0.0,
             "#0d0887"
            ],
            [
             0.1111111111111111,
             "#46039f"
            ],
            [
             0.2222222222222222,
             "#7201a8"
            ],
            [
             0.3333333333333333,
             "#9c179e"
            ],
            [
             0.4444444444444444,
             "#bd3786"
            ],
            [
             0.5555555555555556,
             "#d8576b"
            ],
            [
             0.6666666666666666,
             "#ed7953"
            ],
            [
             0.7777777777777778,
             "#fb9f3a"
            ],
            [
             0.8888888888888888,
             "#fdca26"
            ],
            [
             1.0,
             "#f0f921"
            ]
           ],
           "diverging": [
            [
             0,
             "#8e0152"
            ],
            [
             0.1,
             "#c51b7d"
            ],
            [
             0.2,
             "#de77ae"
            ],
            [
             0.3,
             "#f1b6da"
            ],
            [
             0.4,
             "#fde0ef"
            ],
            [
             0.5,
             "#f7f7f7"
            ],
            [
             0.6,
             "#e6f5d0"
            ],
            [
             0.7,
             "#b8e186"
            ],
            [
             0.8,
             "#7fbc41"
            ],
            [
             0.9,
             "#4d9221"
            ],
            [
             1,
             "#276419"
            ]
           ]
          },
          "xaxis": {
           "gridcolor": "#283442",
           "linecolor": "#506784",
           "ticks": "",
           "title": {
            "standoff": 15
           },
           "zerolinecolor": "#283442",
           "automargin": true,
           "zerolinewidth": 2
          },
          "yaxis": {
           "gridcolor": "#283442",
           "linecolor": "#506784",
           "ticks": "",
           "title": {
            "standoff": 15
           },
           "zerolinecolor": "#283442",
           "automargin": true,
           "zerolinewidth": 2
          },
          "scene": {
           "xaxis": {
            "backgroundcolor": "rgb(17,17,17)",
            "gridcolor": "#506784",
            "linecolor": "#506784",
            "showbackground": true,
            "ticks": "",
            "zerolinecolor": "#C8D4E3",
            "gridwidth": 2
           },
           "yaxis": {
            "backgroundcolor": "rgb(17,17,17)",
            "gridcolor": "#506784",
            "linecolor": "#506784",
            "showbackground": true,
            "ticks": "",
            "zerolinecolor": "#C8D4E3",
            "gridwidth": 2
           },
           "zaxis": {
            "backgroundcolor": "rgb(17,17,17)",
            "gridcolor": "#506784",
            "linecolor": "#506784",
            "showbackground": true,
            "ticks": "",
            "zerolinecolor": "#C8D4E3",
            "gridwidth": 2
           }
          },
          "shapedefaults": {
           "line": {
            "color": "#f2f5fa"
           }
          },
          "annotationdefaults": {
           "arrowcolor": "#f2f5fa",
           "arrowhead": 0,
           "arrowwidth": 1
          },
          "geo": {
           "bgcolor": "rgb(17,17,17)",
           "landcolor": "rgb(17,17,17)",
           "subunitcolor": "#506784",
           "showland": true,
           "showlakes": true,
           "lakecolor": "rgb(17,17,17)"
          },
          "title": {
           "x": 0.05
          },
          "updatemenudefaults": {
           "bgcolor": "#506784",
           "borderwidth": 0
          },
          "sliderdefaults": {
           "bgcolor": "#C8D4E3",
           "borderwidth": 1,
           "bordercolor": "rgb(17,17,17)",
           "tickwidth": 0
          },
          "mapbox": {
           "style": "dark"
          }
         }
        },
        "xaxis": {
         "anchor": "y",
         "domain": [
          0.0,
          1.0
         ],
         "title": {
          "text": "wins"
         }
        },
        "yaxis": {
         "anchor": "x",
         "domain": [
          0.0,
          1.0
         ],
         "title": {
          "text": "PTS"
         }
        },
        "legend": {
         "title": {
          "text": "Team"
         },
         "tracegroupgap": 0,
         "itemsizing": "constant"
        },
        "margin": {
         "t": 60
        }
       },
       "config": {
        "plotlyServerURL": "https://plot.ly"
       }
      },
      "text/html": "<div>                            <div id=\"09eae39f-1dad-4e2a-a388-661fe0990908\" class=\"plotly-graph-div\" style=\"height:525px; width:100%;\"></div>            <script type=\"text/javascript\">                require([\"plotly\"], function(Plotly) {                    window.PLOTLYENV=window.PLOTLYENV || {};                                    if (document.getElementById(\"09eae39f-1dad-4e2a-a388-661fe0990908\")) {                    Plotly.newPlot(                        \"09eae39f-1dad-4e2a-a388-661fe0990908\",                        [{\"hovertemplate\":\"Team=Sacramento Kings\\u003cbr\\u003ewins=%{x}\\u003cbr\\u003ePTS=%{y}\\u003cbr\\u003e3PA=%{marker.size}\\u003cextra\\u003e\\u003c\\u002fextra\\u003e\",\"legendgroup\":\"Sacramento Kings\",\"marker\":{\"color\":\"#636efa\",\"size\":[37.3],\"sizemode\":\"area\",\"sizeref\":0.10800000000000001,\"symbol\":\"circle\"},\"mode\":\"markers\",\"name\":\"Sacramento Kings\",\"orientation\":\"v\",\"showlegend\":true,\"x\":[48],\"xaxis\":\"x\",\"y\":[120.7],\"yaxis\":\"y\",\"type\":\"scatter\"},{\"hovertemplate\":\"Team=Golden State Warriors\\u003cbr\\u003ewins=%{x}\\u003cbr\\u003ePTS=%{y}\\u003cbr\\u003e3PA=%{marker.size}\\u003cextra\\u003e\\u003c\\u002fextra\\u003e\",\"legendgroup\":\"Golden State Warriors\",\"marker\":{\"color\":\"#EF553B\",\"size\":[43.2],\"sizemode\":\"area\",\"sizeref\":0.10800000000000001,\"symbol\":\"circle\"},\"mode\":\"markers\",\"name\":\"Golden State Warriors\",\"orientation\":\"v\",\"showlegend\":true,\"x\":[44],\"xaxis\":\"x\",\"y\":[118.9],\"yaxis\":\"y\",\"type\":\"scatter\"},{\"hovertemplate\":\"Team=Atlanta Hawks\\u003cbr\\u003ewins=%{x}\\u003cbr\\u003ePTS=%{y}\\u003cbr\\u003e3PA=%{marker.size}\\u003cextra\\u003e\\u003c\\u002fextra\\u003e\",\"legendgroup\":\"Atlanta Hawks\",\"marker\":{\"color\":\"#00cc96\",\"size\":[30.5],\"sizemode\":\"area\",\"sizeref\":0.10800000000000001,\"symbol\":\"circle\"},\"mode\":\"markers\",\"name\":\"Atlanta Hawks\",\"orientation\":\"v\",\"showlegend\":true,\"x\":[41],\"xaxis\":\"x\",\"y\":[118.4],\"yaxis\":\"y\",\"type\":\"scatter\"},{\"hovertemplate\":\"Team=Boston Celtics\\u003cbr\\u003ewins=%{x}\\u003cbr\\u003ePTS=%{y}\\u003cbr\\u003e3PA=%{marker.size}\\u003cextra\\u003e\\u003c\\u002fextra\\u003e\",\"legendgroup\":\"Boston Celtics\",\"marker\":{\"color\":\"#ab63fa\",\"size\":[42.6],\"sizemode\":\"area\",\"sizeref\":0.10800000000000001,\"symbol\":\"circle\"},\"mode\":\"markers\",\"name\":\"Boston Celtics\",\"orientation\":\"v\",\"showlegend\":true,\"x\":[57],\"xaxis\":\"x\",\"y\":[117.9],\"yaxis\":\"y\",\"type\":\"scatter\"},{\"hovertemplate\":\"Team=Oklahoma City Thunder\\u003cbr\\u003ewins=%{x}\\u003cbr\\u003ePTS=%{y}\\u003cbr\\u003e3PA=%{marker.size}\\u003cextra\\u003e\\u003c\\u002fextra\\u003e\",\"legendgroup\":\"Oklahoma City Thunder\",\"marker\":{\"color\":\"#FFA15A\",\"size\":[34.1],\"sizemode\":\"area\",\"sizeref\":0.10800000000000001,\"symbol\":\"circle\"},\"mode\":\"markers\",\"name\":\"Oklahoma City Thunder\",\"orientation\":\"v\",\"showlegend\":true,\"x\":[40],\"xaxis\":\"x\",\"y\":[117.5],\"yaxis\":\"y\",\"type\":\"scatter\"},{\"hovertemplate\":\"Team=Los Angeles Lakers\\u003cbr\\u003ewins=%{x}\\u003cbr\\u003ePTS=%{y}\\u003cbr\\u003e3PA=%{marker.size}\\u003cextra\\u003e\\u003c\\u002fextra\\u003e\",\"legendgroup\":\"Los Angeles Lakers\",\"marker\":{\"color\":\"#19d3f3\",\"size\":[31.2],\"sizemode\":\"area\",\"sizeref\":0.10800000000000001,\"symbol\":\"circle\"},\"mode\":\"markers\",\"name\":\"Los Angeles Lakers\",\"orientation\":\"v\",\"showlegend\":true,\"x\":[43],\"xaxis\":\"x\",\"y\":[117.2],\"yaxis\":\"y\",\"type\":\"scatter\"},{\"hovertemplate\":\"Team=Utah Jazz\\u003cbr\\u003ewins=%{x}\\u003cbr\\u003ePTS=%{y}\\u003cbr\\u003e3PA=%{marker.size}\\u003cextra\\u003e\\u003c\\u002fextra\\u003e\",\"legendgroup\":\"Utah Jazz\",\"marker\":{\"color\":\"#FF6692\",\"size\":[37.8],\"sizemode\":\"area\",\"sizeref\":0.10800000000000001,\"symbol\":\"circle\"},\"mode\":\"markers\",\"name\":\"Utah Jazz\",\"orientation\":\"v\",\"showlegend\":true,\"x\":[37],\"xaxis\":\"x\",\"y\":[117.1],\"yaxis\":\"y\",\"type\":\"scatter\"},{\"hovertemplate\":\"Team=Memphis Grizzlies\\u003cbr\\u003ewins=%{x}\\u003cbr\\u003ePTS=%{y}\\u003cbr\\u003e3PA=%{marker.size}\\u003cextra\\u003e\\u003c\\u002fextra\\u003e\",\"legendgroup\":\"Memphis Grizzlies\",\"marker\":{\"color\":\"#B6E880\",\"size\":[34.2],\"sizemode\":\"area\",\"sizeref\":0.10800000000000001,\"symbol\":\"circle\"},\"mode\":\"markers\",\"name\":\"Memphis Grizzlies\",\"orientation\":\"v\",\"showlegend\":true,\"x\":[51],\"xaxis\":\"x\",\"y\":[116.9],\"yaxis\":\"y\",\"type\":\"scatter\"},{\"hovertemplate\":\"Team=Milwaukee Bucks\\u003cbr\\u003ewins=%{x}\\u003cbr\\u003ePTS=%{y}\\u003cbr\\u003e3PA=%{marker.size}\\u003cextra\\u003e\\u003c\\u002fextra\\u003e\",\"legendgroup\":\"Milwaukee Bucks\",\"marker\":{\"color\":\"#FF97FF\",\"size\":[40.3],\"sizemode\":\"area\",\"sizeref\":0.10800000000000001,\"symbol\":\"circle\"},\"mode\":\"markers\",\"name\":\"Milwaukee Bucks\",\"orientation\":\"v\",\"showlegend\":true,\"x\":[58],\"xaxis\":\"x\",\"y\":[116.9],\"yaxis\":\"y\",\"type\":\"scatter\"},{\"hovertemplate\":\"Team=Indiana Pacers\\u003cbr\\u003ewins=%{x}\\u003cbr\\u003ePTS=%{y}\\u003cbr\\u003e3PA=%{marker.size}\\u003cextra\\u003e\\u003c\\u002fextra\\u003e\",\"legendgroup\":\"Indiana Pacers\",\"marker\":{\"color\":\"#FECB52\",\"size\":[37.0],\"sizemode\":\"area\",\"sizeref\":0.10800000000000001,\"symbol\":\"circle\"},\"mode\":\"markers\",\"name\":\"Indiana Pacers\",\"orientation\":\"v\",\"showlegend\":true,\"x\":[35],\"xaxis\":\"x\",\"y\":[116.3],\"yaxis\":\"y\",\"type\":\"scatter\"},{\"hovertemplate\":\"Team=New York Knicks\\u003cbr\\u003ewins=%{x}\\u003cbr\\u003ePTS=%{y}\\u003cbr\\u003e3PA=%{marker.size}\\u003cextra\\u003e\\u003c\\u002fextra\\u003e\",\"legendgroup\":\"New York Knicks\",\"marker\":{\"color\":\"#636efa\",\"size\":[35.7],\"sizemode\":\"area\",\"sizeref\":0.10800000000000001,\"symbol\":\"circle\"},\"mode\":\"markers\",\"name\":\"New York Knicks\",\"orientation\":\"v\",\"showlegend\":true,\"x\":[47],\"xaxis\":\"x\",\"y\":[116.0],\"yaxis\":\"y\",\"type\":\"scatter\"},{\"hovertemplate\":\"Team=Denver Nuggets\\u003cbr\\u003ewins=%{x}\\u003cbr\\u003ePTS=%{y}\\u003cbr\\u003e3PA=%{marker.size}\\u003cextra\\u003e\\u003c\\u002fextra\\u003e\",\"legendgroup\":\"Denver Nuggets\",\"marker\":{\"color\":\"#EF553B\",\"size\":[31.2],\"sizemode\":\"area\",\"sizeref\":0.10800000000000001,\"symbol\":\"circle\"},\"mode\":\"markers\",\"name\":\"Denver Nuggets\",\"orientation\":\"v\",\"showlegend\":true,\"x\":[53],\"xaxis\":\"x\",\"y\":[115.8],\"yaxis\":\"y\",\"type\":\"scatter\"},{\"hovertemplate\":\"Team=Minnesota Timberwolves\\u003cbr\\u003ewins=%{x}\\u003cbr\\u003ePTS=%{y}\\u003cbr\\u003e3PA=%{marker.size}\\u003cextra\\u003e\\u003c\\u002fextra\\u003e\",\"legendgroup\":\"Minnesota Timberwolves\",\"marker\":{\"color\":\"#00cc96\",\"size\":[33.3],\"sizemode\":\"area\",\"sizeref\":0.10800000000000001,\"symbol\":\"circle\"},\"mode\":\"markers\",\"name\":\"Minnesota Timberwolves\",\"orientation\":\"v\",\"showlegend\":true,\"x\":[42],\"xaxis\":\"x\",\"y\":[115.8],\"yaxis\":\"y\",\"type\":\"scatter\"},{\"hovertemplate\":\"Team=Philadelphia 76ers\\u003cbr\\u003ewins=%{x}\\u003cbr\\u003ePTS=%{y}\\u003cbr\\u003e3PA=%{marker.size}\\u003cextra\\u003e\\u003c\\u002fextra\\u003e\",\"legendgroup\":\"Philadelphia 76ers\",\"marker\":{\"color\":\"#ab63fa\",\"size\":[32.6],\"sizemode\":\"area\",\"sizeref\":0.10800000000000001,\"symbol\":\"circle\"},\"mode\":\"markers\",\"name\":\"Philadelphia 76ers\",\"orientation\":\"v\",\"showlegend\":true,\"x\":[54],\"xaxis\":\"x\",\"y\":[115.2],\"yaxis\":\"y\",\"type\":\"scatter\"},{\"hovertemplate\":\"Team=New Orleans Pelicans\\u003cbr\\u003ewins=%{x}\\u003cbr\\u003ePTS=%{y}\\u003cbr\\u003e3PA=%{marker.size}\\u003cextra\\u003e\\u003c\\u002fextra\\u003e\",\"legendgroup\":\"New Orleans Pelicans\",\"marker\":{\"color\":\"#FFA15A\",\"size\":[30.1],\"sizemode\":\"area\",\"sizeref\":0.10800000000000001,\"symbol\":\"circle\"},\"mode\":\"markers\",\"name\":\"New Orleans Pelicans\",\"orientation\":\"v\",\"showlegend\":true,\"x\":[42],\"xaxis\":\"x\",\"y\":[114.4],\"yaxis\":\"y\",\"type\":\"scatter\"},{\"hovertemplate\":\"Team=Dallas Mavericks\\u003cbr\\u003ewins=%{x}\\u003cbr\\u003ePTS=%{y}\\u003cbr\\u003e3PA=%{marker.size}\\u003cextra\\u003e\\u003c\\u002fextra\\u003e\",\"legendgroup\":\"Dallas Mavericks\",\"marker\":{\"color\":\"#19d3f3\",\"size\":[41.0],\"sizemode\":\"area\",\"sizeref\":0.10800000000000001,\"symbol\":\"circle\"},\"mode\":\"markers\",\"name\":\"Dallas Mavericks\",\"orientation\":\"v\",\"showlegend\":true,\"x\":[38],\"xaxis\":\"x\",\"y\":[114.2],\"yaxis\":\"y\",\"type\":\"scatter\"},{\"hovertemplate\":\"Team=Phoenix Suns\\u003cbr\\u003ewins=%{x}\\u003cbr\\u003ePTS=%{y}\\u003cbr\\u003e3PA=%{marker.size}\\u003cextra\\u003e\\u003c\\u002fextra\\u003e\",\"legendgroup\":\"Phoenix Suns\",\"marker\":{\"color\":\"#FF6692\",\"size\":[32.6],\"sizemode\":\"area\",\"sizeref\":0.10800000000000001,\"symbol\":\"circle\"},\"mode\":\"markers\",\"name\":\"Phoenix Suns\",\"orientation\":\"v\",\"showlegend\":true,\"x\":[45],\"xaxis\":\"x\",\"y\":[113.6],\"yaxis\":\"y\",\"type\":\"scatter\"},{\"hovertemplate\":\"Team=Los Angeles Clippers\\u003cbr\\u003ewins=%{x}\\u003cbr\\u003ePTS=%{y}\\u003cbr\\u003e3PA=%{marker.size}\\u003cextra\\u003e\\u003c\\u002fextra\\u003e\",\"legendgroup\":\"Los Angeles Clippers\",\"marker\":{\"color\":\"#B6E880\",\"size\":[33.4],\"sizemode\":\"area\",\"sizeref\":0.10800000000000001,\"symbol\":\"circle\"},\"mode\":\"markers\",\"name\":\"Los Angeles Clippers\",\"orientation\":\"v\",\"showlegend\":true,\"x\":[44],\"xaxis\":\"x\",\"y\":[113.6],\"yaxis\":\"y\",\"type\":\"scatter\"},{\"hovertemplate\":\"Team=Portland Trail Blazers\\u003cbr\\u003ewins=%{x}\\u003cbr\\u003ePTS=%{y}\\u003cbr\\u003e3PA=%{marker.size}\\u003cextra\\u003e\\u003c\\u002fextra\\u003e\",\"legendgroup\":\"Portland Trail Blazers\",\"marker\":{\"color\":\"#FF97FF\",\"size\":[35.3],\"sizemode\":\"area\",\"sizeref\":0.10800000000000001,\"symbol\":\"circle\"},\"mode\":\"markers\",\"name\":\"Portland Trail Blazers\",\"orientation\":\"v\",\"showlegend\":true,\"x\":[33],\"xaxis\":\"x\",\"y\":[113.4],\"yaxis\":\"y\",\"type\":\"scatter\"},{\"hovertemplate\":\"Team=Brooklyn Nets\\u003cbr\\u003ewins=%{x}\\u003cbr\\u003ePTS=%{y}\\u003cbr\\u003e3PA=%{marker.size}\\u003cextra\\u003e\\u003c\\u002fextra\\u003e\",\"legendgroup\":\"Brooklyn Nets\",\"marker\":{\"color\":\"#FECB52\",\"size\":[33.8],\"sizemode\":\"area\",\"sizeref\":0.10800000000000001,\"symbol\":\"circle\"},\"mode\":\"markers\",\"name\":\"Brooklyn Nets\",\"orientation\":\"v\",\"showlegend\":true,\"x\":[45],\"xaxis\":\"x\",\"y\":[113.4],\"yaxis\":\"y\",\"type\":\"scatter\"},{\"hovertemplate\":\"Team=Washington Wizards\\u003cbr\\u003ewins=%{x}\\u003cbr\\u003ePTS=%{y}\\u003cbr\\u003e3PA=%{marker.size}\\u003cextra\\u003e\\u003c\\u002fextra\\u003e\",\"legendgroup\":\"Washington Wizards\",\"marker\":{\"color\":\"#636efa\",\"size\":[31.7],\"sizemode\":\"area\",\"sizeref\":0.10800000000000001,\"symbol\":\"circle\"},\"mode\":\"markers\",\"name\":\"Washington Wizards\",\"orientation\":\"v\",\"showlegend\":true,\"x\":[35],\"xaxis\":\"x\",\"y\":[113.2],\"yaxis\":\"y\",\"type\":\"scatter\"},{\"hovertemplate\":\"Team=Chicago Bulls\\u003cbr\\u003ewins=%{x}\\u003cbr\\u003ePTS=%{y}\\u003cbr\\u003e3PA=%{marker.size}\\u003cextra\\u003e\\u003c\\u002fextra\\u003e\",\"legendgroup\":\"Chicago Bulls\",\"marker\":{\"color\":\"#EF553B\",\"size\":[28.9],\"sizemode\":\"area\",\"sizeref\":0.10800000000000001,\"symbol\":\"circle\"},\"mode\":\"markers\",\"name\":\"Chicago Bulls\",\"orientation\":\"v\",\"showlegend\":true,\"x\":[40],\"xaxis\":\"x\",\"y\":[113.1],\"yaxis\":\"y\",\"type\":\"scatter\"},{\"hovertemplate\":\"Team=San Antonio Spurs\\u003cbr\\u003ewins=%{x}\\u003cbr\\u003ePTS=%{y}\\u003cbr\\u003e3PA=%{marker.size}\\u003cextra\\u003e\\u003c\\u002fextra\\u003e\",\"legendgroup\":\"San Antonio Spurs\",\"marker\":{\"color\":\"#00cc96\",\"size\":[32.2],\"sizemode\":\"area\",\"sizeref\":0.10800000000000001,\"symbol\":\"circle\"},\"mode\":\"markers\",\"name\":\"San Antonio Spurs\",\"orientation\":\"v\",\"showlegend\":true,\"x\":[22],\"xaxis\":\"x\",\"y\":[113.0],\"yaxis\":\"y\",\"type\":\"scatter\"},{\"hovertemplate\":\"Team=Toronto Raptors\\u003cbr\\u003ewins=%{x}\\u003cbr\\u003ePTS=%{y}\\u003cbr\\u003e3PA=%{marker.size}\\u003cextra\\u003e\\u003c\\u002fextra\\u003e\",\"legendgroup\":\"Toronto Raptors\",\"marker\":{\"color\":\"#ab63fa\",\"size\":[32.0],\"sizemode\":\"area\",\"sizeref\":0.10800000000000001,\"symbol\":\"circle\"},\"mode\":\"markers\",\"name\":\"Toronto Raptors\",\"orientation\":\"v\",\"showlegend\":true,\"x\":[41],\"xaxis\":\"x\",\"y\":[112.9],\"yaxis\":\"y\",\"type\":\"scatter\"},{\"hovertemplate\":\"Team=Cleveland Cavaliers\\u003cbr\\u003ewins=%{x}\\u003cbr\\u003ePTS=%{y}\\u003cbr\\u003e3PA=%{marker.size}\\u003cextra\\u003e\\u003c\\u002fextra\\u003e\",\"legendgroup\":\"Cleveland Cavaliers\",\"marker\":{\"color\":\"#FFA15A\",\"size\":[31.6],\"sizemode\":\"area\",\"sizeref\":0.10800000000000001,\"symbol\":\"circle\"},\"mode\":\"markers\",\"name\":\"Cleveland Cavaliers\",\"orientation\":\"v\",\"showlegend\":true,\"x\":[51],\"xaxis\":\"x\",\"y\":[112.3],\"yaxis\":\"y\",\"type\":\"scatter\"},{\"hovertemplate\":\"Team=Orlando Magic\\u003cbr\\u003ewins=%{x}\\u003cbr\\u003ePTS=%{y}\\u003cbr\\u003e3PA=%{marker.size}\\u003cextra\\u003e\\u003c\\u002fextra\\u003e\",\"legendgroup\":\"Orlando Magic\",\"marker\":{\"color\":\"#19d3f3\",\"size\":[31.1],\"sizemode\":\"area\",\"sizeref\":0.10800000000000001,\"symbol\":\"circle\"},\"mode\":\"markers\",\"name\":\"Orlando Magic\",\"orientation\":\"v\",\"showlegend\":true,\"x\":[34],\"xaxis\":\"x\",\"y\":[111.4],\"yaxis\":\"y\",\"type\":\"scatter\"},{\"hovertemplate\":\"Team=Charlotte Hornets\\u003cbr\\u003ewins=%{x}\\u003cbr\\u003ePTS=%{y}\\u003cbr\\u003e3PA=%{marker.size}\\u003cextra\\u003e\\u003c\\u002fextra\\u003e\",\"legendgroup\":\"Charlotte Hornets\",\"marker\":{\"color\":\"#FF6692\",\"size\":[32.5],\"sizemode\":\"area\",\"sizeref\":0.10800000000000001,\"symbol\":\"circle\"},\"mode\":\"markers\",\"name\":\"Charlotte Hornets\",\"orientation\":\"v\",\"showlegend\":true,\"x\":[27],\"xaxis\":\"x\",\"y\":[111.0],\"yaxis\":\"y\",\"type\":\"scatter\"},{\"hovertemplate\":\"Team=Houston Rockets\\u003cbr\\u003ewins=%{x}\\u003cbr\\u003ePTS=%{y}\\u003cbr\\u003e3PA=%{marker.size}\\u003cextra\\u003e\\u003c\\u002fextra\\u003e\",\"legendgroup\":\"Houston Rockets\",\"marker\":{\"color\":\"#B6E880\",\"size\":[31.9],\"sizemode\":\"area\",\"sizeref\":0.10800000000000001,\"symbol\":\"circle\"},\"mode\":\"markers\",\"name\":\"Houston Rockets\",\"orientation\":\"v\",\"showlegend\":true,\"x\":[22],\"xaxis\":\"x\",\"y\":[110.7],\"yaxis\":\"y\",\"type\":\"scatter\"},{\"hovertemplate\":\"Team=Detroit Pistons\\u003cbr\\u003ewins=%{x}\\u003cbr\\u003ePTS=%{y}\\u003cbr\\u003e3PA=%{marker.size}\\u003cextra\\u003e\\u003c\\u002fextra\\u003e\",\"legendgroup\":\"Detroit Pistons\",\"marker\":{\"color\":\"#FF97FF\",\"size\":[32.4],\"sizemode\":\"area\",\"sizeref\":0.10800000000000001,\"symbol\":\"circle\"},\"mode\":\"markers\",\"name\":\"Detroit Pistons\",\"orientation\":\"v\",\"showlegend\":true,\"x\":[17],\"xaxis\":\"x\",\"y\":[110.3],\"yaxis\":\"y\",\"type\":\"scatter\"},{\"hovertemplate\":\"Team=Miami Heat\\u003cbr\\u003ewins=%{x}\\u003cbr\\u003ePTS=%{y}\\u003cbr\\u003e3PA=%{marker.size}\\u003cextra\\u003e\\u003c\\u002fextra\\u003e\",\"legendgroup\":\"Miami Heat\",\"marker\":{\"color\":\"#FECB52\",\"size\":[34.8],\"sizemode\":\"area\",\"sizeref\":0.10800000000000001,\"symbol\":\"circle\"},\"mode\":\"markers\",\"name\":\"Miami Heat\",\"orientation\":\"v\",\"showlegend\":true,\"x\":[44],\"xaxis\":\"x\",\"y\":[109.5],\"yaxis\":\"y\",\"type\":\"scatter\"}],                        {\"template\":{\"data\":{\"histogram2dcontour\":[{\"type\":\"histogram2dcontour\",\"colorbar\":{\"outlinewidth\":0,\"ticks\":\"\"},\"colorscale\":[[0.0,\"#0d0887\"],[0.1111111111111111,\"#46039f\"],[0.2222222222222222,\"#7201a8\"],[0.3333333333333333,\"#9c179e\"],[0.4444444444444444,\"#bd3786\"],[0.5555555555555556,\"#d8576b\"],[0.6666666666666666,\"#ed7953\"],[0.7777777777777778,\"#fb9f3a\"],[0.8888888888888888,\"#fdca26\"],[1.0,\"#f0f921\"]]}],\"choropleth\":[{\"type\":\"choropleth\",\"colorbar\":{\"outlinewidth\":0,\"ticks\":\"\"}}],\"histogram2d\":[{\"type\":\"histogram2d\",\"colorbar\":{\"outlinewidth\":0,\"ticks\":\"\"},\"colorscale\":[[0.0,\"#0d0887\"],[0.1111111111111111,\"#46039f\"],[0.2222222222222222,\"#7201a8\"],[0.3333333333333333,\"#9c179e\"],[0.4444444444444444,\"#bd3786\"],[0.5555555555555556,\"#d8576b\"],[0.6666666666666666,\"#ed7953\"],[0.7777777777777778,\"#fb9f3a\"],[0.8888888888888888,\"#fdca26\"],[1.0,\"#f0f921\"]]}],\"heatmap\":[{\"type\":\"heatmap\",\"colorbar\":{\"outlinewidth\":0,\"ticks\":\"\"},\"colorscale\":[[0.0,\"#0d0887\"],[0.1111111111111111,\"#46039f\"],[0.2222222222222222,\"#7201a8\"],[0.3333333333333333,\"#9c179e\"],[0.4444444444444444,\"#bd3786\"],[0.5555555555555556,\"#d8576b\"],[0.6666666666666666,\"#ed7953\"],[0.7777777777777778,\"#fb9f3a\"],[0.8888888888888888,\"#fdca26\"],[1.0,\"#f0f921\"]]}],\"heatmapgl\":[{\"type\":\"heatmapgl\",\"colorbar\":{\"outlinewidth\":0,\"ticks\":\"\"},\"colorscale\":[[0.0,\"#0d0887\"],[0.1111111111111111,\"#46039f\"],[0.2222222222222222,\"#7201a8\"],[0.3333333333333333,\"#9c179e\"],[0.4444444444444444,\"#bd3786\"],[0.5555555555555556,\"#d8576b\"],[0.6666666666666666,\"#ed7953\"],[0.7777777777777778,\"#fb9f3a\"],[0.8888888888888888,\"#fdca26\"],[1.0,\"#f0f921\"]]}],\"contourcarpet\":[{\"type\":\"contourcarpet\",\"colorbar\":{\"outlinewidth\":0,\"ticks\":\"\"}}],\"contour\":[{\"type\":\"contour\",\"colorbar\":{\"outlinewidth\":0,\"ticks\":\"\"},\"colorscale\":[[0.0,\"#0d0887\"],[0.1111111111111111,\"#46039f\"],[0.2222222222222222,\"#7201a8\"],[0.3333333333333333,\"#9c179e\"],[0.4444444444444444,\"#bd3786\"],[0.5555555555555556,\"#d8576b\"],[0.6666666666666666,\"#ed7953\"],[0.7777777777777778,\"#fb9f3a\"],[0.8888888888888888,\"#fdca26\"],[1.0,\"#f0f921\"]]}],\"surface\":[{\"type\":\"surface\",\"colorbar\":{\"outlinewidth\":0,\"ticks\":\"\"},\"colorscale\":[[0.0,\"#0d0887\"],[0.1111111111111111,\"#46039f\"],[0.2222222222222222,\"#7201a8\"],[0.3333333333333333,\"#9c179e\"],[0.4444444444444444,\"#bd3786\"],[0.5555555555555556,\"#d8576b\"],[0.6666666666666666,\"#ed7953\"],[0.7777777777777778,\"#fb9f3a\"],[0.8888888888888888,\"#fdca26\"],[1.0,\"#f0f921\"]]}],\"mesh3d\":[{\"type\":\"mesh3d\",\"colorbar\":{\"outlinewidth\":0,\"ticks\":\"\"}}],\"scatter\":[{\"marker\":{\"line\":{\"color\":\"#283442\"}},\"type\":\"scatter\"}],\"parcoords\":[{\"type\":\"parcoords\",\"line\":{\"colorbar\":{\"outlinewidth\":0,\"ticks\":\"\"}}}],\"scatterpolargl\":[{\"type\":\"scatterpolargl\",\"marker\":{\"colorbar\":{\"outlinewidth\":0,\"ticks\":\"\"}}}],\"bar\":[{\"error_x\":{\"color\":\"#f2f5fa\"},\"error_y\":{\"color\":\"#f2f5fa\"},\"marker\":{\"line\":{\"color\":\"rgb(17,17,17)\",\"width\":0.5},\"pattern\":{\"fillmode\":\"overlay\",\"size\":10,\"solidity\":0.2}},\"type\":\"bar\"}],\"scattergeo\":[{\"type\":\"scattergeo\",\"marker\":{\"colorbar\":{\"outlinewidth\":0,\"ticks\":\"\"}}}],\"scatterpolar\":[{\"type\":\"scatterpolar\",\"marker\":{\"colorbar\":{\"outlinewidth\":0,\"ticks\":\"\"}}}],\"histogram\":[{\"marker\":{\"pattern\":{\"fillmode\":\"overlay\",\"size\":10,\"solidity\":0.2}},\"type\":\"histogram\"}],\"scattergl\":[{\"marker\":{\"line\":{\"color\":\"#283442\"}},\"type\":\"scattergl\"}],\"scatter3d\":[{\"type\":\"scatter3d\",\"line\":{\"colorbar\":{\"outlinewidth\":0,\"ticks\":\"\"}},\"marker\":{\"colorbar\":{\"outlinewidth\":0,\"ticks\":\"\"}}}],\"scattermapbox\":[{\"type\":\"scattermapbox\",\"marker\":{\"colorbar\":{\"outlinewidth\":0,\"ticks\":\"\"}}}],\"scatterternary\":[{\"type\":\"scatterternary\",\"marker\":{\"colorbar\":{\"outlinewidth\":0,\"ticks\":\"\"}}}],\"scattercarpet\":[{\"type\":\"scattercarpet\",\"marker\":{\"colorbar\":{\"outlinewidth\":0,\"ticks\":\"\"}}}],\"carpet\":[{\"aaxis\":{\"endlinecolor\":\"#A2B1C6\",\"gridcolor\":\"#506784\",\"linecolor\":\"#506784\",\"minorgridcolor\":\"#506784\",\"startlinecolor\":\"#A2B1C6\"},\"baxis\":{\"endlinecolor\":\"#A2B1C6\",\"gridcolor\":\"#506784\",\"linecolor\":\"#506784\",\"minorgridcolor\":\"#506784\",\"startlinecolor\":\"#A2B1C6\"},\"type\":\"carpet\"}],\"table\":[{\"cells\":{\"fill\":{\"color\":\"#506784\"},\"line\":{\"color\":\"rgb(17,17,17)\"}},\"header\":{\"fill\":{\"color\":\"#2a3f5f\"},\"line\":{\"color\":\"rgb(17,17,17)\"}},\"type\":\"table\"}],\"barpolar\":[{\"marker\":{\"line\":{\"color\":\"rgb(17,17,17)\",\"width\":0.5},\"pattern\":{\"fillmode\":\"overlay\",\"size\":10,\"solidity\":0.2}},\"type\":\"barpolar\"}],\"pie\":[{\"automargin\":true,\"type\":\"pie\"}]},\"layout\":{\"autotypenumbers\":\"strict\",\"colorway\":[\"#636efa\",\"#EF553B\",\"#00cc96\",\"#ab63fa\",\"#FFA15A\",\"#19d3f3\",\"#FF6692\",\"#B6E880\",\"#FF97FF\",\"#FECB52\"],\"font\":{\"color\":\"#f2f5fa\"},\"hovermode\":\"closest\",\"hoverlabel\":{\"align\":\"left\"},\"paper_bgcolor\":\"rgb(17,17,17)\",\"plot_bgcolor\":\"rgb(17,17,17)\",\"polar\":{\"bgcolor\":\"rgb(17,17,17)\",\"angularaxis\":{\"gridcolor\":\"#506784\",\"linecolor\":\"#506784\",\"ticks\":\"\"},\"radialaxis\":{\"gridcolor\":\"#506784\",\"linecolor\":\"#506784\",\"ticks\":\"\"}},\"ternary\":{\"bgcolor\":\"rgb(17,17,17)\",\"aaxis\":{\"gridcolor\":\"#506784\",\"linecolor\":\"#506784\",\"ticks\":\"\"},\"baxis\":{\"gridcolor\":\"#506784\",\"linecolor\":\"#506784\",\"ticks\":\"\"},\"caxis\":{\"gridcolor\":\"#506784\",\"linecolor\":\"#506784\",\"ticks\":\"\"}},\"coloraxis\":{\"colorbar\":{\"outlinewidth\":0,\"ticks\":\"\"}},\"colorscale\":{\"sequential\":[[0.0,\"#0d0887\"],[0.1111111111111111,\"#46039f\"],[0.2222222222222222,\"#7201a8\"],[0.3333333333333333,\"#9c179e\"],[0.4444444444444444,\"#bd3786\"],[0.5555555555555556,\"#d8576b\"],[0.6666666666666666,\"#ed7953\"],[0.7777777777777778,\"#fb9f3a\"],[0.8888888888888888,\"#fdca26\"],[1.0,\"#f0f921\"]],\"sequentialminus\":[[0.0,\"#0d0887\"],[0.1111111111111111,\"#46039f\"],[0.2222222222222222,\"#7201a8\"],[0.3333333333333333,\"#9c179e\"],[0.4444444444444444,\"#bd3786\"],[0.5555555555555556,\"#d8576b\"],[0.6666666666666666,\"#ed7953\"],[0.7777777777777778,\"#fb9f3a\"],[0.8888888888888888,\"#fdca26\"],[1.0,\"#f0f921\"]],\"diverging\":[[0,\"#8e0152\"],[0.1,\"#c51b7d\"],[0.2,\"#de77ae\"],[0.3,\"#f1b6da\"],[0.4,\"#fde0ef\"],[0.5,\"#f7f7f7\"],[0.6,\"#e6f5d0\"],[0.7,\"#b8e186\"],[0.8,\"#7fbc41\"],[0.9,\"#4d9221\"],[1,\"#276419\"]]},\"xaxis\":{\"gridcolor\":\"#283442\",\"linecolor\":\"#506784\",\"ticks\":\"\",\"title\":{\"standoff\":15},\"zerolinecolor\":\"#283442\",\"automargin\":true,\"zerolinewidth\":2},\"yaxis\":{\"gridcolor\":\"#283442\",\"linecolor\":\"#506784\",\"ticks\":\"\",\"title\":{\"standoff\":15},\"zerolinecolor\":\"#283442\",\"automargin\":true,\"zerolinewidth\":2},\"scene\":{\"xaxis\":{\"backgroundcolor\":\"rgb(17,17,17)\",\"gridcolor\":\"#506784\",\"linecolor\":\"#506784\",\"showbackground\":true,\"ticks\":\"\",\"zerolinecolor\":\"#C8D4E3\",\"gridwidth\":2},\"yaxis\":{\"backgroundcolor\":\"rgb(17,17,17)\",\"gridcolor\":\"#506784\",\"linecolor\":\"#506784\",\"showbackground\":true,\"ticks\":\"\",\"zerolinecolor\":\"#C8D4E3\",\"gridwidth\":2},\"zaxis\":{\"backgroundcolor\":\"rgb(17,17,17)\",\"gridcolor\":\"#506784\",\"linecolor\":\"#506784\",\"showbackground\":true,\"ticks\":\"\",\"zerolinecolor\":\"#C8D4E3\",\"gridwidth\":2}},\"shapedefaults\":{\"line\":{\"color\":\"#f2f5fa\"}},\"annotationdefaults\":{\"arrowcolor\":\"#f2f5fa\",\"arrowhead\":0,\"arrowwidth\":1},\"geo\":{\"bgcolor\":\"rgb(17,17,17)\",\"landcolor\":\"rgb(17,17,17)\",\"subunitcolor\":\"#506784\",\"showland\":true,\"showlakes\":true,\"lakecolor\":\"rgb(17,17,17)\"},\"title\":{\"x\":0.05},\"updatemenudefaults\":{\"bgcolor\":\"#506784\",\"borderwidth\":0},\"sliderdefaults\":{\"bgcolor\":\"#C8D4E3\",\"borderwidth\":1,\"bordercolor\":\"rgb(17,17,17)\",\"tickwidth\":0},\"mapbox\":{\"style\":\"dark\"}}},\"xaxis\":{\"anchor\":\"y\",\"domain\":[0.0,1.0],\"title\":{\"text\":\"wins\"}},\"yaxis\":{\"anchor\":\"x\",\"domain\":[0.0,1.0],\"title\":{\"text\":\"PTS\"}},\"legend\":{\"title\":{\"text\":\"Team\"},\"tracegroupgap\":0,\"itemsizing\":\"constant\"},\"margin\":{\"t\":60}},                        {\"responsive\": true}                    ).then(function(){\n                            \nvar gd = document.getElementById('09eae39f-1dad-4e2a-a388-661fe0990908');\nvar x = new MutationObserver(function (mutations, observer) {{\n        var display = window.getComputedStyle(gd).display;\n        if (!display || display === 'none') {{\n            console.log([gd, 'removed!']);\n            Plotly.purge(gd);\n            observer.disconnect();\n        }}\n}});\n\n// Listen for the removal of the full notebook cells\nvar notebookContainer = gd.closest('#notebook-container');\nif (notebookContainer) {{\n    x.observe(notebookContainer, {childList: true});\n}}\n\n// Listen for the clearing of the current output cell\nvar outputEl = gd.closest('.output');\nif (outputEl) {{\n    x.observe(outputEl, {childList: true});\n}}\n\n                        })                };                });            </script>        </div>"
     },
     "metadata": {},
     "output_type": "display_data"
    }
   ],
   "source": [
    "ThreePointShotFreq = per[\"3PAr\"]\n",
    "# display(teams)\n",
    "teamPPG = three_pt_atmpts[\"PTS\"]\n",
    "wins = teams[\"wins\"]\n",
    "\n",
    "team_stats = three_pt_atmpts.merge(teams, left_on=\"Team\", right_on=\"Team\")\n",
    "team_stats[\"3PA\"] = team_stats[\"3PA\"]\n",
    "\n",
    "required_columns = [\"Team\", \"Rk_x\", \"G\", \"FG\", \"FGA\", \"FG%\", \"3P\", \"3PA\", \"3P%\", \"2P\",\n",
    "                   \"2PA\", \"2P%\", \"FT\", \"FTA\", \"FT%\", \"AST\", \"TOV\", \"PTS\", \"Rk_y\",\n",
    "                   \"Overall\", \"name\", \"abbrev\", \"wins\", \"losses\"]\n",
    "assert all(column in team_stats.columns for column in required_columns), \"Missing columns\"\n",
    "\n",
    "pxo.scatter(team_stats, x = \"wins\", y = \"PTS\", size = \"3PA\", color = \"Team\")\n"
   ]
  },
  {
   "cell_type": "markdown",
   "id": "54fad226",
   "metadata": {},
   "source": [
    "### Follow up questions:\n",
    "- Is this more telling of the state of the league and the emphasis there is on the three-point shot?"
   ]
  },
  {
   "cell_type": "code",
   "execution_count": 30,
   "id": "8549a2fb4405550c",
   "metadata": {
    "collapsed": false,
    "ExecuteTime": {
     "end_time": "2024-03-09T01:55:28.985896Z",
     "start_time": "2024-03-09T01:55:28.963570Z"
    }
   },
   "outputs": [],
   "source": []
  }
 ],
 "metadata": {
  "kernelspec": {
   "display_name": "Python 3 (ipykernel)",
   "language": "python",
   "name": "python3"
  },
  "language_info": {
   "codemirror_mode": {
    "name": "ipython",
    "version": 3
   },
   "file_extension": ".py",
   "mimetype": "text/x-python",
   "name": "python",
   "nbconvert_exporter": "python",
   "pygments_lexer": "ipython3",
   "version": "3.10.7"
  }
 },
 "nbformat": 4,
 "nbformat_minor": 5
}
